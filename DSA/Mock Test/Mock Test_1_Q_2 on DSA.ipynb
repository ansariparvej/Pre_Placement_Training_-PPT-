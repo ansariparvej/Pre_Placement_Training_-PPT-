{
 "cells": [
  {
   "cell_type": "markdown",
   "id": "33d92798",
   "metadata": {},
   "source": [
    "**First Unique Character in a String**\n",
    "\n",
    "Given a string s, find the first non-repeating character in it and return its index. If it does not exist, return -1.\n",
    "\n",
    "- Example 1:\n",
    "Input: s = \"leetcode\"\n",
    "Output: 0\n",
    "\n",
    "- Example 2:\n",
    "Input: s = \"loveleetcode\"\n",
    "Output: 2\n",
    "\n",
    "- Example 3:\n",
    "Input: s = \"aabb\"\n",
    "Output: -1\n",
    "\n",
    "- Constraints:\n",
    "a. 1 <= s.length <= 10^5\n",
    "b. s consists of only lowercase English letters.\n",
    "\n",
    "**Note:** Create a GitHub file for the solution and add the file link the the answer section below."
   ]
  },
  {
   "cell_type": "code",
   "execution_count": 1,
   "id": "ec8fa78f",
   "metadata": {},
   "outputs": [],
   "source": [
    "def first_uniq_char(s):\n",
    "    char_count = {}\n",
    "\n",
    "    # Count the occurrence of each character in the string\n",
    "    for char in s:\n",
    "        char_count[char] = char_count.get(char, 0) + 1\n",
    "\n",
    "    # Find the index of the first non-repeating character\n",
    "    for i in range(len(s)):\n",
    "        if char_count[s[i]] == 1:\n",
    "            return i\n",
    "\n",
    "    # If no non-repeating character is found, return -1\n",
    "    return -1"
   ]
  },
  {
   "cell_type": "code",
   "execution_count": 2,
   "id": "82d46724",
   "metadata": {},
   "outputs": [
    {
     "data": {
      "text/plain": [
       "0"
      ]
     },
     "execution_count": 2,
     "metadata": {},
     "output_type": "execute_result"
    }
   ],
   "source": [
    "# Example 1:\n",
    "s = \"leetcode\"\n",
    "first_uniq_char(s)"
   ]
  },
  {
   "cell_type": "code",
   "execution_count": 3,
   "id": "2de89d0e",
   "metadata": {},
   "outputs": [
    {
     "data": {
      "text/plain": [
       "2"
      ]
     },
     "execution_count": 3,
     "metadata": {},
     "output_type": "execute_result"
    }
   ],
   "source": [
    "# Example 2:\n",
    "s = \"loveleetcode\"\n",
    "first_uniq_char(s)"
   ]
  },
  {
   "cell_type": "code",
   "execution_count": 4,
   "id": "dab2d609",
   "metadata": {},
   "outputs": [
    {
     "data": {
      "text/plain": [
       "-1"
      ]
     },
     "execution_count": 4,
     "metadata": {},
     "output_type": "execute_result"
    }
   ],
   "source": [
    "# Example 3:\n",
    "s = \"aabb\"\n",
    "first_uniq_char(s)"
   ]
  },
  {
   "cell_type": "code",
   "execution_count": null,
   "id": "85c0bed1",
   "metadata": {},
   "outputs": [],
   "source": []
  }
 ],
 "metadata": {
  "kernelspec": {
   "display_name": "Python 3 (ipykernel)",
   "language": "python",
   "name": "python3"
  },
  "language_info": {
   "codemirror_mode": {
    "name": "ipython",
    "version": 3
   },
   "file_extension": ".py",
   "mimetype": "text/x-python",
   "name": "python",
   "nbconvert_exporter": "python",
   "pygments_lexer": "ipython3",
   "version": "3.9.16"
  }
 },
 "nbformat": 4,
 "nbformat_minor": 5
}
