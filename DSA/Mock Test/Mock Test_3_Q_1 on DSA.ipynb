{
 "cells": [
  {
   "cell_type": "markdown",
   "id": "c5f872ce",
   "metadata": {},
   "source": [
    "- Implement a stack using a list in Python. Include the necessary methods such as push, pop, and is Empty."
   ]
  },
  {
   "cell_type": "code",
   "execution_count": 1,
   "id": "a7c48554",
   "metadata": {},
   "outputs": [],
   "source": [
    "class Stack:\n",
    "    def __init__(self):\n",
    "        self.stack = []\n",
    "\n",
    "    def push(self, item):\n",
    "        self.stack.append(item)\n",
    "\n",
    "    def pop(self):\n",
    "        if not self.is_empty():\n",
    "            return self.stack.pop()\n",
    "        else:\n",
    "            raise IndexError(\"Stack is empty\")\n",
    "\n",
    "    def is_empty(self):\n",
    "        return len(self.stack) == 0"
   ]
  },
  {
   "cell_type": "code",
   "execution_count": 2,
   "id": "27fd2bf3",
   "metadata": {},
   "outputs": [
    {
     "name": "stdout",
     "output_type": "stream",
     "text": [
      "3\n",
      "False\n",
      "2\n",
      "1\n",
      "True\n"
     ]
    }
   ],
   "source": [
    "# Use Case:\n",
    "stack = Stack()\n",
    "stack.push(1)\n",
    "stack.push(2)\n",
    "stack.push(3)\n",
    "print(stack.pop())  # Output: 3\n",
    "print(stack.is_empty())  # Output: False\n",
    "print(stack.pop())  # Output: 2\n",
    "print(stack.pop())  # Output: 1\n",
    "print(stack.is_empty())  # Output: True"
   ]
  },
  {
   "cell_type": "code",
   "execution_count": null,
   "id": "e78bd069",
   "metadata": {},
   "outputs": [],
   "source": []
  }
 ],
 "metadata": {
  "kernelspec": {
   "display_name": "Python 3 (ipykernel)",
   "language": "python",
   "name": "python3"
  },
  "language_info": {
   "codemirror_mode": {
    "name": "ipython",
    "version": 3
   },
   "file_extension": ".py",
   "mimetype": "text/x-python",
   "name": "python",
   "nbconvert_exporter": "python",
   "pygments_lexer": "ipython3",
   "version": "3.9.16"
  }
 },
 "nbformat": 4,
 "nbformat_minor": 5
}
