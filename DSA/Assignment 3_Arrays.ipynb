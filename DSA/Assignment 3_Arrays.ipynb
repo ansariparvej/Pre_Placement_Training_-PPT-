{
 "cells": [
  {
   "cell_type": "markdown",
   "id": "0d28a2be",
   "metadata": {},
   "source": [
    "**Question 1**\n",
    "Given an integer array nums of length n and an integer target,\n",
    "ﬁnd three integers\n",
    "in nums such that the sum is closest to the target.\n",
    "Return the sum of the three integers.\n",
    "You may assume that each input would have exactly one\n",
    "solution.\n",
    "- Example 1:\n",
    "Input: nums = [-1,2,1,-4], target = 1\n",
    "Output: 2\n",
    "- Explanation: The sum that is closest to the target is 2. (-1 + 2 + 1 = 2)."
   ]
  },
  {
   "cell_type": "code",
   "execution_count": 1,
   "id": "51101729",
   "metadata": {},
   "outputs": [
    {
     "name": "stdout",
     "output_type": "stream",
     "text": [
      "2\n"
     ]
    }
   ],
   "source": [
    "def three_sum_closest(nums, target):\n",
    "    nums.sort()\n",
    "    closest_sum = float('inf')\n",
    "\n",
    "    for i in range(len(nums) - 2):\n",
    "        left = i + 1\n",
    "        right = len(nums) - 1\n",
    "\n",
    "        while left < right:\n",
    "            curr_sum = nums[i] + nums[left] + nums[right]\n",
    "            if abs(curr_sum - target) < abs(closest_sum - target):\n",
    "                closest_sum = curr_sum\n",
    "\n",
    "            if curr_sum > target:\n",
    "                right -= 1\n",
    "            elif curr_sum < target:\n",
    "                left += 1\n",
    "            else:\n",
    "                return target\n",
    "\n",
    "    return closest_sum\n",
    "\n",
    "# Use Case:\n",
    "nums = [-1, 2, 1, -4]\n",
    "target = 1\n",
    "result = three_sum_closest(nums, target)\n",
    "print(result)"
   ]
  },
  {
   "cell_type": "markdown",
   "id": "d1bc40f0",
   "metadata": {},
   "source": [
    "**Question 2**\n",
    "Given an array nums of n integers, return an array of all the\n",
    "unique quadruplets\n",
    "[nums[a], nums[b], nums[c], nums[d]] such that:\n",
    "- 0 <= a, b, c, d < n\n",
    "- a, b, c, and d are distinct.\n",
    "- nums[a] + nums[b] + nums[c] + nums[d] == target\n",
    "You may return the answer in any order.\n",
    "- Example 1:\n",
    "Input: nums = [1,0,-1,0,-2,2], target = 0\n",
    "Output: [[-2,-1,1,2],[-2,0,0,2],[-1,0,0,1]]"
   ]
  },
  {
   "cell_type": "code",
   "execution_count": 2,
   "id": "f3f370ac",
   "metadata": {},
   "outputs": [
    {
     "name": "stdout",
     "output_type": "stream",
     "text": [
      "[[-2, -1, 1, 2], [-2, 0, 0, 2], [-1, 0, 0, 1]]\n"
     ]
    }
   ],
   "source": [
    "def four_sum(nums, target):\n",
    "    nums.sort()\n",
    "    result = []\n",
    "\n",
    "    for i in range(len(nums) - 3):\n",
    "        if i > 0 and nums[i] == nums[i - 1]:\n",
    "            continue\n",
    "\n",
    "        for j in range(i + 1, len(nums) - 2):\n",
    "            if j > i + 1 and nums[j] == nums[j - 1]:\n",
    "                continue\n",
    "\n",
    "            left = j + 1\n",
    "            right = len(nums) - 1\n",
    "\n",
    "            while left < right:\n",
    "                curr_sum = nums[i] + nums[j] + nums[left] + nums[right]\n",
    "\n",
    "                if curr_sum == target:\n",
    "                    result.append([nums[i], nums[j], nums[left], nums[right]])\n",
    "                    left += 1\n",
    "                    right -= 1\n",
    "\n",
    "                    while left < right and nums[left] == nums[left - 1]:\n",
    "                        left += 1\n",
    "                    while left < right and nums[right] == nums[right + 1]:\n",
    "                        right -= 1\n",
    "                elif curr_sum < target:\n",
    "                    left += 1\n",
    "                else:\n",
    "                    right -= 1\n",
    "\n",
    "    return result\n",
    "\n",
    "# Use Case:\n",
    "nums = [1, 0, -1, 0, -2, 2]\n",
    "target = 0\n",
    "result = four_sum(nums, target)\n",
    "print(result)"
   ]
  },
  {
   "cell_type": "markdown",
   "id": "9a0e2e66",
   "metadata": {},
   "source": [
    "**Question 3**\n",
    "A permutation of an array of integers is an arrangement of its\n",
    "members into a\n",
    "sequence or linear order.\n",
    "For example, for arr = [1,2,3], the following are all the permutations of arr:\n",
    "[1,2,3], [1,3,2], [2, 1, 3], [2, 3, 1], [3,1,2], [3,2,1].\n",
    "The next permutation of an array of integers is the next\n",
    "lexicographically greater\n",
    "permutation of its integer. More formally, if all the permutations\n",
    "of the array are\n",
    "sorted in one container according to their lexicographical\n",
    "order, then the next\n",
    "permutation of that array is the permutation that follows it in\n",
    "the sorted container.\n",
    "If such an arrangement is not possible, the array must be\n",
    "rearranged as the\n",
    "lowest possible order (i.e., sorted in ascending order).\n",
    "- For example, the next permutation of arr = [1,2,3] is [1,3,2].\n",
    "- Similarly, the next permutation of arr = [2,3,1] is [3,1,2].\n",
    "- While the next permutation of arr = [3,2,1] is [1,2,3] because\n",
    "[3,2,1] does not\n",
    "have a lexicographical larger rearrangement.\n",
    "Given an array of integers nums, ﬁnd the next permutation of\n",
    "nums.\n",
    "The replacement must be in place and use only constant extra\n",
    "memory.\n",
    "- Example 1:\n",
    "Input: nums = [1,2,3]\n",
    "Output: [1,3,2]"
   ]
  },
  {
   "cell_type": "code",
   "execution_count": 3,
   "id": "bf98e417",
   "metadata": {},
   "outputs": [
    {
     "name": "stdout",
     "output_type": "stream",
     "text": [
      "[1, 3, 2]\n"
     ]
    }
   ],
   "source": [
    "def next_permutation(nums):\n",
    "    # Find the first pair of adjacent elements from the right where nums[i-1] < nums[i]\n",
    "    i = len(nums) - 1\n",
    "    while i > 0 and nums[i - 1] >= nums[i]:\n",
    "        i -= 1\n",
    "\n",
    "    if i == 0:\n",
    "        # if no such pair found, reverse the entire array\n",
    "        nums.reverse()\n",
    "    else:\n",
    "        # Swap nums[i-1] with the next greater element from the right\n",
    "        j = len(nums) - 1\n",
    "        while j >= i and nums[j] <= nums[i - 1]:\n",
    "            j -= 1\n",
    "        nums[i - 1], nums[j] = nums[j], nums[i - 1]\n",
    "\n",
    "        # Reverse the subarray from index i to the end of the array\n",
    "        left, right = i, len(nums) - 1\n",
    "        while left < right:\n",
    "            nums[left], nums[right] = nums[right], nums[left]\n",
    "            left += 1\n",
    "            right -= 1\n",
    "\n",
    "    return nums\n",
    "\n",
    "# Use Case:\n",
    "nums = [1, 2, 3]\n",
    "result = next_permutation(nums)\n",
    "print(result)"
   ]
  },
  {
   "cell_type": "markdown",
   "id": "ea71a9dd",
   "metadata": {},
   "source": [
    "**Question 4**\n",
    "Given a sorted array of distinct integers and a target value,\n",
    "return the index if the\n",
    "target is found. If not, return the index where it would be if it\n",
    "were inserted in\n",
    "order.\n",
    "You must write an algorithm with O(log n) runtime complexity.\n",
    "- Example 1:\n",
    "Input: nums = [1,3,5,6], target = 5\n",
    "Output: 2"
   ]
  },
  {
   "cell_type": "code",
   "execution_count": 4,
   "id": "111502db",
   "metadata": {},
   "outputs": [
    {
     "name": "stdout",
     "output_type": "stream",
     "text": [
      "2\n"
     ]
    }
   ],
   "source": [
    "def search_insert(nums, target):\n",
    "    left = 0\n",
    "    right = len(nums) - 1\n",
    "\n",
    "    while left <= right:\n",
    "        mid = left + (right - left) // 2\n",
    "\n",
    "        if nums[mid] == target:\n",
    "            return mid\n",
    "        elif nums[mid] < target:\n",
    "            left = mid + 1\n",
    "        else:\n",
    "            right = mid - 1\n",
    "\n",
    "    return left\n",
    "\n",
    "# Use Case:\n",
    "nums = [1, 3, 5, 6]\n",
    "target = 5\n",
    "result = search_insert(nums, target)\n",
    "print(result)"
   ]
  },
  {
   "cell_type": "markdown",
   "id": "a39a086b",
   "metadata": {},
   "source": [
    "**Question 5**\n",
    "You are given a large integer represented as an integer array\n",
    "digits, where each\n",
    "digits[i] is the ith digit of the integer. The digits are ordered\n",
    "from most signiﬁcant\n",
    "to least signiﬁcant in left-to-right order. The large integer does\n",
    "not contain any\n",
    "leading 0's.\n",
    "Increment the large integer by one and return the resulting\n",
    "array of digits.\n",
    "- Example 1:\n",
    "Input: digits = [1,2,3]\n",
    "Output: [1,2,4]\n",
    "- Explanation: The array represents the integer 123.\n",
    "Incrementing by one gives 123 + 1 = 124.\n",
    "Thus, the result should be [1,2,4]."
   ]
  },
  {
   "cell_type": "code",
   "execution_count": 5,
   "id": "cbf48187",
   "metadata": {},
   "outputs": [
    {
     "name": "stdout",
     "output_type": "stream",
     "text": [
      "[1, 2, 4]\n"
     ]
    }
   ],
   "source": [
    "def plus_one(digits):\n",
    "    carry = 1\n",
    "    for i in range(len(digits) - 1, -1, -1):\n",
    "        digits[i] += carry\n",
    "        if digits[i] < 10:\n",
    "            carry = 0\n",
    "            break\n",
    "        digits[i] = 0\n",
    "\n",
    "    if carry == 1:\n",
    "        digits.insert(0, 1)\n",
    "\n",
    "    return digits\n",
    "\n",
    "# Use Case:\n",
    "digits = [1, 2, 3]\n",
    "result = plus_one(digits)\n",
    "print(result)"
   ]
  },
  {
   "cell_type": "markdown",
   "id": "48de9060",
   "metadata": {},
   "source": [
    "**Question 6**\n",
    "Given a non-empty array of integers nums, every element\n",
    "appears twice except\n",
    "for one. Find that single one.\n",
    "You must implement a solution with a linear runtime\n",
    "complexity and use only\n",
    "constant extra space.\n",
    "- Example 1:\n",
    "Input: nums = [2,2,1]\n",
    "Output: 1"
   ]
  },
  {
   "cell_type": "code",
   "execution_count": 7,
   "id": "0e2ef077",
   "metadata": {},
   "outputs": [
    {
     "name": "stdout",
     "output_type": "stream",
     "text": [
      "1\n"
     ]
    }
   ],
   "source": [
    "def single_number(nums):\n",
    "    result = 0\n",
    "    for num in nums:\n",
    "        result = num\n",
    "    return result\n",
    "\n",
    "# Use Case:\n",
    "nums = [2, 2, 1]\n",
    "result = single_number(nums)\n",
    "print(result)"
   ]
  },
  {
   "cell_type": "markdown",
   "id": "10b09e06",
   "metadata": {},
   "source": [
    "**Question 7**\n",
    "You are given an inclusive range [lower, upper] and a sorted You are given an inclusive range [lower, upper] and a sorted\n",
    "unique integer array\n",
    "nums, where all elements are within the inclusive range.\n",
    "A number x is considered missing if x is in the range [lower,\n",
    "upper] and x is not in\n",
    "nums.\n",
    "Return the shortest sorted list of ranges that exactly covers all\n",
    "the missing\n",
    "numbers. That is, no element of nums is included in any of the\n",
    "ranges, and each\n",
    "missing number is covered by one of the ranges.\n",
    "- Example 1:\n",
    "Input: nums = [0,1,3,50,75], lower = 0, upper = 99\n",
    "Output: [[2,2],[4,49],[51,74],[76,99]]\n",
    "- Explanation: The ranges are:\n",
    "[2,2]\n",
    "[4,49]\n",
    "[51,74]\n",
    "[76,99]"
   ]
  },
  {
   "cell_type": "code",
   "execution_count": 10,
   "id": "b12453d5",
   "metadata": {},
   "outputs": [
    {
     "name": "stdout",
     "output_type": "stream",
     "text": [
      "['2', '4 to 49', '51 to 74', '76 to 99']\n"
     ]
    }
   ],
   "source": [
    "def find_missing_ranges(nums, lower, upper):\n",
    "    start = lower\n",
    "    result = []\n",
    "    for num in nums:\n",
    "        if num > start:\n",
    "            result.append(get_range(start, num - 1))\n",
    "        start = num + 1\n",
    "\n",
    "    if start <= upper:\n",
    "        result.append(get_range(start, upper))\n",
    "\n",
    "    return result\n",
    "\n",
    "\n",
    "def get_range(start, end):\n",
    "    if start == end:\n",
    "        return str(start)\n",
    "    else:\n",
    "        return str(start) + \" to \" + str(end)\n",
    "\n",
    "# Use Case:\n",
    "nums = [0, 1, 3, 50, 75]\n",
    "lower = 0\n",
    "upper = 99\n",
    "result = find_missing_ranges(nums, lower, upper)\n",
    "print(result)"
   ]
  },
  {
   "cell_type": "markdown",
   "id": "d90e5121",
   "metadata": {},
   "source": [
    "**Question 8**\n",
    "Given an array of meeting time intervals where intervals[i] =\n",
    "[starti, endi],\n",
    "determine if a person could attend all meetings.\n",
    "- Example 1:\n",
    "Input: intervals = [[0,30],[5,10],[15,20]]\n",
    "Output: false"
   ]
  },
  {
   "cell_type": "code",
   "execution_count": 11,
   "id": "87914d33",
   "metadata": {},
   "outputs": [
    {
     "name": "stdout",
     "output_type": "stream",
     "text": [
      "False\n"
     ]
    }
   ],
   "source": [
    "def can_attend_meetings(intervals):\n",
    "    intervals.sort(key=lambda x: x[0])\n",
    "    for i in range(1, len(intervals)):\n",
    "        if intervals[i][0] < intervals[i - 1][1]:\n",
    "            return False\n",
    "    return True\n",
    "\n",
    "# Use Case:\n",
    "intervals = [[0, 30], [5, 10], [15, 20]]\n",
    "result = can_attend_meetings(intervals)\n",
    "print(result)\n"
   ]
  },
  {
   "cell_type": "code",
   "execution_count": null,
   "id": "a38ecdee",
   "metadata": {},
   "outputs": [],
   "source": []
  }
 ],
 "metadata": {
  "kernelspec": {
   "display_name": "Python 3 (ipykernel)",
   "language": "python",
   "name": "python3"
  },
  "language_info": {
   "codemirror_mode": {
    "name": "ipython",
    "version": 3
   },
   "file_extension": ".py",
   "mimetype": "text/x-python",
   "name": "python",
   "nbconvert_exporter": "python",
   "pygments_lexer": "ipython3",
   "version": "3.9.16"
  }
 },
 "nbformat": 4,
 "nbformat_minor": 5
}
