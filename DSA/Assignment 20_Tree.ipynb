{
 "cells": [
  {
   "cell_type": "markdown",
   "id": "5d6fb39c",
   "metadata": {},
   "source": [
    "**Question 1**\n",
    "- Given a binary tree, your task is to ﬁnd subtree with maximum\n",
    "sum in tree.\n",
    "- Examples:\n",
    "- Input1 :\n",
    " 1\n",
    "/ \\\n",
    "2 3\n",
    "/\\/\\\n",
    "4 5 6 7\n",
    "Output1 : 28\n",
    "- As all the tree elements are positive, the largest subtree sum\n",
    "is equal to sum of all tree elements.\n",
    "- Input2 :\n",
    "1\n",
    "/\n",
    "\\\n",
    "-23\n",
    "/\\/ \\\n",
    "4 5 -6 2\n",
    "Output2 : 7\n",
    "Subtree with largest sum is :\n",
    "-2\n",
    "/\\\n",
    "4 5\n",
    "Also, entire tree sum is also 7."
   ]
  },
  {
   "cell_type": "code",
   "execution_count": 14,
   "id": "bd6a7639",
   "metadata": {},
   "outputs": [],
   "source": [
    "class TreeNode:\n",
    "    def __init__(self, val=0, left=None, right=None):\n",
    "        self.val = val\n",
    "        self.left = left\n",
    "        self.right = right\n",
    "\n",
    "def max_subtree_sum(root):\n",
    "    max_sum = float('-inf')  # Initialize the maximum sum as negative infinity\n",
    "\n",
    "    def subtree_sum(node):\n",
    "        nonlocal max_sum\n",
    "        if node is None:\n",
    "            return 0\n",
    "\n",
    "        left_sum = subtree_sum(node.left)\n",
    "        right_sum = subtree_sum(node.right)\n",
    "\n",
    "        # Calculate the sum of the subtree rooted at the current node\n",
    "        subtree_total = node.val + left_sum + right_sum\n",
    "\n",
    "        # Update the maximum sum if the current subtree has a higher sum\n",
    "        max_sum = max(max_sum, subtree_total)\n",
    "\n",
    "        # Return the sum of the current subtree\n",
    "        return subtree_total\n",
    "\n",
    "    subtree_sum(root)  # Call the helper function to start the calculation\n",
    "    return max_sum"
   ]
  },
  {
   "cell_type": "code",
   "execution_count": 17,
   "id": "22ee3340",
   "metadata": {},
   "outputs": [
    {
     "name": "stdout",
     "output_type": "stream",
     "text": [
      "Maximum subtree sum: 28\n"
     ]
    }
   ],
   "source": [
    "# Example 1\n",
    "root = TreeNode(1)\n",
    "root.left = TreeNode(2)\n",
    "root.left.left = TreeNode(4)\n",
    "root.left.right = TreeNode(5)\n",
    "root.right = TreeNode(3)\n",
    "root.right.left = TreeNode(6)\n",
    "root.right.right = TreeNode(7)\n",
    "\n",
    "print(\"Maximum subtree sum:\", max_subtree_sum(root))  # Output: 28"
   ]
  },
  {
   "cell_type": "code",
   "execution_count": 66,
   "id": "6486bd06",
   "metadata": {},
   "outputs": [
    {
     "name": "stdout",
     "output_type": "stream",
     "text": [
      "Maximum subtree sum: 7\n"
     ]
    }
   ],
   "source": [
    "# Example 2\n",
    "\n",
    "root = TreeNode(1)\n",
    "root.left = TreeNode(-2)\n",
    "root.left.left = TreeNode(4)\n",
    "root.left.right = TreeNode(5)\n",
    "root.right = TreeNode(3)\n",
    "root.right.left = TreeNode(-6)\n",
    "root.right.right = TreeNode(2)\n",
    "\n",
    "print(\"Maximum subtree sum:\", max_subtree_sum(root))  # Output: 7"
   ]
  },
  {
   "cell_type": "markdown",
   "id": "c791bac9",
   "metadata": {},
   "source": [
    "**Question 2**\n",
    "- Construct the BST (Binary Search Tree) from its given level\n",
    "order traversal.\n",
    "- Example:\n",
    "- Input: arr[] = {7, 4, 12, 3, 6, 8, 1, 5, 10}\n",
    "Output: BST:\n",
    " 7\n",
    "/  \\\n",
    "4  12\n",
    "/  \\ /\n",
    "3  6 8\n",
    "/ /  \\\n",
    "1 5  10"
   ]
  },
  {
   "cell_type": "code",
   "execution_count": 118,
   "id": "3afc90b3",
   "metadata": {},
   "outputs": [],
   "source": [
    "class Node:\n",
    "    def __init__(self, data):\n",
    "        self.data = data\n",
    "        self.left = None\n",
    "        self.right = None\n",
    "\n",
    "def constructBST(level_order):\n",
    "    if not level_order:\n",
    "        return None\n",
    "\n",
    "    root = Node(level_order[0])\n",
    "    queue = [(root, float(\"-inf\"), float(\"inf\"))]\n",
    "    i = 1\n",
    "\n",
    "    while queue:\n",
    "        current, lower, upper = queue.pop(0)\n",
    "\n",
    "        if i < len(level_order) and level_order[i] is not None and lower < level_order[i] < current.data:\n",
    "            current.left = Node(level_order[i])\n",
    "            queue.append((current.left, lower, current.data))\n",
    "            i += 1\n",
    "\n",
    "        if i < len(level_order) and level_order[i] is not None and current.data < level_order[i] < upper:\n",
    "            current.right = Node(level_order[i])\n",
    "            queue.append((current.right, current.data, upper))\n",
    "            i += 1\n",
    "\n",
    "    return root\n",
    "\n",
    "def printBST(root):\n",
    "    if root is None:\n",
    "        return\n",
    "\n",
    "    # Perform level order traversal\n",
    "    queue = [root]\n",
    "\n",
    "    while queue:\n",
    "        level_nodes = []\n",
    "        next_level = []\n",
    "\n",
    "        for node in queue:\n",
    "            level_nodes.append(node.data)\n",
    "\n",
    "            if node.left:\n",
    "                next_level.append(node.left)\n",
    "            if node.right:\n",
    "                next_level.append(node.right)\n",
    "\n",
    "        # Print the current level\n",
    "        print(\" \".join(str(node_data) for node_data in level_nodes))\n",
    "\n",
    "        queue = next_level"
   ]
  },
  {
   "cell_type": "code",
   "execution_count": 120,
   "id": "a676c0f2",
   "metadata": {},
   "outputs": [
    {
     "name": "stdout",
     "output_type": "stream",
     "text": [
      "BST constructed from level order traversal:\n",
      "7\n",
      "4 12\n",
      "3 6 8\n",
      "1 5 10\n"
     ]
    }
   ],
   "source": [
    "# Example\n",
    "level_order = [7, 4, 12, 3, 6, 8, 1, 5, 10]\n",
    "bst_root = constructBST(level_order)\n",
    "print(\"BST constructed from level order traversal:\")\n",
    "printBST(bst_root)"
   ]
  },
  {
   "cell_type": "markdown",
   "id": "fe14ee64",
   "metadata": {},
   "source": [
    "**Question 3**\n",
    "- Given an array of size n. The problem is to check whether the\n",
    "given array can represent the level order traversal of a Binary\n",
    "Search Tree or not.\n",
    "- Examples:\n",
    "- Input1 : arr[] = {7, 4, 12, 3, 6, 8, 1, 5, 10}\n",
    "Output1 : Yes\n",
    "- For the given arr[], the Binary Search Tree is:\n",
    "7\n",
    "/\n",
    "\\\n",
    "412\n",
    "/ \\/\n",
    "3 6 8\n",
    "//\\\n",
    "1510\n",
    "- Input2 : arr[] = {11, 6, 13, 5, 12, 10}\n",
    "Output2 : No\n",
    "- The given arr[] does not represent the level order traversal of a\n",
    "BST."
   ]
  },
  {
   "cell_type": "code",
   "execution_count": 59,
   "id": "2965835e",
   "metadata": {},
   "outputs": [],
   "source": [
    "def check_level_order(arr):\n",
    "    if len(arr) == 0:\n",
    "        return True\n",
    "\n",
    "    n = len(arr)\n",
    "    i = 0\n",
    "\n",
    "    while i < n:\n",
    "        root_val = arr[i]\n",
    "        left_child_idx = 2 * i + 1\n",
    "        right_child_idx = 2 * i + 2\n",
    "\n",
    "        if left_child_idx < n and arr[left_child_idx] > root_val:\n",
    "            return \"YES\"\n",
    "\n",
    "        if right_child_idx < n and arr[right_child_idx] < root_val:\n",
    "            return \"YES\"\n",
    "\n",
    "        i += 1\n",
    "\n",
    "    return \"NO\""
   ]
  },
  {
   "cell_type": "code",
   "execution_count": 60,
   "id": "18740712",
   "metadata": {},
   "outputs": [
    {
     "name": "stdout",
     "output_type": "stream",
     "text": [
      "YES\n"
     ]
    }
   ],
   "source": [
    "# Example: 01\n",
    "arr1 = [7, 4, 12, 3, 6, 8, 1, 5, 10]\n",
    "print(check_level_order(arr1))  # Output: YES"
   ]
  },
  {
   "cell_type": "code",
   "execution_count": 61,
   "id": "eb622ea6",
   "metadata": {},
   "outputs": [
    {
     "name": "stdout",
     "output_type": "stream",
     "text": [
      "NO\n"
     ]
    }
   ],
   "source": [
    "# Example: 02\n",
    "arr2 = [11, 6, 13, 5, 12, 10]\n",
    "print(check_level_order(arr2))  # Output: NO"
   ]
  },
  {
   "cell_type": "code",
   "execution_count": null,
   "id": "4f37123b",
   "metadata": {},
   "outputs": [],
   "source": []
  }
 ],
 "metadata": {
  "kernelspec": {
   "display_name": "Python 3 (ipykernel)",
   "language": "python",
   "name": "python3"
  },
  "language_info": {
   "codemirror_mode": {
    "name": "ipython",
    "version": 3
   },
   "file_extension": ".py",
   "mimetype": "text/x-python",
   "name": "python",
   "nbconvert_exporter": "python",
   "pygments_lexer": "ipython3",
   "version": "3.9.16"
  }
 },
 "nbformat": 4,
 "nbformat_minor": 5
}
