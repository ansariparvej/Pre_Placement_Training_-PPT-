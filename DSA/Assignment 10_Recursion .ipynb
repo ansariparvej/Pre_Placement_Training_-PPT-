{
 "cells": [
  {
   "cell_type": "markdown",
   "id": "5d6fb39c",
   "metadata": {},
   "source": [
    "**Question 1**\n",
    "- Given an integer n , return true if it is a power of three.\n",
    "Otherwise, return false .\n",
    "An integer n is a power of three, if there exists an\n",
    "integer x such that n == 3x .\n",
    "- Example 1:\n",
    "Input: n = 27 Output: true Explanation: 27 = 33\n",
    "- Example 2:\n",
    "Input: n = 0 Output: false Explanation: There is\n",
    "no x where 3x = 0.\n",
    "- Example 3:\n",
    "Input: n = -1 Output: false Explanation: There i\n",
    "s no x where 3x = (-1)."
   ]
  },
  {
   "cell_type": "code",
   "execution_count": 1,
   "id": "bd6a7639",
   "metadata": {},
   "outputs": [
    {
     "name": "stdout",
     "output_type": "stream",
     "text": [
      "True\n",
      "False\n",
      "False\n"
     ]
    }
   ],
   "source": [
    "def is_power_of_three(n):\n",
    "    if n <= 0:\n",
    "        return False\n",
    "\n",
    "    while n % 3 == 0:\n",
    "        n //= 3\n",
    "\n",
    "    return n == 1\n",
    "\n",
    "# Given Use Case:\n",
    "\n",
    "print(is_power_of_three(27))  # Output: True\n",
    "print(is_power_of_three(0))   # Output: False\n",
    "print(is_power_of_three(-1))  # Output: False"
   ]
  },
  {
   "cell_type": "markdown",
   "id": "c791bac9",
   "metadata": {},
   "source": [
    "**Question 2**\n",
    "- You have a list arr of all integers in the range [1,\n",
    "n] sorted in a strictly increasing order. Apply the following\n",
    "algorithm on arr :\n",
    "- Starting from left to right, remove the ﬁrst number and\n",
    "every other number afterward until you reach the end of\n",
    "the list.\n",
    "- Repeat the previous step again, but this time from right to\n",
    "left, remove the rightmost number and every other number from the remaining numbers.\n",
    "- Keep repeating the steps again, alternating left to right and\n",
    "right to left, until a single number remains.\n",
    "Given the integer n , return the last number that remains\n",
    "in arr .\n",
    "- Example 1:\n",
    "Input: n = 9 Output: 6 Explanation: arr = [1, 2,\n",
    "3, 4,5, 6,7, 8,9] arr = [2,4, 6,8] arr = [2, 6]\n",
    "arr = [6]\n",
    "- Example 2:\n",
    "Input: n = 1 Output: 1"
   ]
  },
  {
   "cell_type": "code",
   "execution_count": 2,
   "id": "eca3ce83",
   "metadata": {},
   "outputs": [
    {
     "name": "stdout",
     "output_type": "stream",
     "text": [
      "6\n",
      "1\n"
     ]
    }
   ],
   "source": [
    "def last_remaining(n: int) -> int:\n",
    "    left_to_right = True\n",
    "    remaining = n\n",
    "    step = 1\n",
    "    head = 1\n",
    "\n",
    "    while remaining > 1:\n",
    "        if left_to_right or remaining % 2 == 1:\n",
    "            head += step\n",
    "\n",
    "        remaining //= 2\n",
    "        step *= 2\n",
    "        left_to_right = not left_to_right\n",
    "\n",
    "    return head\n",
    "\n",
    "# Testing the examples from the question\n",
    "print(last_remaining(9))  # Output: 6\n",
    "print(last_remaining(1))  # Output: 1"
   ]
  },
  {
   "cell_type": "markdown",
   "id": "fe14ee64",
   "metadata": {},
   "source": [
    "**Question 3**\n",
    "- Given a set represented as a string, write a recursive code to\n",
    "print all subsets of it. The subsets can be printed in any order.\n",
    "- Example 1:\n",
    "Input : set = “abc”\n",
    "Output : { “”, “a”, “b”, “c”, “ab”, “ac”, “bc”, “abc”}\n",
    "- Example 2:\n",
    "Input : set = “abcd”\n",
    "Output : { “”, “a” ,”ab” ,”abc” ,”abcd”, “abd” ,”ac” ,”acd”, “ad” ,”b”,\n",
    "“bc” ,”bcd” ,”bd” ,”c” ,”cd” ,”d” }"
   ]
  },
  {
   "cell_type": "code",
   "execution_count": 3,
   "id": "2965835e",
   "metadata": {},
   "outputs": [
    {
     "name": "stdout",
     "output_type": "stream",
     "text": [
      "abc\n",
      "ab\n",
      "ac\n",
      "a\n",
      "bc\n",
      "b\n",
      "c\n",
      "\n",
      "abcd\n",
      "abc\n",
      "abd\n",
      "ab\n",
      "acd\n",
      "ac\n",
      "ad\n",
      "a\n",
      "bcd\n",
      "bc\n",
      "bd\n",
      "b\n",
      "cd\n",
      "c\n",
      "d\n",
      "\n"
     ]
    }
   ],
   "source": [
    "def print_subsets(s: str, current_subset: str = \"\", index: int = 0):\n",
    "    if index == len(s):\n",
    "        print(current_subset)\n",
    "        return\n",
    "\n",
    "    # Include the current character\n",
    "    print_subsets(s, current_subset + s[index], index + 1)\n",
    "\n",
    "    # Exclude the current character\n",
    "    print_subsets(s, current_subset, index + 1)\n",
    "\n",
    "# Given Use Case:\n",
    "print_subsets(\"abc\")\n",
    "print_subsets(\"abcd\")"
   ]
  },
  {
   "cell_type": "markdown",
   "id": "c3791e5a",
   "metadata": {},
   "source": [
    "**Question 4**\n",
    "- Given a string calculate length of the string using recursion.\n",
    "- Examples:\n",
    "- Input : str = \"abcd\" Output :4 \n",
    "- Input : str = \"GE\n",
    "EKSFORGEEKS\" Output :13"
   ]
  },
  {
   "cell_type": "code",
   "execution_count": 4,
   "id": "7891cbcc",
   "metadata": {},
   "outputs": [
    {
     "name": "stdout",
     "output_type": "stream",
     "text": [
      "4\n",
      "13\n"
     ]
    }
   ],
   "source": [
    "def calculate_length(s: str) -> int:\n",
    "    if s == \"\":\n",
    "        return 0\n",
    "    else:\n",
    "        return 1 + calculate_length(s[1:])\n",
    "\n",
    "# Given Use Case:\n",
    "print(calculate_length(\"abcd\"))  # Output: 4\n",
    "print(calculate_length(\"GEEKSFORGEEKS\"))  # Output: 13"
   ]
  },
  {
   "cell_type": "markdown",
   "id": "5c3a6544",
   "metadata": {},
   "source": [
    "**Question 5**\n",
    "- We are given a string S, we need to ﬁnd count of all\n",
    "contiguous substrings starting and ending with same\n",
    "character.\n",
    "- Examples :\n",
    "- Input : S = \"abcab\" Output : 7 There are 15 substrings of \"abcab\" a, ab, abc, abca, abcab, b, b\n",
    "c, bca bcab, c, ca, cab, a, ab, b Out of the above substrings, there are 7 substrings : a, abca,\n",
    "b, bcab, c, a and b. \n",
    "- Input : S = \"aba\" Output :\n",
    "4 The substrings are a, b, a and aba"
   ]
  },
  {
   "cell_type": "code",
   "execution_count": 5,
   "id": "4da2e58c",
   "metadata": {},
   "outputs": [
    {
     "name": "stdout",
     "output_type": "stream",
     "text": [
      "7\n",
      "4\n"
     ]
    }
   ],
   "source": [
    "def count_contiguous_substrings(S: str) -> int:\n",
    "    count = 0\n",
    "    n = len(S)\n",
    "\n",
    "    for i in range(n):\n",
    "        j = i\n",
    "        while j < n:\n",
    "            if S[i] == S[j]:\n",
    "                count += 1\n",
    "            j += 1\n",
    "\n",
    "    return count\n",
    "\n",
    "# Testing the examples from the question\n",
    "print(count_contiguous_substrings(\"abcab\"))  # Output: 7\n",
    "print(count_contiguous_substrings(\"aba\"))  # Output: 4"
   ]
  },
  {
   "cell_type": "markdown",
   "id": "a8b91bd5",
   "metadata": {},
   "source": [
    "**Question 6**\n",
    "- The tower of Hanoi is a famous puzzle where we have three\n",
    "rods and N disks. The objective of the puzzle is to move the\n",
    "entire stack to another rod. You are given the number of\n",
    "discs N. Initially, these discs are in the rod 1. You need to print\n",
    "all the steps of discs movement so that all the discs reach the\n",
    "3rd rod. Also, you need to ﬁnd the total moves.Note: The discs\n",
    "are arranged such that the top disc is numbered 1 and\n",
    "the bottom-most disc is numbered N. Also, all the discs\n",
    "have diﬀerent sizes and a bigger disc cannot be put on the\n",
    "top of a smaller disc. Refer the provided link to get a better\n",
    "clarity about the puzzle.\n",
    "- Example 1:\n",
    "Input: N = 2 Output: move disk 1 from rod 1 to r\n",
    "od 2 move disk 2 from rod 1 to rod 3 move disk 1\n",
    "from rod 2 to rod 3 3 Explanation:For N=2 , step\n",
    "s will be as follows in the example and total 3 steps will be taken.\n",
    "- Example 2:\n",
    "Input: N = 3 Output: move disk 1 from rod 1 to r\n",
    "od 3 move disk 2 from rod 1 to rod 2 move disk 1\n",
    "from rod 3 to rod 2 move disk 3 from rod 1 to ro\n",
    "d 3 move disk 1 from rod 2 to rod 1 move disk 2\n",
    "from rod 2 to rod 3 move disk 1 from rod 1 to ro\n",
    "d 3 7 Explanation:For N=3 , steps will be as fol\n",
    "lows in the example and total 7 steps will be ta\n",
    "ken."
   ]
  },
  {
   "cell_type": "code",
   "execution_count": 6,
   "id": "454ace0e",
   "metadata": {},
   "outputs": [
    {
     "name": "stdout",
     "output_type": "stream",
     "text": [
      "Move disk 1 from rod 1 to rod 2\n",
      "Move disk 2 from rod 1 to rod 3\n",
      "Move disk 1 from rod 2 to rod 3\n",
      "Total moves: 3\n",
      "Move disk 1 from rod 1 to rod 3\n",
      "Move disk 2 from rod 1 to rod 2\n",
      "Move disk 1 from rod 3 to rod 2\n",
      "Move disk 3 from rod 1 to rod 3\n",
      "Move disk 1 from rod 2 to rod 1\n",
      "Move disk 2 from rod 2 to rod 3\n",
      "Move disk 1 from rod 1 to rod 3\n",
      "Total moves: 7\n"
     ]
    }
   ],
   "source": [
    "def tower_of_hanoi(n: int, source: str, destination: str, auxiliary: str) -> int:\n",
    "    if n == 1:\n",
    "        print(\"Move disk 1 from\", source, \"to\", destination)\n",
    "        return 1\n",
    "\n",
    "    moves = 0\n",
    "\n",
    "    moves += tower_of_hanoi(n - 1, source, auxiliary, destination)\n",
    "    print(\"Move disk\", n, \"from\", source, \"to\", destination)\n",
    "    moves += 1\n",
    "    moves += tower_of_hanoi(n - 1, auxiliary, destination, source)\n",
    "\n",
    "    return moves\n",
    "\n",
    "# Given Use Cases:\n",
    "N = 2\n",
    "print(\"Total moves:\", tower_of_hanoi(N, \"rod 1\", \"rod 3\", \"rod 2\"))\n",
    "\n",
    "N = 3\n",
    "print(\"Total moves:\", tower_of_hanoi(N, \"rod 1\", \"rod 3\", \"rod 2\"))\n"
   ]
  },
  {
   "cell_type": "markdown",
   "id": "ebdd143a",
   "metadata": {},
   "source": [
    "**Question 7**\n",
    "- Given a string str, the task is to print all the permutations\n",
    "of str. A permutation is an arrangement of all or part of a set\n",
    "of objects, with regard to the order of the arrangement. For\n",
    "instance, the words ‘bat’ and ‘tab’ represents two distinct\n",
    "permutation (or arrangements) of a similar three letter word.\n",
    "- Examples:\n",
    "- Input: str = “cd”\n",
    "Output: cd dc\n",
    "- Input: str = “abb”\n",
    "Output: abb abb bab bba bab bba"
   ]
  },
  {
   "cell_type": "code",
   "execution_count": 7,
   "id": "717d830f",
   "metadata": {},
   "outputs": [
    {
     "name": "stdout",
     "output_type": "stream",
     "text": [
      "1. Output for cd:\n",
      "cd dc \n",
      "2. Output for abb:\n",
      "abb abb bab bba bba bab "
     ]
    }
   ],
   "source": [
    "def permute(s: str) -> None:\n",
    "    n = len(s)\n",
    "    # Convert the string to a list of characters\n",
    "    chars = list(s)\n",
    "    # Create an empty list to store permutations\n",
    "    permutations = []\n",
    "\n",
    "    def backtrack(start: int):\n",
    "        # Base case: If we have reached the end of the string, add the current permutation to the list\n",
    "        if start == n:\n",
    "            permutations.append(\"\".join(chars))\n",
    "        else:\n",
    "            # Recursive case: Generate permutations by swapping characters at each position\n",
    "            for i in range(start, n):\n",
    "                # Swap the characters\n",
    "                chars[start], chars[i] = chars[i], chars[start]\n",
    "                # Recurse on the next position\n",
    "                backtrack(start + 1)\n",
    "                # Undo the swap (backtrack)\n",
    "                chars[start], chars[i] = chars[i], chars[start]\n",
    "\n",
    "    # Start the backtracking process from the first position\n",
    "    backtrack(0)\n",
    "\n",
    "    # Print the permutations\n",
    "    for perm in permutations:\n",
    "        print(perm, end=\" \")\n",
    "\n",
    "# Given Use Case:\n",
    "print(\"1. Output for cd:\")\n",
    "permute(\"cd\")\n",
    "print( )\n",
    "print(\"2. Output for abb:\")\n",
    "permute(\"abb\")"
   ]
  },
  {
   "cell_type": "markdown",
   "id": "f59efeb4",
   "metadata": {},
   "source": [
    "**Question 8**\n",
    "- Given a string, count total number of consonants in it. A\n",
    "consonant is an English alphabet character that is not vowel\n",
    "(a, e, i, o and u). Examples of constants are b, c, d, f, and g.\n",
    "- Examples :\n",
    "- Input : abcde Output : 3 There are three conson\n",
    "ants b, c and d. \n",
    "- Input : geeksforgeeks portal Output : 12"
   ]
  },
  {
   "cell_type": "code",
   "execution_count": 8,
   "id": "c600d7de",
   "metadata": {},
   "outputs": [
    {
     "name": "stdout",
     "output_type": "stream",
     "text": [
      "3\n",
      "12\n"
     ]
    }
   ],
   "source": [
    "def count_consonants(s: str) -> int:\n",
    "    consonants = \"bcdfghjklmnpqrstvwxyzBCDFGHJKLMNPQRSTVWXYZ\"\n",
    "    count = 0\n",
    "\n",
    "    for char in s:\n",
    "        if char in consonants:\n",
    "            count += 1\n",
    "\n",
    "    return count\n",
    "\n",
    "# Given Use Case:\n",
    "print(count_consonants(\"abcde\"))  # Output: 3\n",
    "print(count_consonants(\"geeksforgeeks portal\"))  # Output: 12"
   ]
  },
  {
   "cell_type": "code",
   "execution_count": null,
   "id": "e9a69bec",
   "metadata": {},
   "outputs": [],
   "source": []
  }
 ],
 "metadata": {
  "kernelspec": {
   "display_name": "Python 3 (ipykernel)",
   "language": "python",
   "name": "python3"
  },
  "language_info": {
   "codemirror_mode": {
    "name": "ipython",
    "version": 3
   },
   "file_extension": ".py",
   "mimetype": "text/x-python",
   "name": "python",
   "nbconvert_exporter": "python",
   "pygments_lexer": "ipython3",
   "version": "3.9.16"
  }
 },
 "nbformat": 4,
 "nbformat_minor": 5
}
