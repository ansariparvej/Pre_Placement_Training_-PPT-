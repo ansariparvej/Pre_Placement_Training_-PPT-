{
 "cells": [
  {
   "cell_type": "markdown",
   "id": "5d6fb39c",
   "metadata": {},
   "source": [
    "**Question 1**\n",
    "- Given an integer n , return true if it is a power of two.\n",
    "Otherwise, return false .\n",
    "An integer n is a power of two, if there exists an\n",
    "integer x such that n == 2x .\n",
    "- Example 1:\n",
    "Input: n = 1\n",
    "Output: true\n",
    "- Example 2:\n",
    "Input: n = 16\n",
    "Output: true\n",
    "- Example 3:\n",
    "Input: n = 3\n",
    "Output: false"
   ]
  },
  {
   "cell_type": "code",
   "execution_count": 1,
   "id": "bd6a7639",
   "metadata": {},
   "outputs": [
    {
     "name": "stdout",
     "output_type": "stream",
     "text": [
      "True\n",
      "True\n",
      "False\n"
     ]
    }
   ],
   "source": [
    "def is_power_of_two(n):\n",
    "    if n == 1:\n",
    "        return True\n",
    "    elif n <= 0 or n % 2 != 0:\n",
    "        return False\n",
    "    else:\n",
    "        return is_power_of_two(n // 2)\n",
    "\n",
    "# Given Use Case:\n",
    "print(is_power_of_two(1))  # Output: True\n",
    "print(is_power_of_two(16))  # Output: True\n",
    "print(is_power_of_two(3))  # Output: False"
   ]
  },
  {
   "cell_type": "markdown",
   "id": "c791bac9",
   "metadata": {},
   "source": [
    "**Question 2**\n",
    "- Given a number n, ﬁnd the sum of the ﬁrst natural numbers.\n",
    "- Example 1:\n",
    "Input: n = 3\n",
    "Output: 6\n",
    "- Example 2:\n",
    "Input : 5\n",
    "Output : 15"
   ]
  },
  {
   "cell_type": "code",
   "execution_count": 2,
   "id": "eca3ce83",
   "metadata": {},
   "outputs": [
    {
     "name": "stdout",
     "output_type": "stream",
     "text": [
      "6\n",
      "15\n"
     ]
    }
   ],
   "source": [
    "def sum_of_natural_numbers(n):\n",
    "    if n == 1:\n",
    "        return 1\n",
    "    else:\n",
    "        return n + sum_of_natural_numbers(n - 1)\n",
    "\n",
    "# Given Use Case:\n",
    "print(sum_of_natural_numbers(3))  # Output: 6\n",
    "print(sum_of_natural_numbers(5))  # Output: 15"
   ]
  },
  {
   "cell_type": "markdown",
   "id": "fe14ee64",
   "metadata": {},
   "source": [
    "**Question 3**\n",
    "- Given a positive integer, N. Find the factorial of N.\n",
    "- Example 1:\n",
    "Input: N = 5\n",
    "Output: 120\n",
    "- Example 2:\n",
    "Input: N = 4\n",
    "Output: 24"
   ]
  },
  {
   "cell_type": "code",
   "execution_count": 3,
   "id": "2965835e",
   "metadata": {},
   "outputs": [
    {
     "name": "stdout",
     "output_type": "stream",
     "text": [
      "120\n",
      "24\n"
     ]
    }
   ],
   "source": [
    "def factorial(N):\n",
    "    if N == 0 or N == 1:\n",
    "        return 1\n",
    "    else:\n",
    "        return N * factorial(N - 1)\n",
    "\n",
    "# Given Use Case:\n",
    "print(factorial(5))  # Output: 120\n",
    "print(factorial(4))  # Output: 24"
   ]
  },
  {
   "cell_type": "markdown",
   "id": "c3791e5a",
   "metadata": {},
   "source": [
    "**Question 4**\n",
    "- Given a number N and a power P, the task is to ﬁnd the\n",
    "exponent of this number raised to the given power, i.e. N^P.\n",
    "- Example 1 :\n",
    "Input: N = 5, P = 2\n",
    "Output: 25\n",
    "- Example 2 :\n",
    "Input: N = 2, P = 5\n",
    "Output: 32"
   ]
  },
  {
   "cell_type": "code",
   "execution_count": 4,
   "id": "7891cbcc",
   "metadata": {},
   "outputs": [
    {
     "name": "stdout",
     "output_type": "stream",
     "text": [
      "25\n",
      "32\n"
     ]
    }
   ],
   "source": [
    "def power(N, P):\n",
    "    if P == 0:\n",
    "        return 1\n",
    "    else:\n",
    "        return N * power(N, P - 1)\n",
    "\n",
    "# Given Use Case:\n",
    "print(power(5, 2))  # Output: 25\n",
    "print(power(2, 5))  # Output: 32"
   ]
  },
  {
   "cell_type": "markdown",
   "id": "5c3a6544",
   "metadata": {},
   "source": [
    "**Question 5**\n",
    "- Given an array of integers arr, the task is to ﬁnd maximum\n",
    "element of that array using recursion.\n",
    "- Example 1:\n",
    "Input: arr = {1, 4, 3, -5, -4, 8, 6};\n",
    "Output: 8\n",
    "- Example 2:\n",
    "Input: arr = {1, 4, 45, 6, 10, -8};\n",
    "Output: 45"
   ]
  },
  {
   "cell_type": "code",
   "execution_count": 5,
   "id": "4da2e58c",
   "metadata": {},
   "outputs": [
    {
     "name": "stdout",
     "output_type": "stream",
     "text": [
      "8\n",
      "45\n"
     ]
    }
   ],
   "source": [
    "def find_max(arr):\n",
    "    if len(arr) == 1:\n",
    "        return arr[0]\n",
    "    else:\n",
    "        return max(arr[0], find_max(arr[1:]))\n",
    "\n",
    "# Given Use Case:\n",
    "arr1 = [1, 4, 3, -5, -4, 8, 6]\n",
    "print(find_max(arr1))  # Output: 8\n",
    "\n",
    "arr2 = [1, 4, 45, 6, 10, -8]\n",
    "print(find_max(arr2))  # Output: 45"
   ]
  },
  {
   "cell_type": "markdown",
   "id": "a8b91bd5",
   "metadata": {},
   "source": [
    "**Question 6**\n",
    "- Given ﬁrst term (a), common diﬀerence (d) and a integer N of\n",
    "the Arithmetic Progression series, the task is to ﬁnd Nth term\n",
    "of the series.\n",
    "- Example 1:\n",
    "Input : a = 2 d = 1 N = 5\n",
    "Output : 6\n",
    "The 5th term of the series is : 6\n",
    "- Example 2:\n",
    "Input : a = 5 d = 2 N = 10\n",
    "Output : 23\n",
    "The 10th term of the series is : 23"
   ]
  },
  {
   "cell_type": "code",
   "execution_count": 6,
   "id": "454ace0e",
   "metadata": {},
   "outputs": [
    {
     "name": "stdout",
     "output_type": "stream",
     "text": [
      "6\n",
      "23\n"
     ]
    }
   ],
   "source": [
    "def find_Nth_term(a, d, N):\n",
    "    return a + (N - 1) * d\n",
    "\n",
    "# Given Use Case:\n",
    "print(find_Nth_term(2, 1, 5))  # Output: 6\n",
    "print(find_Nth_term(5, 2, 10))  # Output: 23"
   ]
  },
  {
   "cell_type": "markdown",
   "id": "ebdd143a",
   "metadata": {},
   "source": [
    "**Question 7**\n",
    "- Given a string S, the task is to write a program to print all\n",
    "permutations of a given string.\n",
    "- Example 1:\n",
    "Input:\n",
    "S = “ABC”\n",
    "Output:\n",
    "“ABC”, “ACB”, “BAC”, “BCA”, “CBA”, “CAB”\n",
    "- Example 2:\n",
    "Input:\n",
    "S = “XY”\n",
    "Output:\n",
    "“XY”, “YX”"
   ]
  },
  {
   "cell_type": "code",
   "execution_count": 7,
   "id": "717d830f",
   "metadata": {},
   "outputs": [
    {
     "name": "stdout",
     "output_type": "stream",
     "text": [
      "Output_1: \n",
      "ABC\n",
      "ACB\n",
      "BAC\n",
      "BCA\n",
      "CBA\n",
      "CAB\n",
      "None\n",
      "----------\n",
      "Output_2: \n",
      "XY\n",
      "YX\n",
      "None\n"
     ]
    }
   ],
   "source": [
    "def permute(S, l, r):\n",
    "    if l == r:\n",
    "        print(''.join(S))\n",
    "    else:\n",
    "        for i in range(l, r + 1):\n",
    "            S[l], S[i] = S[i], S[l]\n",
    "            permute(S, l + 1, r)\n",
    "            S[l], S[i] = S[i], S[l]  # backtrack\n",
    "\n",
    "def print_permutations(S):\n",
    "    n = len(S)\n",
    "    permute(list(S), 0, n - 1)\n",
    "\n",
    "    \n",
    "# Given Use Case:\n",
    "print(\"Output_1: \")\n",
    "print(print_permutations(\"ABC\"))\n",
    "# Output:\n",
    "# ABC\n",
    "# ACB\n",
    "# BAC\n",
    "# BCA\n",
    "# CBA\n",
    "# CAB\n",
    "print(\"----------\")\n",
    "print(\"Output_2: \")\n",
    "print(print_permutations(\"XY\"))\n",
    "# Output:\n",
    "# XY\n",
    "# YX"
   ]
  },
  {
   "cell_type": "markdown",
   "id": "f59efeb4",
   "metadata": {},
   "source": [
    "**Question 8**\n",
    "- Given an array, ﬁnd a product of all array elements.\n",
    "- Example 1:\n",
    "Input : arr[] = {1, 2, 3, 4, 5}\n",
    "Output : 120\n",
    "- Example 2:\n",
    "Input : arr[] = {1, 6, 3}\n",
    "Output : 18"
   ]
  },
  {
   "cell_type": "code",
   "execution_count": 8,
   "id": "c600d7de",
   "metadata": {},
   "outputs": [
    {
     "name": "stdout",
     "output_type": "stream",
     "text": [
      "120\n",
      "18\n"
     ]
    }
   ],
   "source": [
    "def product_of_array(arr, n):\n",
    "    if n == 0:\n",
    "        return arr[n]\n",
    "    else:\n",
    "        return arr[n] * product_of_array(arr, n - 1)\n",
    "\n",
    "# Given Use Case:\n",
    "arr1 = [1, 2, 3, 4, 5]\n",
    "n1 = len(arr1) - 1\n",
    "print(product_of_array(arr1, n1))  # Output: 120\n",
    "\n",
    "arr2 = [1, 6, 3]\n",
    "n2 = len(arr2) - 1\n",
    "print(product_of_array(arr2, n2))  # Output: 18"
   ]
  },
  {
   "cell_type": "code",
   "execution_count": null,
   "id": "e9a69bec",
   "metadata": {},
   "outputs": [],
   "source": []
  }
 ],
 "metadata": {
  "kernelspec": {
   "display_name": "Python 3 (ipykernel)",
   "language": "python",
   "name": "python3"
  },
  "language_info": {
   "codemirror_mode": {
    "name": "ipython",
    "version": 3
   },
   "file_extension": ".py",
   "mimetype": "text/x-python",
   "name": "python",
   "nbconvert_exporter": "python",
   "pygments_lexer": "ipython3",
   "version": "3.9.16"
  }
 },
 "nbformat": 4,
 "nbformat_minor": 5
}
