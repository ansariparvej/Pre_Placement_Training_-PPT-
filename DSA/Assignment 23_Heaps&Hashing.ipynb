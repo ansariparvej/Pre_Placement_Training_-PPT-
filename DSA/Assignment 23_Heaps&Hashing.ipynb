{
 "cells": [
  {
   "cell_type": "markdown",
   "id": "5d6fb39c",
   "metadata": {},
   "source": [
    "**Question 1**\n",
    "- Roman to Integer\n",
    "- Roman numerals are represented by seven diﬀerent\n",
    "- symbols: I , V , X , L , C , D and M .\n",
    "- SymbolValue I 1 V 5 X 10 L 50 C 100 D 500 M 1000\n",
    "- For example, 2 is written as II in Roman numeral, just two\n",
    "ones added together. 12 is written as XII , which is\n",
    "simply X + II . The number 27 is written as XXVII , which\n",
    "is XX + V + II .\n",
    "- Roman numerals are usually written largest to smallest from\n",
    "left to right. However, the numeral for four is not IIII .\n",
    "Instead, the number four is written as IV . Because the one is\n",
    "before the ﬁve we subtract it making four. The same principle\n",
    "applies to the number nine, which is written as IX . There are\n",
    "six instances where subtraction is used:\n",
    "\n",
    "- I can be placed before V (5) and X (10) to make 4 and 9.\n",
    "\n",
    "- X can be placed before L (50) and C (100) to make 40 and 90.\n",
    "- C can be placed before D (500) and M (1000) to make 400 and 900.\n",
    "- Given a roman numeral, convert it to an integer.\n",
    "- Example 1:\n",
    "Input: s = \"III\" Output: 3 Explanation: III = 3.\n",
    "- Example 2:\n",
    "Input: s = \"LVIII\" Output: 58 Explanation: L = 5\n",
    "0, V= 5, III = 3.\n",
    "- Constraints:\n",
    "- 1 <= s.length <= 15\n",
    "- s contains only the characters ('I', 'V', 'X', 'L','C', 'D', 'M') .\n",
    "- It is guaranteed that s is a valid roman numeral in the\n",
    "range [1, 3999] ."
   ]
  },
  {
   "cell_type": "code",
   "execution_count": 1,
   "id": "22ee3340",
   "metadata": {},
   "outputs": [],
   "source": [
    "def roman_to_int(s):\n",
    "    roman_values = {\n",
    "        'I': 1,\n",
    "        'V': 5,\n",
    "        'X': 10,\n",
    "        'L': 50,\n",
    "        'C': 100,\n",
    "        'D': 500,\n",
    "        'M': 1000\n",
    "    }\n",
    "    \n",
    "    result = 0\n",
    "    n = len(s)\n",
    "    \n",
    "    for i in range(n):\n",
    "        if i < n - 1 and roman_values[s[i]] < roman_values[s[i+1]]:\n",
    "            result -= roman_values[s[i]]\n",
    "        else:\n",
    "            result += roman_values[s[i]]\n",
    "    \n",
    "    return result\n"
   ]
  },
  {
   "cell_type": "code",
   "execution_count": 2,
   "id": "b9e23dd4",
   "metadata": {},
   "outputs": [
    {
     "name": "stdout",
     "output_type": "stream",
     "text": [
      "3\n"
     ]
    }
   ],
   "source": [
    "# Example: 01\n",
    "print(roman_to_int(\"III\"))  # Output: 3"
   ]
  },
  {
   "cell_type": "code",
   "execution_count": 3,
   "id": "6cba6901",
   "metadata": {},
   "outputs": [
    {
     "name": "stdout",
     "output_type": "stream",
     "text": [
      "58\n"
     ]
    }
   ],
   "source": [
    "# Example: 02\n",
    "print(roman_to_int(\"LVIII\"))  # Output: 58"
   ]
  },
  {
   "cell_type": "markdown",
   "id": "c791bac9",
   "metadata": {},
   "source": [
    "**Question 2**\n",
    "- Longest Substring Without Repeating Characters\n",
    "- Given a string s , ﬁnd the length of the longest substring\n",
    "without repeating characters.\n",
    "- Example 1:\n",
    "Input: s = \"abcabcbb\" Output: 3 \n",
    "- Explanation: The\n",
    "answer is \"abc\", with the length of 3.\n",
    "- Example 2:\n",
    "Input: s = \"bbbbb\" Output: 1 \n",
    "- Explanation: The an\n",
    "swer is \"b\", with the length of 1.\n",
    "- Example 3:\n",
    "Input: s = \"pwwkew\" Output: 3 \n",
    "- Explanation: The a\n",
    "nswer is \"wke\", with the length of 3. Notice tha\n",
    "t the answer must be a substring, \"pwke\" is a su\n",
    "bsequence and not a substring.\n",
    "- Constraints:\n",
    "- 0 <= s.length <= 50000\n",
    "- s consists of English letters, digits, symbols and spaces."
   ]
  },
  {
   "cell_type": "code",
   "execution_count": 4,
   "id": "3afc90b3",
   "metadata": {},
   "outputs": [],
   "source": [
    "def length_of_longest_substring(s):\n",
    "    start = 0\n",
    "    end = 0\n",
    "    max_length = 0\n",
    "    unique_chars = set()\n",
    "\n",
    "    while end < len(s):\n",
    "        if s[end] not in unique_chars:\n",
    "            unique_chars.add(s[end])\n",
    "            max_length = max(max_length, end - start + 1)\n",
    "            end += 1\n",
    "        else:\n",
    "            unique_chars.remove(s[start])\n",
    "            start += 1\n",
    "\n",
    "    return max_length"
   ]
  },
  {
   "cell_type": "code",
   "execution_count": 6,
   "id": "a676c0f2",
   "metadata": {},
   "outputs": [
    {
     "name": "stdout",
     "output_type": "stream",
     "text": [
      "3\n"
     ]
    }
   ],
   "source": [
    "# Example: 01\n",
    "print(length_of_longest_substring(\"abcabcbb\"))  # Output: 3"
   ]
  },
  {
   "cell_type": "code",
   "execution_count": 7,
   "id": "0961e38f",
   "metadata": {},
   "outputs": [
    {
     "name": "stdout",
     "output_type": "stream",
     "text": [
      "1\n"
     ]
    }
   ],
   "source": [
    "# Example: 02\n",
    "print(length_of_longest_substring(\"bbbbb\"))  # Output: 1"
   ]
  },
  {
   "cell_type": "code",
   "execution_count": 8,
   "id": "805ff942",
   "metadata": {},
   "outputs": [
    {
     "name": "stdout",
     "output_type": "stream",
     "text": [
      "3\n"
     ]
    }
   ],
   "source": [
    "# Example: 03\n",
    "print(length_of_longest_substring(\"pwwkew\"))  # Output: 3"
   ]
  },
  {
   "cell_type": "markdown",
   "id": "fe14ee64",
   "metadata": {},
   "source": [
    "**Question 3**\n",
    "- Majority Element\n",
    "- Given an array nums of size n , return the majority element.\n",
    "The majority element is the element that appears more\n",
    "than ⌊n / 2⌋ times. You may assume that the majority\n",
    "element always exists in the array.\n",
    "- Example 1:\n",
    "Input: nums = [3,2,3] Output: 3\n",
    "- Example 2:\n",
    "Input: nums = [2,2,1,1,1,2,2] Output: 2\n",
    "- Constraints:\n",
    "- n == nums.length\n",
    "- 1 <= n <= 5 * 10^4\n",
    "- -10^9 <= nums[i] <= 10^9"
   ]
  },
  {
   "cell_type": "code",
   "execution_count": 9,
   "id": "2965835e",
   "metadata": {},
   "outputs": [],
   "source": [
    "def majority_element(nums):\n",
    "    majority = None\n",
    "    count = 0\n",
    "\n",
    "    for num in nums:\n",
    "        if count == 0:\n",
    "            majority = num\n",
    "            count += 1\n",
    "        elif num == majority:\n",
    "            count += 1\n",
    "        else:\n",
    "            count -= 1\n",
    "\n",
    "    return majority\n"
   ]
  },
  {
   "cell_type": "code",
   "execution_count": 10,
   "id": "18740712",
   "metadata": {},
   "outputs": [
    {
     "name": "stdout",
     "output_type": "stream",
     "text": [
      "3\n"
     ]
    }
   ],
   "source": [
    "# Example: 01\n",
    "print(majority_element([3, 2, 3]))  # Output: 3"
   ]
  },
  {
   "cell_type": "code",
   "execution_count": 11,
   "id": "89cb7d0f",
   "metadata": {},
   "outputs": [
    {
     "name": "stdout",
     "output_type": "stream",
     "text": [
      "2\n"
     ]
    }
   ],
   "source": [
    "# Example: 02\n",
    "print(majority_element([2, 2, 1, 1, 1, 2, 2]))  # Output: 2"
   ]
  },
  {
   "cell_type": "markdown",
   "id": "0552c30a",
   "metadata": {},
   "source": [
    "**Question 4**\n",
    "\n",
    "- Group Anagram\n",
    "- Given an array of strings strs , group the\n",
    "anagrams together. You can return the answer in any order.\n",
    "An Anagram is a word or phrase formed by rearranging the\n",
    "letters of a diﬀerent word or phrase, typically using all the\n",
    "original letters exactly once.\n",
    "- Example 1:\n",
    "Input: strs = [\"eat\",\"tea\",\"tan\",\"ate\",\"nat\",\"ba\n",
    "t\"] Output: [[\"bat\"],[\"nat\",\"tan\"],[\"ate\",\"eat\",\"tea\"]]\n",
    "\n",
    "- Example 2:\n",
    "Input: strs = [\"\"] Output: [[\"\"]]\n",
    "- Example 3:\n",
    "Input: strs = [\"a\"] Output: [[\"a\"]]\n",
    "- Constraints:\n",
    "\n",
    "- 1 <= strs.length <= 10000\n",
    "- 0 <= strs[i].length <= 100\n",
    "- strs[i] consists of lowercase English letters."
   ]
  },
  {
   "cell_type": "code",
   "execution_count": 12,
   "id": "f21060d4",
   "metadata": {},
   "outputs": [],
   "source": [
    "def group_anagrams(strs):\n",
    "    groups = {}\n",
    "\n",
    "    for s in strs:\n",
    "        sorted_s = ''.join(sorted(s))\n",
    "        if sorted_s not in groups:\n",
    "            groups[sorted_s] = []\n",
    "        groups[sorted_s].append(s)\n",
    "\n",
    "    return list(groups.values())\n"
   ]
  },
  {
   "cell_type": "code",
   "execution_count": 17,
   "id": "319c0fa8",
   "metadata": {},
   "outputs": [
    {
     "name": "stdout",
     "output_type": "stream",
     "text": [
      "[['eat', 'tea', 'ate'], ['tan', 'nat'], ['bat']]\n"
     ]
    }
   ],
   "source": [
    "# Example: 01\n",
    "strs = [\"eat\", \"tea\", \"tan\", \"ate\", \"nat\", \"bat\"]\n",
    "print(group_anagrams(strs))"
   ]
  },
  {
   "cell_type": "code",
   "execution_count": 18,
   "id": "f3f24112",
   "metadata": {},
   "outputs": [
    {
     "name": "stdout",
     "output_type": "stream",
     "text": [
      "[['']]\n"
     ]
    }
   ],
   "source": [
    "# Example: 02\n",
    "strs = [\"\"]\n",
    "print(group_anagrams(strs))"
   ]
  },
  {
   "cell_type": "code",
   "execution_count": 19,
   "id": "32cbee30",
   "metadata": {},
   "outputs": [
    {
     "name": "stdout",
     "output_type": "stream",
     "text": [
      "[['a']]\n"
     ]
    }
   ],
   "source": [
    "# Example: 03\n",
    "strs = [\"a\"]\n",
    "print(group_anagrams(strs))"
   ]
  },
  {
   "cell_type": "markdown",
   "id": "e279ac22",
   "metadata": {},
   "source": [
    "**Question 5**\n",
    "\n",
    "- Ugly Numbers\n",
    "- An ugly number is a positive integer whose prime factors are\n",
    "limited to 2 , 3 , and 5 .\n",
    "- Given an integer n , return the nth ugly number.\n",
    "- Example 1:\n",
    "Input: n = 10 Output: 12 \n",
    "- Explanation: [1, 2, 3,\n",
    "4, 5, 6, 8, 9, 10, 12] is the sequence of the fi\n",
    "rst 10 ugly numbers.\n",
    "- Example 2:\n",
    "Input: n = 1 Output: 1 Explanation: 1 has no pri\n",
    "me factors, therefore all of its prime factors a\n",
    "re limited to 2, 3, and 5.\n",
    "- Constraints:\n",
    "- 1 <= n <= 1690"
   ]
  },
  {
   "cell_type": "code",
   "execution_count": 20,
   "id": "e500418a",
   "metadata": {},
   "outputs": [],
   "source": [
    "def nth_ugly_number(n):\n",
    "    ugly_nums = [1]  # List to store ugly numbers\n",
    "    p2 = p3 = p5 = 0  # Pointers for multiples of 2, 3, and 5\n",
    "\n",
    "    for _ in range(1, n):\n",
    "        # Generate the next ugly number by multiplying the pointers with 2, 3, and 5\n",
    "        next_ugly = min(ugly_nums[p2] * 2, ugly_nums[p3] * 3, ugly_nums[p5] * 5)\n",
    "        ugly_nums.append(next_ugly)\n",
    "\n",
    "        # Move the pointers for the multiples to the next position\n",
    "        if next_ugly == ugly_nums[p2] * 2:\n",
    "            p2 += 1\n",
    "        if next_ugly == ugly_nums[p3] * 3:\n",
    "            p3 += 1\n",
    "        if next_ugly == ugly_nums[p5] * 5:\n",
    "            p5 += 1\n",
    "\n",
    "    return ugly_nums[-1]  # Return the last ugly number\n"
   ]
  },
  {
   "cell_type": "code",
   "execution_count": 21,
   "id": "79d43bb9",
   "metadata": {},
   "outputs": [
    {
     "name": "stdout",
     "output_type": "stream",
     "text": [
      "12\n"
     ]
    }
   ],
   "source": [
    "# Example: 01\n",
    "n = 10\n",
    "print(nth_ugly_number(n))  # Output: 12"
   ]
  },
  {
   "cell_type": "code",
   "execution_count": 22,
   "id": "43fafefb",
   "metadata": {},
   "outputs": [
    {
     "name": "stdout",
     "output_type": "stream",
     "text": [
      "1\n"
     ]
    }
   ],
   "source": [
    "# Example: 02\n",
    "n = 1\n",
    "print(nth_ugly_number(n))  # Output: 1"
   ]
  },
  {
   "cell_type": "markdown",
   "id": "c1cf6b14",
   "metadata": {},
   "source": [
    "**Question 6**\n",
    "\n",
    "- Top K Frequent Words\n",
    "- Given an array of strings words and an integer k ,\n",
    "return the k most frequent strings.\n",
    "- Return the answer sorted by the frequency from highest to\n",
    "lowest. Sort the words with the same frequency by\n",
    "their lexicographical order.\n",
    "- Example 1:\n",
    "Input: words = [\"i\",\"love\",\"leetcode\",\"i\",\"lov\n",
    "e\",\"coding\"], k = 2 Output: [\"i\",\"love\"] \n",
    "- Explanation: \"i\" and \"love\" are the two most frequent w\n",
    "ords. Note that \"i\" comes before \"love\" due to a\n",
    "lower alphabetical order.\n",
    "- Example 2:\n",
    "Input: words = [\"the\",\"day\",\"is\",\"sunny\",\"the\",\"\n",
    "the\",\"the\",\"sunny\",\"is\",\"is\"], k = 4 Output: [\"t\n",
    "he\",\"is\",\"sunny\",\"day\"] \n",
    "- Explanation: \"the\", \"i\n",
    "s\", \"sunny\" and \"day\" are the four most frequent\n",
    "words, with the number of occurrence being 4, 3,\n",
    "2 and 1 respectively.\n",
    "- Constraints:\n",
    "- 1 <= words.length <= 500\n",
    "- 1 <= words[i].length <= 10\n",
    "- words[i] consists of lowercase English letters.\n",
    "- k is in the range [1, The number of unique words[i]]"
   ]
  },
  {
   "cell_type": "code",
   "execution_count": 23,
   "id": "ba375fba",
   "metadata": {},
   "outputs": [],
   "source": [
    "from collections import Counter\n",
    "\n",
    "def top_K_frequent(words, k):\n",
    "    word_count = Counter(words)  # Count the frequency of each word\n",
    "\n",
    "    # Sort the words based on frequency and lexicographical order\n",
    "    sorted_words = sorted(word_count.keys(), key=lambda x: (-word_count[x], x))\n",
    "\n",
    "    return sorted_words[:k]  # Return the top k frequent words"
   ]
  },
  {
   "cell_type": "code",
   "execution_count": 24,
   "id": "ef2e8ced",
   "metadata": {},
   "outputs": [
    {
     "name": "stdout",
     "output_type": "stream",
     "text": [
      "['i', 'love']\n"
     ]
    }
   ],
   "source": [
    "# Example: 01\n",
    "words = [\"i\", \"love\", \"leetcode\", \"i\", \"love\", \"coding\"]\n",
    "k = 2\n",
    "print(top_K_frequent(words, k))  # Output: [\"i\", \"love\"]"
   ]
  },
  {
   "cell_type": "code",
   "execution_count": 25,
   "id": "43429b19",
   "metadata": {},
   "outputs": [
    {
     "name": "stdout",
     "output_type": "stream",
     "text": [
      "['the', 'is', 'sunny', 'day']\n"
     ]
    }
   ],
   "source": [
    "# Example: 02\n",
    "words = [\"the\", \"day\", \"is\", \"sunny\", \"the\", \"the\", \"the\", \"sunny\", \"is\", \"is\"]\n",
    "k = 4\n",
    "print(top_K_frequent(words, k))  # Output: [\"the\", \"is\", \"sunny\", \"day\"]"
   ]
  },
  {
   "cell_type": "markdown",
   "id": "8fa105e4",
   "metadata": {},
   "source": [
    "**Question 7**\n",
    "\n",
    "- Sliding Window Maximum\n",
    "- You are given an array of integers nums , there is a sliding\n",
    "window of size k which is moving from the very left of the\n",
    "array to the very right. You can only see the k numbers in the\n",
    "window. Each time the sliding window moves right by one\n",
    "position.\n",
    "- Return the max sliding window.\n",
    "- Example 1:\n",
    "Input: nums = [1,3,-1,-3,5,3,6,7], k = 3 Output:\n",
    "[3,3,5,5,6,7] \n",
    "- Explanation: Window position Max\n",
    "--------------- ----- [1 3 -1] -3 5 3 6 7 3 1 [3\n",
    "-1 -3] 5 3 6 7 3 1 3 [-1 -3 5] 3 6 7 5 1 3 -1 [-\n",
    "3 5 3] 6 7 5 1 3 -1 -3 [5 3 6]7 6 1 3 -1 -3 5 [3\n",
    "6 7] 7\n",
    "- Example 2:\n",
    "Input: nums = [1], k = 1 Output: [1]\n",
    "- Constraints:\n",
    "- 1 <= nums.length <= 100000\n",
    "- -10000 <= nums[i] <= 10000\n",
    "- 1 <= k <= nums.length"
   ]
  },
  {
   "cell_type": "code",
   "execution_count": 26,
   "id": "9f873369",
   "metadata": {},
   "outputs": [],
   "source": [
    "from collections import deque\n",
    "\n",
    "def max_sliding_window(nums, k):\n",
    "    if not nums:\n",
    "        return []\n",
    "\n",
    "    result = []  # List to store the maximum elements in each sliding window\n",
    "    window = deque()  # Deque to store indices\n",
    "\n",
    "    # Process the first k elements to initialize the deque\n",
    "    for i in range(k):\n",
    "        # Remove indices of elements smaller than the current element\n",
    "        while window and nums[i] >= nums[window[-1]]:\n",
    "            window.pop()\n",
    "\n",
    "        window.append(i)\n",
    "\n",
    "    # Process the remaining elements\n",
    "    for i in range(k, len(nums)):\n",
    "        result.append(nums[window[0]])  # The maximum element for the current window is at the front of the deque\n",
    "\n",
    "        # Remove the indices that are outside the current window\n",
    "        while window and window[0] <= i - k:\n",
    "            window.popleft()\n",
    "\n",
    "        # Remove indices of elements smaller than the current element\n",
    "        while window and nums[i] >= nums[window[-1]]:\n",
    "            window.pop()\n",
    "\n",
    "        window.append(i)\n",
    "\n",
    "    result.append(nums[window[0]])  # Append the maximum element of the last sliding window\n",
    "\n",
    "    return result"
   ]
  },
  {
   "cell_type": "code",
   "execution_count": 27,
   "id": "ee1f34dd",
   "metadata": {},
   "outputs": [
    {
     "name": "stdout",
     "output_type": "stream",
     "text": [
      "[3, 3, 5, 5, 6, 7]\n"
     ]
    }
   ],
   "source": [
    "# Example: 01\n",
    "nums = [1, 3, -1, -3, 5, 3, 6, 7]\n",
    "k = 3\n",
    "print(max_sliding_window(nums, k))  # Output: [3, 3, 5, 5, 6, 7]"
   ]
  },
  {
   "cell_type": "code",
   "execution_count": 28,
   "id": "76d2f995",
   "metadata": {},
   "outputs": [
    {
     "name": "stdout",
     "output_type": "stream",
     "text": [
      "[1]\n"
     ]
    }
   ],
   "source": [
    "# Example: 02\n",
    "nums = [1]\n",
    "k = 1\n",
    "print(max_sliding_window(nums, k))  # Output: [1]"
   ]
  },
  {
   "cell_type": "markdown",
   "id": "1b665ab0",
   "metadata": {},
   "source": [
    "**Question 8**\n",
    "\n",
    "- Find K Closest Elements\n",
    "- Given a sorted integer array arr , two integers k and x ,\n",
    "return the k closest integers to x in the array. The result\n",
    "should also be sorted in ascending order.\n",
    "- An integer a is closer to x than an integer b if:\n",
    "- |a - x| < |b - x| , or\n",
    "- |a - x| == |b - x| and a < b\n",
    "- Example 1:\n",
    "Input: arr = [1,2,3,4,5], k = 4, x = 3 Output:\n",
    "[1,2,3,4]\n",
    "- Example 2:\n",
    "Input: arr = [1,2,3,4,5], k = 4, x = -1 Output:\n",
    "[1,2,3,4]\n",
    "- Constraints:\n",
    "- 1 <= k <= arr.length\n",
    "- 1 <= arr.length <= 10000\n",
    "- arr is sorted in ascending order.\n",
    "- -10000 <= arr[i], x <= 10000"
   ]
  },
  {
   "cell_type": "code",
   "execution_count": 29,
   "id": "f0649cfc",
   "metadata": {},
   "outputs": [],
   "source": [
    "def find_closest_elements(arr, k, x):\n",
    "    left = 0\n",
    "    right = len(arr) - 1\n",
    "\n",
    "    # Adjust the pointers to include k elements\n",
    "    while right - left + 1 > k:\n",
    "        if abs(arr[left] - x) <= abs(arr[right] - x):\n",
    "            right -= 1\n",
    "        else:\n",
    "            left += 1\n",
    "\n",
    "    return arr[left:right+1]  # Return the k closest elements"
   ]
  },
  {
   "cell_type": "code",
   "execution_count": 30,
   "id": "aad15226",
   "metadata": {},
   "outputs": [
    {
     "name": "stdout",
     "output_type": "stream",
     "text": [
      "[1, 2, 3, 4]\n"
     ]
    }
   ],
   "source": [
    "# Example: 01\n",
    "arr = [1, 2, 3, 4, 5]\n",
    "k = 4\n",
    "x = 3\n",
    "print(find_closest_elements(arr, k, x))  # Output: [1, 2, 3, 4]"
   ]
  },
  {
   "cell_type": "code",
   "execution_count": 31,
   "id": "8dafb6bd",
   "metadata": {},
   "outputs": [
    {
     "name": "stdout",
     "output_type": "stream",
     "text": [
      "[1, 2, 3, 4]\n"
     ]
    }
   ],
   "source": [
    "# Example: 02\n",
    "arr = [1, 2, 3, 4, 5]\n",
    "k = 4\n",
    "x = -1\n",
    "print(find_closest_elements(arr, k, x))  # Output: [1, 2, 3, 4]"
   ]
  },
  {
   "cell_type": "code",
   "execution_count": null,
   "id": "02dcc63f",
   "metadata": {},
   "outputs": [],
   "source": []
  }
 ],
 "metadata": {
  "kernelspec": {
   "display_name": "Python 3 (ipykernel)",
   "language": "python",
   "name": "python3"
  },
  "language_info": {
   "codemirror_mode": {
    "name": "ipython",
    "version": 3
   },
   "file_extension": ".py",
   "mimetype": "text/x-python",
   "name": "python",
   "nbconvert_exporter": "python",
   "pygments_lexer": "ipython3",
   "version": "3.9.16"
  }
 },
 "nbformat": 4,
 "nbformat_minor": 5
}
