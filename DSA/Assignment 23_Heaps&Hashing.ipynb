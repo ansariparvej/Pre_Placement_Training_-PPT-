{
 "cells": [
  {
   "cell_type": "markdown",
   "id": "5d6fb39c",
   "metadata": {},
   "source": [
    "**Question 1**\n",
    "- Given preorder of a binary tree, calculate its depth(or\n",
    "height) [starting from depth 0]. The preorder is given as a\n",
    "string with two possible characters.\n",
    "- 1. ‘l’ denotes the leaf\n",
    "- 2. ‘n’ denotes internal node\n",
    "- The given tree can be seen as a full binary tree where every\n",
    "node has 0 or two children. The two children of a node can ‘n’\n",
    "or ‘l’ or mix of both.\n",
    "- Examples :\n",
    "- Input : nlnll\n",
    "Output : 2\n",
    "\n",
    "- Input : nlnnlll\n",
    "Output : 3"
   ]
  },
  {
   "cell_type": "code",
   "execution_count": 1,
   "id": "22ee3340",
   "metadata": {},
   "outputs": [],
   "source": [
    "def calculate_depth(preorder, index):\n",
    "    if index >= len(preorder) or preorder[index] == 'l':\n",
    "        return 0\n",
    "\n",
    "    depth = 1\n",
    "    depth += max(\n",
    "        calculate_depth(preorder, index + 1),\n",
    "        calculate_depth(preorder, index + 2)\n",
    "    )\n",
    "\n",
    "    return depth\n",
    "\n",
    "def get_tree_depth(preorder):\n",
    "    return calculate_depth(preorder, 0)"
   ]
  },
  {
   "cell_type": "code",
   "execution_count": 2,
   "id": "b9e23dd4",
   "metadata": {},
   "outputs": [
    {
     "name": "stdout",
     "output_type": "stream",
     "text": [
      "2\n"
     ]
    }
   ],
   "source": [
    "# Example: 01\n",
    "print(get_tree_depth('nlnll'))   # Output: 2"
   ]
  },
  {
   "cell_type": "code",
   "execution_count": 3,
   "id": "6cba6901",
   "metadata": {},
   "outputs": [
    {
     "name": "stdout",
     "output_type": "stream",
     "text": [
      "3\n"
     ]
    }
   ],
   "source": [
    "# Example: 02\n",
    "print(get_tree_depth('nlnnlll')) # Output: 3"
   ]
  },
  {
   "cell_type": "markdown",
   "id": "c791bac9",
   "metadata": {},
   "source": [
    "**Question 2**\n",
    "- Given a Binary tree, the task is to print the left view of the\n",
    "Binary Tree. The left view of a Binary Tree is a set of leftmost\n",
    "nodes for every level.\n",
    "- Examples:\n",
    "- Input:\n",
    "4\n",
    "/ \\\n",
    "5\n",
    "2\n",
    "/ \\\n",
    "3\n",
    "1\n",
    "/ \\\n",
    "6\n",
    "7\n",
    "- Output: 4 5 3 6\n",
    "- Input:\n",
    "1\n",
    "/ \\\n",
    "2\n",
    "3\n",
    "\\\n",
    "4\n",
    "\\\n",
    "5\n",
    "\\\n",
    "6\n",
    "- Output: 1 2 4 5 6"
   ]
  },
  {
   "cell_type": "code",
   "execution_count": 4,
   "id": "3afc90b3",
   "metadata": {},
   "outputs": [],
   "source": [
    "from collections import deque\n",
    "\n",
    "class Node:\n",
    "    def __init__(self, value):\n",
    "        self.value = value\n",
    "        self.left = None\n",
    "        self.right = None\n",
    "\n",
    "def print_left_view(root):\n",
    "    if not root:\n",
    "        return\n",
    "\n",
    "    queue = deque()\n",
    "    queue.append(root)\n",
    "\n",
    "    while queue:\n",
    "        level_size = len(queue)\n",
    "\n",
    "        for i in range(level_size):\n",
    "            node = queue.popleft()\n",
    "\n",
    "            if i == 0:\n",
    "                print(node.value, end=' ')\n",
    "\n",
    "            if node.left:\n",
    "                queue.append(node.left)\n",
    "            if node.right:\n",
    "                queue.append(node.right)\n",
    "\n",
    "        print()"
   ]
  },
  {
   "cell_type": "code",
   "execution_count": 5,
   "id": "a676c0f2",
   "metadata": {},
   "outputs": [
    {
     "name": "stdout",
     "output_type": "stream",
     "text": [
      "Left View of Binary Tree (Example 1):\n",
      "4 \n",
      "5 \n",
      "3 \n",
      "6 \n"
     ]
    }
   ],
   "source": [
    "# Example: 1 \n",
    "\n",
    "root1 = Node(4)\n",
    "root1.left = Node(5)\n",
    "root1.right = Node(2)\n",
    "root1.right.left = Node(3)\n",
    "root1.right.right = Node(1)\n",
    "root1.right.left.left = Node(6)\n",
    "root1.right.right.right = Node(7)\n",
    "\n",
    "print(\"Left View of Binary Tree (Example 1):\")\n",
    "print_left_view(root1)  # Output: 4 5 3 6"
   ]
  },
  {
   "cell_type": "code",
   "execution_count": 6,
   "id": "0961e38f",
   "metadata": {},
   "outputs": [
    {
     "name": "stdout",
     "output_type": "stream",
     "text": [
      "Left View of Binary Tree (Example 2):\n",
      "1 \n",
      "2 \n",
      "4 \n",
      "5 \n",
      "6 \n"
     ]
    }
   ],
   "source": [
    "# Example: 2\n",
    "\n",
    "root2 = Node(1)\n",
    "root2.left = Node(2)\n",
    "root2.right = Node(3)\n",
    "root2.left.left = Node(4)\n",
    "root2.left.left.left = Node(5)\n",
    "root2.left.left.left.left = Node(6)\n",
    "\n",
    "print(\"Left View of Binary Tree (Example 2):\")\n",
    "print_left_view(root2)  # Output: 1 2 4 5 6"
   ]
  },
  {
   "cell_type": "markdown",
   "id": "fe14ee64",
   "metadata": {},
   "source": [
    "**Question 3**\n",
    "- Given a Binary Tree, print the Right view of it.\n",
    "The right view of a Binary Tree is a set of nodes visible when\n",
    "the tree is visited from the Right side.\n",
    "- Examples:\n",
    "- Input:\n",
    "1\n",
    "/\n",
    "\\\n",
    "23\n",
    "/ \\/ \\\n",
    "4\n",
    "5 6\n",
    "7\n",
    "\\\n",
    "8\n",
    "- Output:\n",
    "Right view of the tree is 1 3 7 8\n",
    "- Input:\n",
    "1\n",
    "/\n",
    "8\n",
    "/\n",
    "7\n",
    "- Output:\n",
    "Right view of the tree is 1 8 7"
   ]
  },
  {
   "cell_type": "code",
   "execution_count": 7,
   "id": "2965835e",
   "metadata": {},
   "outputs": [],
   "source": [
    "from collections import deque\n",
    "\n",
    "class Node:\n",
    "    def __init__(self, val):\n",
    "        self.data = val\n",
    "        self.left = None\n",
    "        self.right = None\n",
    "\n",
    "def right_view(root):\n",
    "\n",
    "    if root is None:\n",
    "        return\n",
    "\n",
    "    q = deque()\n",
    "    q.append(root)\n",
    "\n",
    "    while q:\n",
    "\n",
    "        # Get number of nodes for each level\n",
    "        n = len(q)\n",
    "\n",
    "        # Traverse all the nodes of the\n",
    "        # current level\n",
    "\n",
    "        while n > 0:\n",
    "            n -= 1\n",
    "\n",
    "            # Get the front node in the queue\n",
    "            node = q.popleft()\n",
    "\n",
    "            # Print the last node of each level\n",
    "            if n == 0:\n",
    "                print(node.data, end=\" \")\n",
    "\n",
    "            # If left child is not null push it\n",
    "            # into the queue\n",
    "            if node.left:\n",
    "                q.append(node.left)\n",
    "\n",
    "            # If right child is not null push\n",
    "            # it into the queue\n",
    "            if node.right:\n",
    "                q.append(node.right)"
   ]
  },
  {
   "cell_type": "code",
   "execution_count": 8,
   "id": "21b98a24",
   "metadata": {},
   "outputs": [
    {
     "name": "stdout",
     "output_type": "stream",
     "text": [
      "1 3 7 8 "
     ]
    }
   ],
   "source": [
    "# Example: 01\n",
    "\n",
    "root = Node(1)\n",
    "root.left = Node(2)\n",
    "root.right = Node(3)\n",
    "root.left.left = Node(4)\n",
    "root.left.right = Node(5)\n",
    "root.right.left = Node(6)\n",
    "root.right.right = Node(7)\n",
    "root.right.left.right = Node(8)\n",
    "\n",
    "right_view(root) # Output: 1 3 7 8 "
   ]
  },
  {
   "cell_type": "code",
   "execution_count": 9,
   "id": "89cb7d0f",
   "metadata": {},
   "outputs": [
    {
     "name": "stdout",
     "output_type": "stream",
     "text": [
      "1 8 7 "
     ]
    }
   ],
   "source": [
    "# Example: 2\n",
    "\n",
    "root = Node(1)\n",
    "root.left = Node(8)\n",
    "root.left.left = Node(7)\n",
    "\n",
    "right_view(root) # Output: 1 8 7"
   ]
  },
  {
   "cell_type": "markdown",
   "id": "0552c30a",
   "metadata": {},
   "source": [
    "**Question 4**\n",
    "\n",
    "- Given a Binary Tree, The task is to print the bottom view from\n",
    "left to right. A node x is there in output if x is the bottommost\n",
    "node at its horizontal distance. The horizontal distance of the left child of a node x is equal to a horizontal distance of x\n",
    "minus 1, and that of a right child is the horizontal distance of x\n",
    "plus 1.\n",
    "- Examples:\n",
    "- Input:\n",
    "20\n",
    "/\n",
    "\\\n",
    "8\n",
    "/\n",
    "5\n",
    "22\n",
    "\\\\\n",
    "325\n",
    "/\n",
    "\\\n",
    "10\n",
    "14\n",
    "- Output: 5, 10, 3, 14, 25.\n",
    "- Input:\n",
    "20\n",
    "/\n",
    "\\\n",
    "8\n",
    "/\n",
    "5\n",
    "22\n",
    "\\/ \\\n",
    "34\n",
    "/\n",
    "10\n",
    "25\n",
    "\\\n",
    "14\n",
    "- Output:\n",
    "5 10 4 14 25.\n",
    "- Explanation:\n",
    "If there are multiple bottom-most nodes for a horizontal\n",
    "distance from the root, then print the later one in the level\n",
    "traversal.\n",
    "3 and 4 are both the bottom-most nodes at a horizontal\n",
    "distance of 0, we need to print 4."
   ]
  },
  {
   "cell_type": "code",
   "execution_count": 10,
   "id": "f21060d4",
   "metadata": {},
   "outputs": [],
   "source": [
    "from collections import defaultdict, deque\n",
    "\n",
    "# Node class\n",
    "class Node:\n",
    "    def __init__(self, data):\n",
    "        self.data = data\n",
    "        self.left = None\n",
    "        self.right = None\n",
    "\n",
    "# Function to print the bottom view of a binary tree\n",
    "def print_bottom_view(root):\n",
    "    if root is None:\n",
    "        return\n",
    "    \n",
    "    # Create a hashmap to store bottom view nodes\n",
    "    bottom_view = defaultdict(Node)\n",
    "\n",
    "    # Create a deque for level order traversal\n",
    "    queue = deque()\n",
    "\n",
    "    # Enqueue the root node with horizontal distance 0\n",
    "    queue.append((root, 0))\n",
    "\n",
    "    # Perform level order traversal\n",
    "    while queue:\n",
    "        # Dequeue a node and its horizontal distance\n",
    "        node, hd = queue.popleft()\n",
    "\n",
    "        # Update the hashmap with the current node value\n",
    "        bottom_view[hd] = node\n",
    "\n",
    "        # Enqueue the left child with hd-1 and right child with hd+1\n",
    "        if node.left:\n",
    "            queue.append((node.left, hd - 1))\n",
    "        if node.right:\n",
    "            queue.append((node.right, hd + 1))\n",
    "\n",
    "    # Print the bottom view nodes\n",
    "    for hd in sorted(bottom_view.keys()):\n",
    "        print(bottom_view[hd].data, end=\" \")\n",
    "    print()"
   ]
  },
  {
   "cell_type": "code",
   "execution_count": 11,
   "id": "f3f24112",
   "metadata": {},
   "outputs": [
    {
     "name": "stdout",
     "output_type": "stream",
     "text": [
      "Bottom View: \n",
      "5 10 3 14 25 \n"
     ]
    }
   ],
   "source": [
    "# Example: 1\n",
    "\n",
    "root1 = Node(20)\n",
    "root1.left = Node(8)\n",
    "root1.right = Node(22)\n",
    "root1.left.left = Node(5)\n",
    "root1.left.right = Node(3)\n",
    "root1.right.right = Node(25)\n",
    "root1.left.right.left = Node(10)\n",
    "root1.left.right.right = Node(14)\n",
    "\n",
    "print(\"Bottom View: \")\n",
    "print_bottom_view(root1)"
   ]
  },
  {
   "cell_type": "code",
   "execution_count": 12,
   "id": "319c0fa8",
   "metadata": {},
   "outputs": [
    {
     "name": "stdout",
     "output_type": "stream",
     "text": [
      "Bottom View: \n",
      "5 10 4 14 25 \n"
     ]
    }
   ],
   "source": [
    "# Example: 2\n",
    "\n",
    "root2 = Node(20)\n",
    "root2.left = Node(8)\n",
    "root2.right = Node(22)\n",
    "root2.left.left = Node(5)\n",
    "root2.left.right = Node(3)\n",
    "root2.right.left = Node(4)\n",
    "root2.right.right = Node(25)\n",
    "root2.left.right.left = Node(10)\n",
    "root2.left.right.right = Node(14)\n",
    "\n",
    "print(\"Bottom View: \")\n",
    "print_bottom_view(root2)"
   ]
  },
  {
   "cell_type": "code",
   "execution_count": null,
   "id": "32cbee30",
   "metadata": {},
   "outputs": [],
   "source": []
  },
  {
   "cell_type": "code",
   "execution_count": null,
   "id": "282db864",
   "metadata": {},
   "outputs": [],
   "source": []
  }
 ],
 "metadata": {
  "kernelspec": {
   "display_name": "Python 3 (ipykernel)",
   "language": "python",
   "name": "python3"
  },
  "language_info": {
   "codemirror_mode": {
    "name": "ipython",
    "version": 3
   },
   "file_extension": ".py",
   "mimetype": "text/x-python",
   "name": "python",
   "nbconvert_exporter": "python",
   "pygments_lexer": "ipython3",
   "version": "3.9.16"
  }
 },
 "nbformat": 4,
 "nbformat_minor": 5
}
