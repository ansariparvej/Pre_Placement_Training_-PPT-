{
 "cells": [
  {
   "cell_type": "markdown",
   "id": "ec8e7ad1",
   "metadata": {},
   "source": [
    "**Q1.** Given an array of integers nums and an integer target,\n",
    "return indices of the two numbers such that they add up to\n",
    "target.\n",
    "You may assume that each input would have exactly one\n",
    "solution, and you may not use the same element twice.\n",
    "You can return the answer in any order.\n",
    "- Example:\n",
    "Input: nums = [2,7,11,15], target = 9\n",
    "Output0 [0,1]\n",
    "- Explanation: Because nums[0] + nums[1] == 9, we return [0,\n",
    "1]"
   ]
  },
  {
   "cell_type": "code",
   "execution_count": 5,
   "id": "019f6aaa",
   "metadata": {},
   "outputs": [
    {
     "name": "stdout",
     "output_type": "stream",
     "text": [
      "[0, 1]\n"
     ]
    }
   ],
   "source": [
    "def two_sum(nums, target):\n",
    "    n = len(nums)\n",
    "    for i in range(n):\n",
    "        for j in range(i + 1, n):\n",
    "            if nums[i] + nums[j] == target:\n",
    "                return [i, j]\n",
    "    return []\n",
    "\n",
    "# Given Use Case:\n",
    "nums = [2, 7, 11, 15]\n",
    "target = 9\n",
    "result = two_sum(nums, target)\n",
    "print(result)"
   ]
  },
  {
   "cell_type": "markdown",
   "id": "19332de3",
   "metadata": {},
   "source": [
    "**Q2.** Given an integer array nums and an integer val, remove\n",
    "all occurrences of val in nums in-place. The order of the\n",
    "elements may be changed. Then return the number of\n",
    "elements in nums which are not equal to val.\n",
    "Consider the number of elements in nums which are not equal\n",
    "to val be k, to get accepted, you need to do the following\n",
    "things:\n",
    "- Change the array nums such that the ﬁrst k elements of\n",
    "nums contain the elements which are not equal to val. The\n",
    "remaining elements of nums are not important as well as\n",
    "the size of nums.\n",
    "- Return k.\n",
    "- Example :\n",
    "Input: nums = [3,2,2,3], val = 3\n",
    "Output: 2, nums = [2,2,_,_]\n",
    "- Explanation: Your function should return k = 2, with the ﬁrst\n",
    "two elements of nums being 2. It does not matter what you\n",
    "leave beyond the returned k (hence they are underscores)"
   ]
  },
  {
   "cell_type": "code",
   "execution_count": 12,
   "id": "976a8e16",
   "metadata": {},
   "outputs": [
    {
     "name": "stdout",
     "output_type": "stream",
     "text": [
      "The Value of K = 2 & Nums:  [2, 2]\n"
     ]
    }
   ],
   "source": [
    "def remove_element(nums, val):\n",
    "    k = 0  # Count of elements not equal to value\n",
    "\n",
    "    for i in range(len(nums)):\n",
    "        if nums[i] != val:\n",
    "            nums[k] = nums[i]\n",
    "            k += 1\n",
    "\n",
    "    return k\n",
    "\n",
    "# Given Use case:\n",
    "nums = [3, 2, 2, 3]\n",
    "val = 3\n",
    "k = remove_element(nums, val)\n",
    "print('The Value of K =', k, '&', 'Nums: ', nums[:k])"
   ]
  },
  {
   "cell_type": "markdown",
   "id": "2ba26a11",
   "metadata": {},
   "source": [
    "**Q3.** Given a sorted array of distinct integers and a target\n",
    "value, return the index if the target is found. If not, return the\n",
    "index where it would be if it were inserted in order.\n",
    "- You must write an algorithm with O(log n) runtime complexity.\n",
    "- Example 1:\n",
    "- Input: nums = [1,3,5,6], target = 5\n",
    "- Output: 2"
   ]
  },
  {
   "cell_type": "code",
   "execution_count": 15,
   "id": "83f88ea3",
   "metadata": {},
   "outputs": [
    {
     "name": "stdout",
     "output_type": "stream",
     "text": [
      "2\n"
     ]
    }
   ],
   "source": [
    "def search_insert(nums, target):\n",
    "    return binary_search(nums, target, 0, len(nums) - 1)\n",
    "\n",
    "def binary_search(nums, target, left, right):\n",
    "    if left > right:\n",
    "        return left\n",
    "\n",
    "    mid = (left + right) // 2\n",
    "\n",
    "    if nums[mid] == target:\n",
    "        return mid\n",
    "    elif nums[mid] < target:\n",
    "        return binary_search(nums, target, mid + 1, right)\n",
    "    else:\n",
    "        return binary_search(nums, target, left, mid - 1)\n",
    "\n",
    "# Given Use Case:\n",
    "nums = [1, 3, 5, 6]\n",
    "target = 5\n",
    "result = search_insert(nums, target)\n",
    "print(result)"
   ]
  },
  {
   "cell_type": "markdown",
   "id": "8a0b8074",
   "metadata": {},
   "source": [
    "**Q4.** You are given a large integer represented as an integer\n",
    "array digits, where each digits[i] is the ith digit of the integer.\n",
    "The digits are ordered from most signiﬁcant to least signiﬁcant\n",
    "in left-to-right order. The large integer does not contain any\n",
    "leading 0's.\n",
    "Increment the large integer by one and return the resulting\n",
    "array of digits.\n",
    "- Example 1:\n",
    "Input: digits = [1,2,3]\n",
    "Output: [1,2,4]\n",
    "- Explanation: The array represents the integer 123.\n",
    "Incrementing by one gives 123 + 1 = 124.\n",
    "Thus, the result should be [1,2,4]."
   ]
  },
  {
   "cell_type": "code",
   "execution_count": 16,
   "id": "1acc57c6",
   "metadata": {},
   "outputs": [
    {
     "name": "stdout",
     "output_type": "stream",
     "text": [
      "[1, 2, 4]\n"
     ]
    }
   ],
   "source": [
    "def plus_one(digits):\n",
    "    n = len(digits)\n",
    "    carry = 1\n",
    "\n",
    "    for i in range(n-1, -1, -1):\n",
    "        digits[i] += carry\n",
    "        carry = digits[i] // 10\n",
    "        digits[i] %= 10\n",
    "\n",
    "    if carry:\n",
    "        digits.insert(0, carry)\n",
    "\n",
    "    return digits\n",
    "\n",
    "# Use Case:\n",
    "digits = [1, 2, 3]\n",
    "result = plus_one(digits)\n",
    "print(result)"
   ]
  },
  {
   "cell_type": "markdown",
   "id": "6a071296",
   "metadata": {},
   "source": [
    "**Q5.** You are given two integer arrays nums1 and nums2, sorted in non-decreasing order, and two integers m and n, representing the number of elements in nums1 and nums2 respectively.\n",
    "\n",
    "Merge nums1 and nums2 into a single array sorted in non-decreasing order.\n",
    "\n",
    "The final sorted array should not be returned by the function, but instead be stored inside the array nums1. To accommodate this, nums1 has a length of m + n, where the first m elements denote the elements that should be merged, and the last n elements are set to 0 and should be ignored. nums2 has a length of n.\n",
    "\n",
    "- Example 1:\n",
    "Input: nums1 = [1,2,3,0,0,0], m = 3, nums2 = [2,5,6], n = 3\n",
    "Output: [1,2,2,3,5,6]"
   ]
  },
  {
   "cell_type": "code",
   "execution_count": 18,
   "id": "29588376",
   "metadata": {},
   "outputs": [
    {
     "name": "stdout",
     "output_type": "stream",
     "text": [
      "[1, 2, 2, 3, 5, 6]\n"
     ]
    }
   ],
   "source": [
    "def merge(nums1, m, nums2, n):\n",
    "    i = m - 1\n",
    "    j = n - 1\n",
    "    k = m + n - 1\n",
    "\n",
    "    while i >= 0 and j >= 0:\n",
    "        if nums1[i] >= nums2[j]:\n",
    "            nums1[k] = nums1[i]\n",
    "            i -= 1\n",
    "        else:\n",
    "            nums1[k] = nums2[j]\n",
    "            j -= 1\n",
    "        k -= 1\n",
    "\n",
    "    while j >= 0:\n",
    "        nums1[k] = nums2[j]\n",
    "        j -= 1\n",
    "        k -= 1\n",
    "\n",
    "# Use Case:\n",
    "nums1 = [1, 2, 3, 0, 0, 0]\n",
    "m = 3\n",
    "nums2 = [2, 5, 6]\n",
    "n = 3\n",
    "\n",
    "merge(nums1, m, nums2, n)\n",
    "print(nums1)"
   ]
  },
  {
   "cell_type": "markdown",
   "id": "f9014ee5",
   "metadata": {},
   "source": [
    "**Q6.** Given an integer array nums, return true if any value\n",
    "appears at least twice in the array, and return false if every\n",
    "element is distinct.\n",
    "- Example 1:\n",
    "Input: nums = [1,2,3,1]\n",
    "Output: true"
   ]
  },
  {
   "cell_type": "code",
   "execution_count": 19,
   "id": "471c7e75",
   "metadata": {},
   "outputs": [
    {
     "name": "stdout",
     "output_type": "stream",
     "text": [
      "True\n"
     ]
    }
   ],
   "source": [
    "def contains_duplicate(nums):\n",
    "    num_set = set()\n",
    "\n",
    "    for num in nums:\n",
    "        if num in num_set:\n",
    "            return True\n",
    "        num_set.add(num)\n",
    "\n",
    "    return False\n",
    "\n",
    "# Use Case:\n",
    "nums = [1, 2, 3, 1]\n",
    "result = contains_duplicate(nums)\n",
    "print(result)"
   ]
  },
  {
   "cell_type": "markdown",
   "id": "b6c4afd9",
   "metadata": {},
   "source": [
    "**Q7.** Given an integer array nums, move all 0's to the end of it\n",
    "while maintaining the relative order of the nonzero elements.\n",
    "Note that you must do this in-place without making a copy of\n",
    "the array.\n",
    "- Example 1:\n",
    "Input: nums = [0,1,0,3,12]\n",
    "Output: [1,3,12,0,0]"
   ]
  },
  {
   "cell_type": "code",
   "execution_count": 20,
   "id": "d09bda22",
   "metadata": {},
   "outputs": [
    {
     "name": "stdout",
     "output_type": "stream",
     "text": [
      "[1, 3, 12, 0, 0]\n"
     ]
    }
   ],
   "source": [
    "def move_zeroes(nums):\n",
    "    n = len(nums)\n",
    "    zero_count = 0\n",
    "\n",
    "    # Move all non-zero elements to the left side of the array\n",
    "    for i in range(n):\n",
    "        if nums[i] != 0:\n",
    "            nums[i - zero_count] = nums[i]\n",
    "        else:\n",
    "            zero_count += 1\n",
    "\n",
    "    # Fill the remaining elements with zeros\n",
    "    for i in range(n - zero_count, n):\n",
    "        nums[i] = 0\n",
    "\n",
    "# Use Case:\n",
    "nums = [0, 1, 0, 3, 12]\n",
    "move_zeroes(nums)\n",
    "print(nums)"
   ]
  },
  {
   "cell_type": "markdown",
   "id": "23c08668",
   "metadata": {},
   "source": [
    "**Q8.** You have a set of integers s, which originally contains all\n",
    "the numbers from 1 to n. Unfortunately, due to some error, one\n",
    "of the numbers in s got duplicated to another number in the\n",
    "set, which results in repetition of one number and loss of\n",
    "another number.\n",
    "You are given an integer array nums representing the data\n",
    "status of this set after the error.\n",
    "Find the number that occurs twice and the number that is\n",
    "missing and return them in the form of an array.\n",
    "- Example 1:\n",
    "Input: nums = [1,2,2,4]\n",
    "Output: [2,3]"
   ]
  },
  {
   "cell_type": "code",
   "execution_count": 21,
   "id": "6d610ff6",
   "metadata": {},
   "outputs": [
    {
     "name": "stdout",
     "output_type": "stream",
     "text": [
      "[2, 3]\n"
     ]
    }
   ],
   "source": [
    "def find_error_nums(nums):\n",
    "    n = len(nums)\n",
    "    num_set = set()\n",
    "    duplicate = -1\n",
    "    missing = -1\n",
    "\n",
    "    for num in nums:\n",
    "        if num in num_set:\n",
    "            duplicate = num\n",
    "        num_set.add(num)\n",
    "\n",
    "    for i in range(1, n + 1):\n",
    "        if i not in num_set:\n",
    "            missing = i\n",
    "\n",
    "    return [duplicate, missing]\n",
    "\n",
    "# Use Case:\n",
    "nums = [1, 2, 2, 4]\n",
    "result = find_error_nums(nums)\n",
    "print(result)"
   ]
  },
  {
   "cell_type": "code",
   "execution_count": null,
   "id": "deaf1b88",
   "metadata": {},
   "outputs": [],
   "source": []
  }
 ],
 "metadata": {
  "kernelspec": {
   "display_name": "Python 3 (ipykernel)",
   "language": "python",
   "name": "python3"
  },
  "language_info": {
   "codemirror_mode": {
    "name": "ipython",
    "version": 3
   },
   "file_extension": ".py",
   "mimetype": "text/x-python",
   "name": "python",
   "nbconvert_exporter": "python",
   "pygments_lexer": "ipython3",
   "version": "3.9.16"
  }
 },
 "nbformat": 4,
 "nbformat_minor": 5
}
