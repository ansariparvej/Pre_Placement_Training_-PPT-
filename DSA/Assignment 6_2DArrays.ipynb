{
 "cells": [
  {
   "cell_type": "markdown",
   "id": "5d6fb39c",
   "metadata": {},
   "source": [
    "**Question 1**\n",
    "A permutation perm of n + 1 integers of all the integers in the range [0, n] can be\n",
    "represented as a string s of length n where:\n",
    "- s[i] == 'I' if perm[i] < perm[i + 1], and\n",
    "- s[i] == 'D' if perm[i] > perm[i + 1].\n",
    "Given a string s, reconstruct the permutation perm and return it. If there are multiple valid\n",
    "permutations perm, return any of them.\n",
    "- Example 1:\n",
    "Input: s = \"IDID\"\n",
    "Output:\n",
    "[0,4,1,3,2]"
   ]
  },
  {
   "cell_type": "code",
   "execution_count": 1,
   "id": "bd6a7639",
   "metadata": {},
   "outputs": [
    {
     "name": "stdout",
     "output_type": "stream",
     "text": [
      "[0, 4, 1, 3, 2]\n"
     ]
    }
   ],
   "source": [
    "def reconstruct_permutation(s):\n",
    "    n = len(s)\n",
    "    perm = []\n",
    "    low, high = 0, n\n",
    "\n",
    "    for char in s:\n",
    "        if char == 'I':\n",
    "            perm.append(low)\n",
    "            low += 1\n",
    "        else:\n",
    "            perm.append(high)\n",
    "            high -= 1\n",
    "\n",
    "    perm.append(low)\n",
    "\n",
    "    return perm\n",
    "\n",
    "# Use Case:\n",
    "s = \"IDID\"\n",
    "output = reconstruct_permutation(s)\n",
    "print(output)"
   ]
  },
  {
   "cell_type": "markdown",
   "id": "c791bac9",
   "metadata": {},
   "source": [
    "**Question 2**\n",
    "You are given an m x n integer matrix matrix with the following two properties:\n",
    "- Each row is sorted in non-decreasing order.\n",
    "- The ﬁrst integer of each row is greater than the last integer of the previous row.\n",
    "Given an integer target, return true if target is in matrix or false otherwise.\n",
    "You must write a solution in O(log(m * n)) time complexity.\n",
    "- Example 1:\n",
    "Input: matrix = [[1,3,5,7],[10,11,16,20],[23,30,34,60]], target = 3\n",
    "Output: true"
   ]
  },
  {
   "cell_type": "code",
   "execution_count": 2,
   "id": "eca3ce83",
   "metadata": {},
   "outputs": [
    {
     "name": "stdout",
     "output_type": "stream",
     "text": [
      "True\n"
     ]
    }
   ],
   "source": [
    "def search_matrix(matrix, target):\n",
    "    if not matrix or not matrix[0]:\n",
    "        return False\n",
    "\n",
    "    rows, cols = len(matrix), len(matrix[0])\n",
    "    left, right = 0, rows * cols - 1\n",
    "\n",
    "    while left <= right:\n",
    "        mid = (left + right) // 2\n",
    "        mid_element = matrix[mid // cols][mid % cols]\n",
    "\n",
    "        if mid_element == target:\n",
    "            return True\n",
    "        elif mid_element < target:\n",
    "            left = mid + 1\n",
    "        else:\n",
    "            right = mid - 1\n",
    "\n",
    "    return False\n",
    "\n",
    "# Use Case:\n",
    "matrix = [[1, 3, 5, 7], [10, 11, 16, 20], [23, 30, 34, 60]]\n",
    "target = 3\n",
    "output = search_matrix(matrix, target)\n",
    "print(output)"
   ]
  },
  {
   "cell_type": "markdown",
   "id": "fe14ee64",
   "metadata": {},
   "source": [
    "**Question 3**\n",
    "Given an array of integers arr, return true if and only if it is a valid mountain array.\n",
    "Recall that arr is a mountain array if and only if:\n",
    "Recall that arr is a mountain array if and only if:\n",
    "- arr.length >= 3\n",
    "- There exists some i with 0 < i < arr.length - 1 such that:\n",
    "◦ arr[0] < arr[1] < ... < arr[i - 1] < arr[i]\n",
    "◦ arr[i] > arr[i + 1] > ... > arr[arr.length - 1]\n",
    "- Example 1:\n",
    "Input: arr = [2,1] Output:\n",
    "false"
   ]
  },
  {
   "cell_type": "code",
   "execution_count": 3,
   "id": "2965835e",
   "metadata": {},
   "outputs": [
    {
     "name": "stdout",
     "output_type": "stream",
     "text": [
      "False\n"
     ]
    }
   ],
   "source": [
    "def valid_mountain_array(arr):\n",
    "    n = len(arr)\n",
    "    if n < 3:\n",
    "        return False\n",
    "\n",
    "    i = 0\n",
    "    # Increasing phase\n",
    "    while i < n - 1 and arr[i] < arr[i + 1]:\n",
    "        i += 1\n",
    "\n",
    "    # Peak cannot be the first or last element\n",
    "    if i == 0 or i == n - 1:\n",
    "        return False\n",
    "\n",
    "    # Decreasing phase\n",
    "    while i < n - 1 and arr[i] > arr[i + 1]:\n",
    "        i += 1\n",
    "\n",
    "    return i == n - 1\n",
    "\n",
    "# Use Case:\n",
    "arr = [2, 1]\n",
    "output = valid_mountain_array(arr)\n",
    "print(output)"
   ]
  },
  {
   "cell_type": "markdown",
   "id": "c3791e5a",
   "metadata": {},
   "source": [
    "**Question 4**\n",
    "Given a binary array nums, return the maximum length of a contiguous subarray with an\n",
    "equal number of 0 and 1.\n",
    "- Example 1:\n",
    "Input: nums = [0,1]\n",
    "Output: 2\n",
    "- Explanation:\n",
    "[0, 1] is the longest contiguous subarray with an equal number of 0 and 1."
   ]
  },
  {
   "cell_type": "code",
   "execution_count": 4,
   "id": "5cb3454c",
   "metadata": {},
   "outputs": [
    {
     "name": "stdout",
     "output_type": "stream",
     "text": [
      "2\n"
     ]
    }
   ],
   "source": [
    "def find_max_length(nums):\n",
    "    count_map = {0: -1}\n",
    "    max_length = 0\n",
    "    count = 0\n",
    "\n",
    "    for i, num in enumerate(nums):\n",
    "        if num == 0:\n",
    "            count -= 1\n",
    "        else:\n",
    "            count += 1\n",
    "\n",
    "        if count in count_map:\n",
    "            max_length = max(max_length, i - count_map[count])\n",
    "        else:\n",
    "            count_map[count] = i\n",
    "\n",
    "    return max_length\n",
    "\n",
    "# Use Case:\n",
    "nums = [0, 1]\n",
    "output = find_max_length(nums)\n",
    "print(output)"
   ]
  },
  {
   "cell_type": "markdown",
   "id": "5c3a6544",
   "metadata": {},
   "source": [
    "**Question 5**\n",
    "The product sum of two equal-length arrays a and b is equal to the sum of a[i] * b[i] for all\n",
    "0 <= i < a.length (0-indexed).\n",
    "-  For example, if a = [1,2,3,4] and b = [5,2,3,1], the product sum would be 1*5 + 2*2 +\n",
    "3*3 + 4*1 = 22.\n",
    "- Given two arrays nums1 and nums2 of length n, return the minimum product sum if you\n",
    "are allowed to rearrange the order of the elements in nums1.\n",
    "-  Example 1:\n",
    "Input: nums1 = [5,3,4,2], nums2 = [4,2,2,5]\n",
    "Output: 40\n",
    "- Explanation:\n",
    "We can rearrange nums1 to become [3,5,4,2]. The product sum of [3,5,4,2] and [4,2,2,5] is\n",
    "3*4 + 5*2 + 4*2 + 2*5 = 40."
   ]
  },
  {
   "cell_type": "code",
   "execution_count": 5,
   "id": "4da2e58c",
   "metadata": {},
   "outputs": [
    {
     "name": "stdout",
     "output_type": "stream",
     "text": [
      "40\n"
     ]
    }
   ],
   "source": [
    "def min_product_sum(nums1, nums2):\n",
    "    nums1.sort()\n",
    "    nums2.sort(reverse=True)\n",
    "\n",
    "    min_product_sum = 0\n",
    "\n",
    "    for i in range(len(nums1)):\n",
    "        min_product_sum += nums1[i] * nums2[i]\n",
    "\n",
    "    return min_product_sum\n",
    "\n",
    "# Use Case:\n",
    "nums1 = [5, 3, 4, 2]\n",
    "nums2 = [4, 2, 2, 5]\n",
    "output = min_product_sum(nums1, nums2)\n",
    "print(output)"
   ]
  },
  {
   "cell_type": "markdown",
   "id": "a8b91bd5",
   "metadata": {},
   "source": [
    "**Question 6**\n",
    "An integer array original is transformed into a doubled array changed by appending twice\n",
    "the value of every element in original, and then randomly shuﬄing the resulting array.\n",
    "Given an array changed, return original if changed is a doubled array. If changed is not a\n",
    "doubled array, return an empty array. The elements in original may be returned in any\n",
    "order.\n",
    "- Example 1:\n",
    "Input: changed = [1,3,4,2,6,8]\n",
    "Output: [1,3,4]\n",
    "- Explanation: One possible original array could be [1,3,4]:\n",
    "- Twice the value of 1 is 1 * 2 = 2.\n",
    "- Twice the value of 3 is 3 * 2 = 6.\n",
    "- Twice the value of 4 is 4 * 2 = 8.\n",
    "Other original arrays could be [4,3,1] or [3,1,4]."
   ]
  },
  {
   "cell_type": "code",
   "execution_count": 6,
   "id": "454ace0e",
   "metadata": {},
   "outputs": [
    {
     "name": "stdout",
     "output_type": "stream",
     "text": [
      "[1, 3, 4]\n"
     ]
    }
   ],
   "source": [
    "from collections import defaultdict\n",
    "\n",
    "def find_original_array(changed):\n",
    "    count_dict = defaultdict(int)\n",
    "\n",
    "    for num in changed:\n",
    "        count_dict[num] += 1\n",
    "\n",
    "    original = []\n",
    "\n",
    "    for num in changed:\n",
    "        if count_dict[num] > 0:\n",
    "            if count_dict[num * 2] > 0:\n",
    "                original.append(num)\n",
    "                count_dict[num] -= 1\n",
    "                count_dict[num * 2] -= 1\n",
    "            else:\n",
    "                return []\n",
    "\n",
    "    if all(count == 0 for count in count_dict.values()):\n",
    "        return original\n",
    "    else:\n",
    "        return []\n",
    "\n",
    "# Use Case:\n",
    "changed = [1, 3, 4, 2, 6, 8]\n",
    "output = find_original_array(changed)\n",
    "print(output)"
   ]
  },
  {
   "cell_type": "markdown",
   "id": "ebdd143a",
   "metadata": {},
   "source": [
    "**Question 7**\n",
    "Given a positive integer n, generate an n x n matrix ﬁlled with elements from 1 to n2 in\n",
    "spiral order.\n",
    "- Example 1:\n",
    "Input: n = 3\n",
    "Output: [[1,2,3],[8,9,4],[7,6,5]]"
   ]
  },
  {
   "cell_type": "code",
   "execution_count": 7,
   "id": "717d830f",
   "metadata": {},
   "outputs": [
    {
     "name": "stdout",
     "output_type": "stream",
     "text": [
      "[[1, 2, 3], [8, 9, 4], [7, 6, 5]]\n"
     ]
    }
   ],
   "source": [
    "def generate_matrix(n):\n",
    "    matrix = [[0] * n for _ in range(n)]\n",
    "    top, bottom, left, right = 0, n - 1, 0, n - 1\n",
    "    num = 1\n",
    "\n",
    "    while num <= n**2:\n",
    "        # Fill top row\n",
    "        for i in range(left, right + 1):\n",
    "            matrix[top][i] = num\n",
    "            num += 1\n",
    "        top += 1\n",
    "\n",
    "        # Fill right column\n",
    "        for i in range(top, bottom + 1):\n",
    "            matrix[i][right] = num\n",
    "            num += 1\n",
    "        right -= 1\n",
    "\n",
    "        # Fill bottom row\n",
    "        for i in range(right, left - 1, -1):\n",
    "            matrix[bottom][i] = num\n",
    "            num += 1\n",
    "        bottom -= 1\n",
    "\n",
    "        # Fill left column\n",
    "        for i in range(bottom, top - 1, -1):\n",
    "            matrix[i][left] = num\n",
    "            num += 1\n",
    "        left += 1\n",
    "\n",
    "    return matrix\n",
    "\n",
    "# Use Case:\n",
    "n = 3\n",
    "output = generate_matrix(n)\n",
    "print(output)"
   ]
  },
  {
   "cell_type": "markdown",
   "id": "f59efeb4",
   "metadata": {},
   "source": [
    "**Question 8**\n",
    "Given two sparse matrices mat1 of size m x k and mat2 of size k x n, return the result of\n",
    "mat1 x mat2. You may assume that multiplication is always possible.\n",
    "- Example 1:\n",
    "Input: mat1 = [[1,0,0],[-1,0,3]], mat2 = [[7,0,0],[0,0,0],[0,0,1]]\n",
    "Output:\n",
    "[[7,0,0],[-7,0,3]]"
   ]
  },
  {
   "cell_type": "code",
   "execution_count": 8,
   "id": "c600d7de",
   "metadata": {},
   "outputs": [
    {
     "name": "stdout",
     "output_type": "stream",
     "text": [
      "[[7, 0, 0], [-7, 0, 3]]\n"
     ]
    }
   ],
   "source": [
    "def multiply(mat1, mat2):\n",
    "    result = [[0] * len(mat2[0]) for _ in range(len(mat1))]\n",
    "\n",
    "    for i in range(len(mat1)):\n",
    "        for j in range(len(mat2[0])):\n",
    "            for k in range(len(mat2)):\n",
    "                result[i][j] += mat1[i][k] * mat2[k][j]\n",
    "\n",
    "    return result\n",
    "\n",
    "# Use Case:\n",
    "mat1 = [[1, 0, 0], [-1, 0, 3]]\n",
    "mat2 = [[7, 0, 0], [0, 0, 0], [0, 0, 1]]\n",
    "output = multiply(mat1, mat2)\n",
    "print(output)"
   ]
  },
  {
   "cell_type": "code",
   "execution_count": null,
   "id": "e9a69bec",
   "metadata": {},
   "outputs": [],
   "source": []
  }
 ],
 "metadata": {
  "kernelspec": {
   "display_name": "Python 3 (ipykernel)",
   "language": "python",
   "name": "python3"
  },
  "language_info": {
   "codemirror_mode": {
    "name": "ipython",
    "version": 3
   },
   "file_extension": ".py",
   "mimetype": "text/x-python",
   "name": "python",
   "nbconvert_exporter": "python",
   "pygments_lexer": "ipython3",
   "version": "3.9.16"
  }
 },
 "nbformat": 4,
 "nbformat_minor": 5
}
