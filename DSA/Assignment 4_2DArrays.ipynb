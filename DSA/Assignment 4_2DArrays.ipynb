{
 "cells": [
  {
   "cell_type": "markdown",
   "id": "b8808ae9",
   "metadata": {},
   "source": [
    "**Question 1**\n",
    "Given three integer arrays arr1, arr2 and arr3 sorted in\n",
    "strictly increasing order, return a sorted array of only the\n",
    "integers that appeared in all three arrays.\n",
    "- Example 1:\n",
    "Input: arr1 = [1,2,3,4,5], arr2 = [1,2,5,7,9], arr3 = [1,3,4,5,8]\n",
    "Output: [1,5]\n",
    "- Explanation: Only 1 and 5 appeared in the three arrays."
   ]
  },
  {
   "cell_type": "code",
   "execution_count": 1,
   "id": "1054a5b2",
   "metadata": {},
   "outputs": [
    {
     "name": "stdout",
     "output_type": "stream",
     "text": [
      "[1, 5]\n"
     ]
    }
   ],
   "source": [
    "def arrays_intersection(arr1, arr2, arr3):\n",
    "    p1, p2, p3 = 0, 0, 0\n",
    "    result = []\n",
    "    while p1 < len(arr1) and p2 < len(arr2) and p3 < len(arr3):\n",
    "        if arr1[p1] == arr2[p2] == arr3[p3]:\n",
    "            result.append(arr1[p1])\n",
    "            p1 += 1\n",
    "            p2 += 1\n",
    "            p3 += 1\n",
    "        else:\n",
    "            min_val = min(arr1[p1], arr2[p2], arr3[p3])\n",
    "            if arr1[p1] == min_val:\n",
    "                p1 += 1\n",
    "            if arr2[p2] == min_val:\n",
    "                p2 += 1\n",
    "            if arr3[p3] == min_val:\n",
    "                p3 += 1\n",
    "    return result\n",
    "\n",
    "# Use Case:\n",
    "arr1 = [1, 2, 3, 4, 5]\n",
    "arr2 = [1, 2, 5, 7, 9]\n",
    "arr3 = [1, 3, 4, 5, 8]\n",
    "result = arrays_intersection(arr1, arr2, arr3)\n",
    "print(result)"
   ]
  },
  {
   "cell_type": "markdown",
   "id": "9c5a855d",
   "metadata": {},
   "source": [
    "**Question 2**\n",
    "Given two 0-indexed integer arrays nums1 and nums2, return\n",
    "a list answer of size 2 where:\n",
    "- answer[0] is a list of all distinct integers in nums1 which\n",
    "are not present in nums2.\n",
    "- answer[1] is a list of all distinct integers in nums2 which\n",
    "are not present in nums1.\n",
    "Note that the integers in the lists may be returned in any\n",
    "order.\n",
    "- Example 1:\n",
    "Input: nums1 = [1,2,3], nums2 = [2,4,6]\n",
    "Output: [[1,3],[4,6]]\n",
    "- Explanation:\n",
    "For nums1, nums1[1] = 2 is present at index 0 of nums2,\n",
    "whereas nums1[0] = 1 and nums1[2] = 3 are not present in\n",
    "nums2. Therefore, answer[0] = [1,3].\n",
    "For nums2, nums2[0] = 2 is present at index 1 of nums1,\n",
    "whereas nums2[1] = 4 and nums2[2] = 6 are not present in nums2. Therefore, answer[1] = [4,6]."
   ]
  },
  {
   "cell_type": "code",
   "execution_count": 2,
   "id": "ba666ea7",
   "metadata": {},
   "outputs": [
    {
     "name": "stdout",
     "output_type": "stream",
     "text": [
      "[[1, 3], [4, 6]]\n"
     ]
    }
   ],
   "source": [
    "def find_disappeared_numbers(nums1, nums2):\n",
    "    set1 = set(nums1)\n",
    "    set2 = set(nums2)\n",
    "    diff1 = list(set1 - set2)\n",
    "    diff2 = list(set2 - set1)\n",
    "    return [diff1, diff2]\n",
    "\n",
    "# Use Case:\n",
    "nums1 = [1, 2, 3]\n",
    "nums2 = [2, 4, 6]\n",
    "result = find_disappeared_numbers(nums1, nums2)\n",
    "print(result)"
   ]
  },
  {
   "cell_type": "markdown",
   "id": "f317cc18",
   "metadata": {},
   "source": [
    "**Question 3**\n",
    "Given a 2D integer array matrix, return the transpose of\n",
    "matrix.\n",
    "The transpose of a matrix is the matrix ﬂipped over its main\n",
    "diagonal, switching the matrix's row and column indices.\n",
    "- Example 1:\n",
    "Input: matrix = [[1,2,3],[4,5,6],[7,8,9]]\n",
    "Output: [[1,4,7],[2,5,8],[3,6,9]]"
   ]
  },
  {
   "cell_type": "code",
   "execution_count": 3,
   "id": "63cbce1d",
   "metadata": {},
   "outputs": [
    {
     "name": "stdout",
     "output_type": "stream",
     "text": [
      "[[1, 4, 7], [2, 5, 8], [3, 6, 9]]\n"
     ]
    }
   ],
   "source": [
    "def transpose(matrix):\n",
    "    m = len(matrix)  # number of rows\n",
    "    n = len(matrix[0])  # number of columns\n",
    "\n",
    "    # Initialize an empty matrix with dimensions n x m\n",
    "    result = [[0] * m for _ in range(n)]\n",
    "\n",
    "    for i in range(m):\n",
    "        for j in range(n):\n",
    "            result[j][i] = matrix[i][j]\n",
    "\n",
    "    return result\n",
    "\n",
    "# Use Case:\n",
    "matrix = [[1, 2, 3], [4, 5, 6], [7, 8, 9]]\n",
    "result = transpose(matrix)\n",
    "print(result)"
   ]
  },
  {
   "cell_type": "markdown",
   "id": "306d2b8d",
   "metadata": {},
   "source": [
    "**Question 4**\n",
    "Given an integer array nums of 2n integers, group these\n",
    "integers into n pairs (a1, b1), (a2, b2), ..., (an, bn) such that\n",
    "the sum of min(ai, bi) for all i is maximized. Return the\n",
    "maximized sum.\n",
    "- Example 1:\n",
    "Input: nums = [1,4,3,2]\n",
    "Output: 4\n",
    "- Explanation: All possible pairings (ignoring the ordering of\n",
    "elements) are:\n",
    "1. (1, 4), (2, 3) -> min(1, 4) + min(2, 3) = 1 + 2 = 3\n",
    "2. (1, 3), (2, 4) -> min(1, 3) + min(2, 4) = 1 + 2 = 3\n",
    "3. (1, 2), (3, 4) -> min(1, 2) + min(3, 4) = 1 + 3 = 4\n",
    "So the maximum possible sum is 4."
   ]
  },
  {
   "cell_type": "code",
   "execution_count": 4,
   "id": "00676170",
   "metadata": {},
   "outputs": [
    {
     "name": "stdout",
     "output_type": "stream",
     "text": [
      "4\n"
     ]
    }
   ],
   "source": [
    "def array_pair_sum(nums):\n",
    "    nums.sort()\n",
    "    max_sum = 0\n",
    "\n",
    "    for i in range(0, len(nums), 2):\n",
    "        max_sum += nums[i]\n",
    "\n",
    "    return max_sum\n",
    "\n",
    "# Use Case:\n",
    "nums = [1, 4, 3, 2]\n",
    "max_sum = array_pair_sum(nums)\n",
    "print(max_sum)"
   ]
  },
  {
   "cell_type": "markdown",
   "id": "e6d019ee",
   "metadata": {},
   "source": [
    "**Question 5**\n",
    "You have n coins and you want to build a staircase with these\n",
    "coins. The staircase consists of k rows where the ith row has\n",
    "exactly i coins. The last row of the staircase may be\n",
    "incomplete.\n",
    "Given the integer n, return the number of complete rows of\n",
    "the staircase you will build.\n",
    "- Example 1:\n",
    "Input: n = 5\n",
    "Output: 2\n",
    "- Explanation: Because the 3rd row is incomplete, we return 2."
   ]
  },
  {
   "cell_type": "code",
   "execution_count": 5,
   "id": "4f1bf7f4",
   "metadata": {},
   "outputs": [
    {
     "name": "stdout",
     "output_type": "stream",
     "text": [
      "2\n"
     ]
    }
   ],
   "source": [
    "def arrange_coins(n):\n",
    "    left, right = 1, n\n",
    "\n",
    "    while left <= right:\n",
    "        mid = (left + right) // 2\n",
    "        coins_needed = mid * (mid + 1) // 2\n",
    "\n",
    "        if coins_needed <= n:\n",
    "            left = mid + 1\n",
    "        else:\n",
    "            right = mid - 1\n",
    "\n",
    "    return right\n",
    "\n",
    "# Use Case:\n",
    "n = 5\n",
    "complete_rows = arrange_coins(n)\n",
    "print(complete_rows)"
   ]
  },
  {
   "cell_type": "markdown",
   "id": "70a1b568",
   "metadata": {},
   "source": [
    "**Question 6**\n",
    "Given an integer array nums sorted in non-decreasing order,\n",
    "return an array of the squares of each number sorted in non-\n",
    "decreasing order.\n",
    "- Example 1:\n",
    "Input: nums = [-4,-1,0,3,10]\n",
    "Output: [0,1,9,16,100]\n",
    "- Explanation: After squaring, the array becomes\n",
    "[16,1,0,9,100].\n",
    "After sorting, it becomes [0,1,9,16,100]"
   ]
  },
  {
   "cell_type": "code",
   "execution_count": 10,
   "id": "c862a910",
   "metadata": {},
   "outputs": [
    {
     "name": "stdout",
     "output_type": "stream",
     "text": [
      "[0, 1, 9, 16, 100]\n"
     ]
    }
   ],
   "source": [
    "def sorted_squares(nums):\n",
    "    result = [num ** 2 for num in nums]\n",
    "    result.sort()\n",
    "    return result\n",
    "\n",
    "# Use Case:\n",
    "nums = [-4, -1, 0, 3, 10]\n",
    "result = sorted_squares(nums)\n",
    "print(result)"
   ]
  },
  {
   "cell_type": "markdown",
   "id": "0bdaf49c",
   "metadata": {},
   "source": [
    "**Question 7**\n",
    "You are given an m x n matrix M initialized with all 0's and an\n",
    "array of operations ops, where ops[i] = [ai, bi] means M[x][y]\n",
    "should be incremented by one for all 0 <= x < ai and 0 <= y <\n",
    "bi.\n",
    "Count and return the number of maximum integers in the\n",
    "matrix after performing all the operations\n",
    "- Example 1:Input: m = 3, n = 3, ops = [[2,2],[3,3]]\n",
    "Output: 4\n",
    "- Explanation: The maximum integer in M is 2, and there are\n",
    "four of it in M. So return 4."
   ]
  },
  {
   "cell_type": "code",
   "execution_count": 8,
   "id": "e10c91b6",
   "metadata": {},
   "outputs": [
    {
     "name": "stdout",
     "output_type": "stream",
     "text": [
      "4\n"
     ]
    }
   ],
   "source": [
    "def max_count(m, n, ops):\n",
    "    max_row, max_col = m, n\n",
    "\n",
    "    for op in ops:\n",
    "        max_row = min(max_row, op[0])\n",
    "        max_col = min(max_col, op[1])\n",
    "\n",
    "    return max_row * max_col\n",
    "\n",
    "# Use Case:\n",
    "m = 3\n",
    "n = 3\n",
    "ops = [[2, 2], [3, 3]]\n",
    "result = max_count(m, n, ops)\n",
    "print(result)"
   ]
  },
  {
   "cell_type": "markdown",
   "id": "732d7d93",
   "metadata": {},
   "source": [
    "**Question 8**\n",
    "Given the array nums consisting of 2n elements in the form\n",
    "[x1,x2,...,xn,y1,y2,...,yn].\n",
    "Return the array in the form [x1,y1,x2,y2,...,xn,yn].\n",
    "- Example 1:\n",
    "Input: nums = [2,5,1,3,4,7], n = 3\n",
    "Output: [2,3,5,4,1,7]\n",
    "- Explanation: Since x1=2, x2=5, x3=1, y1=3, y2=4, y3=7 then\n",
    "the answer is [2,3,5,4,1,7]."
   ]
  },
  {
   "cell_type": "code",
   "execution_count": 9,
   "id": "fd92e7e3",
   "metadata": {},
   "outputs": [
    {
     "name": "stdout",
     "output_type": "stream",
     "text": [
      "[2, 3, 5, 4, 1, 7]\n"
     ]
    }
   ],
   "source": [
    "def shuffle(nums, n):\n",
    "    result = []\n",
    "\n",
    "    for i in range(n):\n",
    "        result.append(nums[i])\n",
    "        result.append(nums[i + n])\n",
    "\n",
    "    return result\n",
    "\n",
    "# Use Case:\n",
    "nums = [2, 5, 1, 3, 4, 7]\n",
    "n = 3\n",
    "result = shuffle(nums, n)\n",
    "print(result)"
   ]
  },
  {
   "cell_type": "code",
   "execution_count": null,
   "id": "f26530e0",
   "metadata": {},
   "outputs": [],
   "source": []
  }
 ],
 "metadata": {
  "kernelspec": {
   "display_name": "Python 3 (ipykernel)",
   "language": "python",
   "name": "python3"
  },
  "language_info": {
   "codemirror_mode": {
    "name": "ipython",
    "version": 3
   },
   "file_extension": ".py",
   "mimetype": "text/x-python",
   "name": "python",
   "nbconvert_exporter": "python",
   "pygments_lexer": "ipython3",
   "version": "3.9.16"
  }
 },
 "nbformat": 4,
 "nbformat_minor": 5
}
