{
 "cells": [
  {
   "cell_type": "markdown",
   "id": "5d6fb39c",
   "metadata": {},
   "source": [
    "**Question 1**\n",
    "- Merge k Sorted Lists\n",
    "- You are given an array of k linked-lists lists , each linked-\n",
    "list is sorted in ascending order.\n",
    "Merge all the linked-lists into one sorted linked-list and return\n",
    "it.\n",
    "- Example 1:\n",
    "Input: lists = [[1,4,5],[1,3,4],[2,6]] Output:\n",
    "[1,1,2,3,4,4,5,6] \n",
    "- Explanation: The linked-lists\n",
    "are: [ 1->4->5, 1->3->4, 2->6 ] merging them int\n",
    "o one sorted list: 1->1->2->3->4->4->5->6\n",
    "- Example 2:\n",
    "Input: lists = [] Output: []\n",
    "- Example 3:\n",
    "Input: lists = [[]] Output: []\n",
    "- Constraints:\n",
    "- k == lists.length\n",
    "- 0 <= k <= 10000\n",
    "- 0 <= lists[i].length <= 500\n",
    "- -10000 <= lists[i][j] <= 10000\n",
    "- lists[i] is sorted in ascending order.\n",
    "- The sum of lists[i].length will not exceed 10000 ."
   ]
  },
  {
   "cell_type": "code",
   "execution_count": 6,
   "id": "bd6a7639",
   "metadata": {},
   "outputs": [],
   "source": [
    "import heapq\n",
    "\n",
    "class ListNode:\n",
    "    def __init__(self, val=0, next=None):\n",
    "        self.val = val\n",
    "        self.next = next\n",
    "\n",
    "def merge_k_lists(lists):\n",
    "    # Initialize min-heap\n",
    "    min_heap = []\n",
    "    \n",
    "    # Push the first element from each list into the min-heap\n",
    "    for i, lst in enumerate(lists):\n",
    "        if lst:\n",
    "            heapq.heappush(min_heap, (lst.val, i))\n",
    "            lists[i] = lst.next  # Move the pointer to the next element\n",
    "    \n",
    "    # Create a dummy node and a pointer\n",
    "    dummy = ListNode()\n",
    "    curr = dummy\n",
    "    \n",
    "    # Process the min-heap\n",
    "    while min_heap:\n",
    "        val, i = heapq.heappop(min_heap)\n",
    "        curr.next = ListNode(val)\n",
    "        curr = curr.next\n",
    "        \n",
    "        if lists[i]:\n",
    "            heapq.heappush(min_heap, (lists[i].val, i))\n",
    "            lists[i] = lists[i].next\n",
    "    \n",
    "    return dummy.next"
   ]
  },
  {
   "cell_type": "code",
   "execution_count": 7,
   "id": "22ee3340",
   "metadata": {},
   "outputs": [
    {
     "name": "stdout",
     "output_type": "stream",
     "text": [
      "1 1 2 3 4 4 5 6 "
     ]
    }
   ],
   "source": [
    "# Example: 01\n",
    "lists = [\n",
    "    ListNode(1, ListNode(4, ListNode(5))),\n",
    "    ListNode(1, ListNode(3, ListNode(4))),\n",
    "    ListNode(2, ListNode(6))\n",
    "]\n",
    "\n",
    "merged_list = merge_k_lists(lists)\n",
    "\n",
    "# Print the merged list\n",
    "while merged_list:\n",
    "    print(merged_list.val, end=\" \")\n",
    "    merged_list = merged_list.next  # Output: [1,1,2,3,4,4,5,6] "
   ]
  },
  {
   "cell_type": "code",
   "execution_count": 8,
   "id": "6486bd06",
   "metadata": {},
   "outputs": [
    {
     "data": {
      "text/plain": [
       "[]"
      ]
     },
     "execution_count": 8,
     "metadata": {},
     "output_type": "execute_result"
    }
   ],
   "source": [
    "# Example: 02\n",
    "lists = []\n",
    "merged_list = merge_k_lists(lists)\n",
    "while merged_list:\n",
    "    print(merged_list.val, end=\" \")\n",
    "    merged_list = merged_list.next\n",
    "    \n",
    "lists   # Output: (empty list)"
   ]
  },
  {
   "cell_type": "code",
   "execution_count": 9,
   "id": "28cf7d99",
   "metadata": {},
   "outputs": [
    {
     "data": {
      "text/plain": [
       "[]"
      ]
     },
     "execution_count": 9,
     "metadata": {},
     "output_type": "execute_result"
    }
   ],
   "source": [
    "# Example: 03\n",
    "lists = [[]]\n",
    "merged_list = merge_k_lists(lists)\n",
    "while merged_list:\n",
    "    print(merged_list.val, end=\" \")\n",
    "    merged_list = merged_list.next\n",
    "    \n",
    "lists[0]   # Output: (empty list)"
   ]
  },
  {
   "cell_type": "markdown",
   "id": "c791bac9",
   "metadata": {},
   "source": [
    "**Question 2**\n",
    "- Count of Smaller Numbers After Self\n",
    "- Given an integer array nums , return an integer\n",
    "array counts where counts[i] is the number of smaller\n",
    "elements to the right of nums[i] .\n",
    "- Example 1:\n",
    "Input: nums = [5,2,6,1] Output: [2,1,1,0] \n",
    "- Explanation: To the right of 5 there are2 smaller elem\n",
    "ents (2 and 1). To the right of 2 there is only1\n",
    "smaller element (1). To the right of 6 there is1\n",
    "smaller element (1). To the right of 1 there is0\n",
    "smaller element.\n",
    "- Example 2:\n",
    "Input: nums = [-1] Output: [0]\n",
    "- Example 3:\n",
    "Input: nums = [-1,-1] Output: [0,0]\n",
    "- Constraints:\n",
    "- 1 <= nums.length <= 100000\n",
    "- -10000 <= nums[i] <= 10000"
   ]
  },
  {
   "cell_type": "code",
   "execution_count": 10,
   "id": "eca3ce83",
   "metadata": {},
   "outputs": [],
   "source": [
    "from bisect import bisect_left\n",
    "\n",
    "def count_smaller(nums):\n",
    "    def merge_sort_with_count(nums, counts):\n",
    "        if len(nums) <= 1:\n",
    "            return nums\n",
    "        \n",
    "        mid = len(nums) // 2\n",
    "        left = merge_sort_with_count(nums[:mid], counts)\n",
    "        right = merge_sort_with_count(nums[mid:], counts)\n",
    "        \n",
    "        merged = []\n",
    "        p1, p2 = 0, 0\n",
    "        smallerCount = 0\n",
    "        \n",
    "        while p1 < len(left) and p2 < len(right):\n",
    "            if left[p1][0] <= right[p2][0]:\n",
    "                merged.append(left[p1])\n",
    "                counts[left[p1][1]] += smallerCount\n",
    "                p1 += 1\n",
    "            else:\n",
    "                merged.append(right[p2])\n",
    "                smallerCount += 1\n",
    "                p2 += 1\n",
    "        \n",
    "        while p1 < len(left):\n",
    "            merged.append(left[p1])\n",
    "            counts[left[p1][1]] += smallerCount\n",
    "            p1 += 1\n",
    "        \n",
    "        while p2 < len(right):\n",
    "            merged.append(right[p2])\n",
    "            p2 += 1\n",
    "        \n",
    "        return merged\n",
    "    \n",
    "    counts = [0] * len(nums)\n",
    "    indexedNums = [(num, index) for index, num in enumerate(nums)]\n",
    "    merge_sort_with_count(indexedNums, counts)\n",
    "    return counts"
   ]
  },
  {
   "cell_type": "code",
   "execution_count": 11,
   "id": "59015dae",
   "metadata": {},
   "outputs": [
    {
     "name": "stdout",
     "output_type": "stream",
     "text": [
      "[2, 1, 1, 0]\n"
     ]
    }
   ],
   "source": [
    "# Example: 01\n",
    "nums1 = [5, 2, 6, 1]\n",
    "print(count_smaller(nums1))  # Output: [2, 1, 1, 0]"
   ]
  },
  {
   "cell_type": "code",
   "execution_count": 12,
   "id": "e50f52e1",
   "metadata": {},
   "outputs": [
    {
     "name": "stdout",
     "output_type": "stream",
     "text": [
      "[0]\n"
     ]
    }
   ],
   "source": [
    "# Example: 02\n",
    "nums2 = [-1]\n",
    "print(count_smaller(nums2))  # Output: [0]"
   ]
  },
  {
   "cell_type": "code",
   "execution_count": 13,
   "id": "9728d9d1",
   "metadata": {},
   "outputs": [
    {
     "name": "stdout",
     "output_type": "stream",
     "text": [
      "[0, 0]\n"
     ]
    }
   ],
   "source": [
    "# Example: 03\n",
    "nums3 = [-1, -1]\n",
    "print(count_smaller(nums3))  # Output: [0, 0]"
   ]
  },
  {
   "cell_type": "markdown",
   "id": "fe14ee64",
   "metadata": {},
   "source": [
    "**Question 3**\n",
    "- Sort an Array\n",
    "- Given an array of integers nums , sort the array in ascending\n",
    "order and return it.\n",
    "- You must solve the problem without using any built-\n",
    "in functions in O(nlog(n)) time complexity and with the\n",
    "smallest space complexity possible.\n",
    "- Example 1: \n",
    "Input: nums = [5,2,3,1] Output: [1,2,3,5] \n",
    "- Explanation: After sorting the array, the positions of\n",
    "some numbers are not changed (for example, 2 and\n",
    "3), while the positions of other numbers are cha\n",
    "nged (for example, 1 and 5).\n",
    "- Example 2:\n",
    "Input: nums = [5,1,1,2,0,0] Output: [0,0,1,1,2,\n",
    "5] Explanation: Note that the values of nums are\n",
    "not necessairly unique.\n",
    "- Constraints:\n",
    "- 1 <= nums.length <= 5 * 10000\n",
    "- -5 * 104 <= nums[i] <= 5 * 10000"
   ]
  },
  {
   "cell_type": "code",
   "execution_count": 14,
   "id": "2965835e",
   "metadata": {},
   "outputs": [],
   "source": [
    "def sort_array(nums):\n",
    "    def partition(nums, low, high):\n",
    "        pivot = nums[high]\n",
    "        i = low\n",
    "        \n",
    "        for j in range(low, high):\n",
    "            if nums[j] <= pivot:\n",
    "                nums[i], nums[j] = nums[j], nums[i]\n",
    "                i += 1\n",
    "        \n",
    "        nums[i], nums[high] = nums[high], nums[i]\n",
    "        return i\n",
    "\n",
    "    def quicksort(nums, low, high):\n",
    "        if low < high:\n",
    "            pivotIndex = partition(nums, low, high)\n",
    "            quicksort(nums, low, pivotIndex - 1)\n",
    "            quicksort(nums, pivotIndex + 1, high)\n",
    "\n",
    "    quicksort(nums, 0, len(nums) - 1)\n",
    "    return nums"
   ]
  },
  {
   "cell_type": "code",
   "execution_count": 15,
   "id": "18740712",
   "metadata": {},
   "outputs": [
    {
     "name": "stdout",
     "output_type": "stream",
     "text": [
      "[1, 2, 3, 5]\n"
     ]
    }
   ],
   "source": [
    "# Example: 01\n",
    "nums1 = [5, 2, 3, 1]\n",
    "print(sort_array(nums1))  # Output: [1, 2, 3, 5]"
   ]
  },
  {
   "cell_type": "code",
   "execution_count": 16,
   "id": "eb622ea6",
   "metadata": {},
   "outputs": [
    {
     "name": "stdout",
     "output_type": "stream",
     "text": [
      "[0, 0, 1, 1, 2, 5]\n"
     ]
    }
   ],
   "source": [
    "# Example: 02\n",
    "nums2 = [5, 1, 1, 2, 0, 0]\n",
    "print(sort_array(nums2))  # Output: [0, 0, 1, 1, 2, 5]"
   ]
  },
  {
   "cell_type": "markdown",
   "id": "c3791e5a",
   "metadata": {},
   "source": [
    "**Question 4**\n",
    "- Move all zeroes to end of array\n",
    "- Given an array of random numbers, Push all the zero’s of a\n",
    "given array to the end of the array. \n",
    "- For example, if the given\n",
    "arrays is {1, 9, 8, 4, 0, 0, 2, 7, 0, 6, 0}, it should be changed to\n",
    "{1, 9, 8, 4, 2, 7, 6, 0, 0, 0, 0}. The order of all other elements\n",
    "should be same. \n",
    "- Expected time complexity is O(n) and extra\n",
    "space is O(1).\n",
    "- Example:\n",
    "- Input : arr[] = {1, 2, 0, 4, 3, 0, 5, 0}; Output\n",
    ": arr[] = {1, 2, 4, 3, 5, 0, 0, 0}; \n",
    "- Input : arr\n",
    "[] = {1, 2, 0, 0, 0, 3, 6}; Output : arr[] = {1,\n",
    "2, 3, 6, 0, 0, 0};"
   ]
  },
  {
   "cell_type": "code",
   "execution_count": 17,
   "id": "7891cbcc",
   "metadata": {},
   "outputs": [],
   "source": [
    "def move_zeroes_to_end(arr):\n",
    "    left = 0\n",
    "    right = 0\n",
    "\n",
    "    while right < len(arr):\n",
    "        if arr[right] != 0:\n",
    "            arr[left], arr[right] = arr[right], arr[left]\n",
    "            left += 1\n",
    "        right += 1\n",
    "\n",
    "    while left < len(arr):\n",
    "        arr[left] = 0\n",
    "        left += 1\n",
    "\n",
    "    return arr"
   ]
  },
  {
   "cell_type": "code",
   "execution_count": 18,
   "id": "c3d5060d",
   "metadata": {},
   "outputs": [
    {
     "name": "stdout",
     "output_type": "stream",
     "text": [
      "[1, 2, 4, 3, 5, 0, 0, 0]\n"
     ]
    }
   ],
   "source": [
    "# Example: 01\n",
    "arr1 = [1, 2, 0, 4, 3, 0, 5, 0]\n",
    "print(move_zeroes_to_end(arr1))  # Output: [1, 2, 4, 3, 5, 0, 0, 0]"
   ]
  },
  {
   "cell_type": "code",
   "execution_count": 19,
   "id": "0b775607",
   "metadata": {},
   "outputs": [
    {
     "name": "stdout",
     "output_type": "stream",
     "text": [
      "[1, 2, 3, 6, 0, 0, 0]\n"
     ]
    }
   ],
   "source": [
    "# Example: 02\n",
    "arr2 = [1, 2, 0, 0, 0, 3, 6]\n",
    "print(move_zeroes_to_end(arr2))  # Output: [1, 2, 3, 6, 0, 0, 0]"
   ]
  },
  {
   "cell_type": "markdown",
   "id": "5c3a6544",
   "metadata": {},
   "source": [
    "**Question 5**\n",
    "- Rearrange array in alternating positive & negative items\n",
    "with O(1) extra space\n",
    "- Given an array of positive and negative numbers, arrange them in an alternate fashion such that every positive number\n",
    "is followed by a negative and vice-versa maintaining the order\n",
    "of appearance. The number of positive and negative numbers\n",
    "need not be equal. If there are more positive numbers they\n",
    "appear at the end of the array. If there are more negative\n",
    "numbers, they too appear at the end of the array.\n",
    "- Examples:\n",
    "- Input: arr[] = {1, 2, 3, -4, -1, 4}\n",
    "Output: arr[] = {-4, 1, -1, 2, 3, 4}\n",
    "- Input: arr[] = {-5, -2, 5, 2, 4, 7, 1, 8, 0, -8}\n",
    "Output: arr[] = {-5, 5, -2, 2, -8, 4, 7, 1, 8, 0}"
   ]
  },
  {
   "cell_type": "code",
   "execution_count": 20,
   "id": "4da2e58c",
   "metadata": {},
   "outputs": [],
   "source": [
    "def rearrange_alternate(arr):\n",
    "    def reverse(arr, start, end):\n",
    "        while start < end:\n",
    "            arr[start], arr[end] = arr[end], arr[start]\n",
    "            start += 1\n",
    "            end -= 1\n",
    "\n",
    "    n = len(arr)\n",
    "    i = -1\n",
    "\n",
    "    # Rearrange positive numbers to the right side of the array\n",
    "    for j in range(n):\n",
    "        if arr[j] < 0:\n",
    "            i += 1\n",
    "            arr[i], arr[j] = arr[j], arr[i]\n",
    "\n",
    "    # Rearrange positive and negative numbers alternately\n",
    "    pos_start = i + 1\n",
    "    neg_start = 0\n",
    "\n",
    "    # Reverse the negative numbers subarray\n",
    "    reverse(arr, neg_start, i)\n",
    "\n",
    "    while pos_start < n and arr[neg_start] < 0:\n",
    "        arr[pos_start], arr[neg_start] = arr[neg_start], arr[pos_start]\n",
    "        pos_start += 1\n",
    "        neg_start += 2\n",
    "\n",
    "    return arr"
   ]
  },
  {
   "cell_type": "code",
   "execution_count": 21,
   "id": "c94915a8",
   "metadata": {},
   "outputs": [
    {
     "name": "stdout",
     "output_type": "stream",
     "text": [
      "[3, -4, 1, -1, 2, 4]\n"
     ]
    }
   ],
   "source": [
    "# Example: 01\n",
    "arr1 = [1, 2, 3, -4, -1, 4]\n",
    "print(rearrange_alternate(arr1))  # Output: [-4, 1, -1, 2, 3, 4]"
   ]
  },
  {
   "cell_type": "code",
   "execution_count": 22,
   "id": "0171f719",
   "metadata": {},
   "outputs": [
    {
     "name": "stdout",
     "output_type": "stream",
     "text": [
      "[2, -2, 4, -8, 7, -5, 1, 8, 0, 5]\n"
     ]
    }
   ],
   "source": [
    "# Example: 02\n",
    "arr2 = [-5, -2, 5, 2, 4, 7, 1, 8, 0, -8]\n",
    "print(rearrange_alternate(arr2))  # Output: [-5, 5, -2, 2, -8, 4, 7, 1, 8, 0]"
   ]
  },
  {
   "cell_type": "markdown",
   "id": "8e9a6f1b",
   "metadata": {},
   "source": [
    "**Question 6**\n",
    "- Merge two sorted arrays\n",
    "- Given two sorted arrays, the task is to merge them in a sorted\n",
    "manner.\n",
    "- Examples:\n",
    "- Input: arr1[] = { 1, 3, 4, 5}, arr2[] = {2, 4, 6, 8}\n",
    "Output: arr3[] = {1, 2, 3, 4, 4, 5, 6, 8}\n",
    "- Input: arr1[] = { 5, 8, 9}, arr2[] = {4, 7, 8}\n",
    "Output: arr3[] = {4, 5, 7, 8, 8, 9}"
   ]
  },
  {
   "cell_type": "code",
   "execution_count": 23,
   "id": "e860b784",
   "metadata": {},
   "outputs": [],
   "source": [
    "def merge_sorted_arrays(arr1, arr2):\n",
    "    merged = []\n",
    "    i = 0\n",
    "    j = 0\n",
    "\n",
    "    while i < len(arr1) and j < len(arr2):\n",
    "        if arr1[i] <= arr2[j]:\n",
    "            merged.append(arr1[i])\n",
    "            i += 1\n",
    "        else:\n",
    "            merged.append(arr2[j])\n",
    "            j += 1\n",
    "\n",
    "    while i < len(arr1):\n",
    "        merged.append(arr1[i])\n",
    "        i += 1\n",
    "\n",
    "    while j < len(arr2):\n",
    "        merged.append(arr2[j])\n",
    "        j += 1\n",
    "\n",
    "    return merged"
   ]
  },
  {
   "cell_type": "code",
   "execution_count": 24,
   "id": "bfa6390a",
   "metadata": {},
   "outputs": [
    {
     "name": "stdout",
     "output_type": "stream",
     "text": [
      "[1, 2, 3, 4, 4, 5, 6, 8]\n"
     ]
    }
   ],
   "source": [
    "# Example: 01\n",
    "arr1 = [1, 3, 4, 5]\n",
    "arr2 = [2, 4, 6, 8]\n",
    "print(merge_sorted_arrays(arr1, arr2))  # Output: [1, 2, 3, 4, 4, 5, 6, 8]"
   ]
  },
  {
   "cell_type": "code",
   "execution_count": 25,
   "id": "bfbe1a7d",
   "metadata": {},
   "outputs": [
    {
     "name": "stdout",
     "output_type": "stream",
     "text": [
      "[4, 5, 7, 8, 8, 9]\n"
     ]
    }
   ],
   "source": [
    "# Example: 02\n",
    "arr3 = [5, 8, 9]\n",
    "arr4 = [4, 7, 8]\n",
    "print(merge_sorted_arrays(arr3, arr4))  # Output: [4, 5, 7, 8, 8, 9]"
   ]
  },
  {
   "cell_type": "markdown",
   "id": "ebdd143a",
   "metadata": {},
   "source": [
    "**Question 7**\n",
    "- Intersection of Two Arrays\n",
    "- Given two integer arrays nums1 and nums2 , return an array\n",
    "of their intersection. Each element in the result must\n",
    "be unique and you may return the result in any order.\n",
    "- Example 1:\n",
    "Input: nums1 = [1,2,2,1], nums2 = [2,2] Output:\n",
    "[2]\n",
    "- Example 2:Input: nums1 = [4,9,5], nums2 = [9,4,9,8,4] Outp\n",
    "ut: [9,4] \n",
    "- Explanation: [4,9] is also accepted.\n",
    "- Constraints:\n",
    "- 1 <= nums1.length, nums2.length <= 1000\n",
    "- 0 <= nums1[i], nums2[i] <= 1000"
   ]
  },
  {
   "cell_type": "code",
   "execution_count": 26,
   "id": "717d830f",
   "metadata": {},
   "outputs": [],
   "source": [
    "def intersection(nums1, nums2):\n",
    "    uniqueSet = set(nums1)\n",
    "    intersection = []\n",
    "\n",
    "    for num in nums2:\n",
    "        if num in uniqueSet:\n",
    "            intersection.append(num)\n",
    "            uniqueSet.remove(num)\n",
    "\n",
    "    return intersection"
   ]
  },
  {
   "cell_type": "code",
   "execution_count": 27,
   "id": "0c62281e",
   "metadata": {},
   "outputs": [
    {
     "name": "stdout",
     "output_type": "stream",
     "text": [
      "[2]\n"
     ]
    }
   ],
   "source": [
    "# Example: 01\n",
    "nums1 = [1, 2, 2, 1]\n",
    "nums2 = [2, 2]\n",
    "print(intersection(nums1, nums2))  # Output: [2]"
   ]
  },
  {
   "cell_type": "code",
   "execution_count": 28,
   "id": "31716d97",
   "metadata": {},
   "outputs": [
    {
     "name": "stdout",
     "output_type": "stream",
     "text": [
      "[9, 4]\n"
     ]
    }
   ],
   "source": [
    "# Example: 02\n",
    "nums3 = [4, 9, 5]\n",
    "nums4 = [9, 4, 9, 8, 4]\n",
    "print(intersection(nums3, nums4))  # Output: [9, 4]"
   ]
  },
  {
   "cell_type": "markdown",
   "id": "b30e86f8",
   "metadata": {},
   "source": [
    "**Question 8**\n",
    "- Intersection of Two Arrays II\n",
    "- Given two integer arrays nums1 and nums2 , return an array\n",
    "of their intersection. Each element in the result must appear\n",
    "as many times as it shows in both arrays and you may return\n",
    "the result in any order.\n",
    "- Example 1:\n",
    "Input: nums1 = [1,2,2,1], nums2 = [2,2] Output:\n",
    "[2,2]\n",
    "- Example 2:\n",
    "Input: nums1 = [4,9,5], nums2 = [9,4,9,8,4] Outp\n",
    "ut: [4,9] \n",
    "- Explanation: [9,4] is also accepted.\n",
    "- Constraints:\n",
    "- 1 <= nums1.length, nums2.length <= 1000\n",
    "- 0 <= nums1[i], nums2[i] <= 1000"
   ]
  },
  {
   "cell_type": "code",
   "execution_count": 29,
   "id": "c600d7de",
   "metadata": {},
   "outputs": [],
   "source": [
    "from collections import defaultdict\n",
    "\n",
    "def intersect(nums1, nums2):\n",
    "    frequencyMap = defaultdict(int)\n",
    "    intersection = []\n",
    "\n",
    "    # Count the frequency of elements in nums1\n",
    "    for num in nums1:\n",
    "        frequencyMap[num] += 1\n",
    "\n",
    "    # Find the common elements in nums2\n",
    "    for num in nums2:\n",
    "        if num in frequencyMap and frequencyMap[num] > 0:\n",
    "            intersection.append(num)\n",
    "            frequencyMap[num] -= 1\n",
    "\n",
    "    return intersection"
   ]
  },
  {
   "cell_type": "code",
   "execution_count": 30,
   "id": "e06b2672",
   "metadata": {},
   "outputs": [
    {
     "name": "stdout",
     "output_type": "stream",
     "text": [
      "[2, 2]\n"
     ]
    }
   ],
   "source": [
    "# Example: 01\n",
    "nums1 = [1, 2, 2, 1]\n",
    "nums2 = [2, 2]\n",
    "print(intersect(nums1, nums2))  # Output: [2, 2]"
   ]
  },
  {
   "cell_type": "code",
   "execution_count": 31,
   "id": "01aaea0a",
   "metadata": {},
   "outputs": [
    {
     "name": "stdout",
     "output_type": "stream",
     "text": [
      "[9, 4]\n"
     ]
    }
   ],
   "source": [
    "# Example: 02\n",
    "nums3 = [4, 9, 5]\n",
    "nums4 = [9, 4, 9, 8, 4]\n",
    "print(intersect(nums3, nums4))  # Output: [4, 9]"
   ]
  },
  {
   "cell_type": "code",
   "execution_count": null,
   "id": "1359617d",
   "metadata": {},
   "outputs": [],
   "source": []
  }
 ],
 "metadata": {
  "kernelspec": {
   "display_name": "Python 3 (ipykernel)",
   "language": "python",
   "name": "python3"
  },
  "language_info": {
   "codemirror_mode": {
    "name": "ipython",
    "version": 3
   },
   "file_extension": ".py",
   "mimetype": "text/x-python",
   "name": "python",
   "nbconvert_exporter": "python",
   "pygments_lexer": "ipython3",
   "version": "3.9.16"
  }
 },
 "nbformat": 4,
 "nbformat_minor": 5
}
