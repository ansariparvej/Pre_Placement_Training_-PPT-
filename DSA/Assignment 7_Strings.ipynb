{
 "cells": [
  {
   "cell_type": "markdown",
   "id": "5d6fb39c",
   "metadata": {},
   "source": [
    "**Question 1**\n",
    "- Given two strings s and t, determine if they are isomorphic.\n",
    "Two strings s and t are isomorphic if the characters in s can be\n",
    "replaced to get t.\n",
    "All occurrences of a character must be replaced with another\n",
    "character while preserving the order of characters. No two\n",
    "characters may map to the same character, but a character\n",
    "may map to itself.\n",
    "- Example 1:\n",
    "Input: s = \"egg\", t = \"add\"\n",
    "Output: true"
   ]
  },
  {
   "cell_type": "code",
   "execution_count": 1,
   "id": "bd6a7639",
   "metadata": {},
   "outputs": [
    {
     "name": "stdout",
     "output_type": "stream",
     "text": [
      "Is Isomorphic String:  True\n"
     ]
    }
   ],
   "source": [
    "def isomorphic_strings(s, t):\n",
    "    if len(s) != len(t):\n",
    "        return False\n",
    "\n",
    "    mapping = {}\n",
    "    for i in range(len(s)):\n",
    "        char_s = s[i]\n",
    "        char_t = t[i]\n",
    "\n",
    "        if char_s in mapping:\n",
    "            if mapping[char_s] != char_t:\n",
    "                return False\n",
    "        else:\n",
    "            if char_t in mapping.values():\n",
    "                return False\n",
    "            mapping[char_s] = char_t\n",
    "\n",
    "    return True\n",
    "\n",
    "# Given Use Case:\n",
    "s = \"egg\"\n",
    "t = \"add\"\n",
    "print('Is Isomorphic String: ', isomorphic_strings(s, t))  # Output: True\n"
   ]
  },
  {
   "cell_type": "markdown",
   "id": "c791bac9",
   "metadata": {},
   "source": [
    "**Question 2**\n",
    "- Given a string num which represents an integer, return true if\n",
    "num is a strobogrammatic number.\n",
    "A strobogrammatic number is a number that looks the same\n",
    "when rotated 180 degrees (looked at upside down).\n",
    "- Example 1:\n",
    "Input: num = \"69\"\n",
    "Output:\n",
    "true"
   ]
  },
  {
   "cell_type": "code",
   "execution_count": 2,
   "id": "eca3ce83",
   "metadata": {},
   "outputs": [
    {
     "name": "stdout",
     "output_type": "stream",
     "text": [
      "True\n"
     ]
    }
   ],
   "source": [
    "def is_strobogrammatic(num):\n",
    "    mapping = {\n",
    "        '0': '0',\n",
    "        '1': '1',\n",
    "        '6': '9',\n",
    "        '8': '8',\n",
    "        '9': '6'\n",
    "    }\n",
    "\n",
    "    left = 0\n",
    "    right = len(num) - 1\n",
    "\n",
    "    while left <= right:\n",
    "        if num[left] not in mapping or num[right] != mapping[num[left]]:\n",
    "            return False\n",
    "\n",
    "        left += 1\n",
    "        right -= 1\n",
    "\n",
    "    return True\n",
    "\n",
    "# Given Use Case:\n",
    "num = \"69\"\n",
    "print(is_strobogrammatic(num))  # Output: True"
   ]
  },
  {
   "cell_type": "markdown",
   "id": "fe14ee64",
   "metadata": {},
   "source": [
    "**Question 3**\n",
    "- Given two non-negative integers, num1 and num2 represented\n",
    "as string, return the sum of num1 and num2 as a string.\n",
    "You must solve the problem without using any built-in library\n",
    "for handling large integers (such as BigInteger). You must also\n",
    "not convert the inputs to integers directly.\n",
    "- Example 1:\n",
    "Input: num1 = \"11\", num2 = \"123\"\n",
    "Output:\n",
    "\"134\""
   ]
  },
  {
   "cell_type": "code",
   "execution_count": 3,
   "id": "2965835e",
   "metadata": {},
   "outputs": [
    {
     "name": "stdout",
     "output_type": "stream",
     "text": [
      "134\n"
     ]
    }
   ],
   "source": [
    "def add_strings(num1, num2):\n",
    "    i = len(num1) - 1\n",
    "    j = len(num2) - 1\n",
    "    carry = 0\n",
    "    result = \"\"\n",
    "\n",
    "    while i >= 0 or j >= 0 or carry:\n",
    "        digit1 = int(num1[i]) if i >= 0 else 0\n",
    "        digit2 = int(num2[j]) if j >= 0 else 0\n",
    "\n",
    "        # Add the digits along with the carry\n",
    "        total = digit1 + digit2 + carry\n",
    "\n",
    "        # Append the least significant digit to the result string\n",
    "        result = str(total % 10) + result\n",
    "\n",
    "        # Update the carry\n",
    "        carry = total // 10\n",
    "\n",
    "        # Move to the next digits\n",
    "        i -= 1\n",
    "        j -= 1\n",
    "\n",
    "    return result\n",
    "\n",
    "# Given Use Case:\n",
    "num1 = \"11\"\n",
    "num2 = \"123\"\n",
    "print(add_strings(num1, num2))  # Output: \"134\""
   ]
  },
  {
   "cell_type": "markdown",
   "id": "c3791e5a",
   "metadata": {},
   "source": [
    "**Question 4**\n",
    "- Given a string s, reverse the order of characters in each word\n",
    "within a sentence while still preserving whitespace and initial\n",
    "word order.\n",
    "- Example 1:\n",
    "Input: s = \"Let's take LeetCode contest\"\n",
    "Output: \"s'teL ekat edoCteeL tsetnoc\""
   ]
  },
  {
   "cell_type": "code",
   "execution_count": 4,
   "id": "5cb3454c",
   "metadata": {},
   "outputs": [
    {
     "name": "stdout",
     "output_type": "stream",
     "text": [
      "s'teL ekat edoCteeL tsetnoc\n"
     ]
    }
   ],
   "source": [
    "def reverse_words(s):\n",
    "    words = s.split(\" \")\n",
    "\n",
    "    # Reverse each word\n",
    "    reversed_words = [word[::-1] for word in words]\n",
    "\n",
    "    # Join the reversed words with whitespace\n",
    "    result = \" \".join(reversed_words)\n",
    "\n",
    "    return result\n",
    "\n",
    "# Given Use Case:\n",
    "s = \"Let's take LeetCode contest\"\n",
    "print(reverse_words(s))  # Output: \"s'teL ekat edoCteeL tsetnoc\""
   ]
  },
  {
   "cell_type": "markdown",
   "id": "5c3a6544",
   "metadata": {},
   "source": [
    "**Question 5**\n",
    "- Given a string s and an integer k, reverse the ﬁrst k characters\n",
    "for every 2k characters counting from the start of the string.\n",
    "If there are fewer than k characters left, reverse all of them. If\n",
    "there are less than 2k but greater than or equal to k\n",
    "characters, then reverse the ﬁrst k characters and leave the\n",
    "other as original.\n",
    "- Example 1:\n",
    "Input: s = \"abcdefg\", k = 2\n",
    "Output:\n",
    "\"bacdfeg\""
   ]
  },
  {
   "cell_type": "code",
   "execution_count": 5,
   "id": "4da2e58c",
   "metadata": {},
   "outputs": [
    {
     "name": "stdout",
     "output_type": "stream",
     "text": [
      "bacdfeg\n"
     ]
    }
   ],
   "source": [
    "def reverse_str(s, k):\n",
    "    result = \"\"\n",
    "    n = len(s)\n",
    "\n",
    "    for i in range(0, n, 2*k):\n",
    "        # Reverse the first k characters\n",
    "        reversed_chunk = s[i:i+k][::-1]\n",
    "\n",
    "        # Append the reversed chunk to the result string\n",
    "        result += reversed_chunk\n",
    "\n",
    "        # Append the remaining characters as is\n",
    "        result += s[i+k:i+2*k]\n",
    "\n",
    "    return result\n",
    "\n",
    "# Given Use Case:\n",
    "s = \"abcdefg\"\n",
    "k = 2\n",
    "print(reverse_str(s, k))  # Output: \"bacdfeg\""
   ]
  },
  {
   "cell_type": "markdown",
   "id": "a8b91bd5",
   "metadata": {},
   "source": [
    "**Question 6**\n",
    "- Given two strings s and goal, return true if and only if s can\n",
    "become goal after some number of shifts on s.\n",
    "A shift on s consists of moving the leftmost character of s to\n",
    "the rightmost position.\n",
    "- For example, if s = \"abcde\", then it will be \"bcdea\" after\n",
    "- For example, if s = \"abcde\", then it will be \"bcdea\" after\n",
    "one shift.\n",
    "- Example 1:\n",
    "Input: s = \"abcde\", goal = \"cdeab\"\n",
    "Output:\n",
    "true"
   ]
  },
  {
   "cell_type": "code",
   "execution_count": 6,
   "id": "454ace0e",
   "metadata": {},
   "outputs": [
    {
     "name": "stdout",
     "output_type": "stream",
     "text": [
      "True\n"
     ]
    }
   ],
   "source": [
    "def can_shift(s, goal):\n",
    "    if len(s) != len(goal):\n",
    "        return False\n",
    "\n",
    "    concatenated = s + s\n",
    "\n",
    "    return goal in concatenated\n",
    "\n",
    "# Given Use Case:\n",
    "s = \"abcde\"\n",
    "goal = \"cdeab\"\n",
    "print(can_shift(s, goal))  # Output: True"
   ]
  },
  {
   "cell_type": "markdown",
   "id": "ebdd143a",
   "metadata": {},
   "source": [
    "**Question 7**\n",
    "- Given two strings s and t, return true if they are equal when\n",
    "both are typed into empty text editors. '#' means a backspace\n",
    "character.\n",
    "- Note that after backspacing an empty text, the text will\n",
    "continue empty.\n",
    "- Example 1:\n",
    "Input: s = \"ab#c\", t = \"ad#c\"\n",
    "Output: true\n",
    "- Explanation:\n",
    "Both s and t become \"ac\"."
   ]
  },
  {
   "cell_type": "code",
   "execution_count": 7,
   "id": "717d830f",
   "metadata": {},
   "outputs": [
    {
     "name": "stdout",
     "output_type": "stream",
     "text": [
      "True\n"
     ]
    }
   ],
   "source": [
    "def backspace_compare(s, t):\n",
    "    def process_string(string):\n",
    "        result = []\n",
    "        for char in string:\n",
    "            if char != '#':\n",
    "                result.append(char)\n",
    "            elif result:\n",
    "                result.pop()\n",
    "        return \"\".join(result)\n",
    "\n",
    "    return process_string(s) == process_string(t)\n",
    "\n",
    "# Given Use Case:\n",
    "s = \"ab#c\"\n",
    "t = \"ad#c\"\n",
    "print(backspace_compare(s, t))  # Output: True"
   ]
  },
  {
   "cell_type": "markdown",
   "id": "f59efeb4",
   "metadata": {},
   "source": [
    "**Question 8**\n",
    "- You are given an array coordinates, coordinates[i] = [x, y],\n",
    "where [x, y] represents the coordinate of a point. Check if\n",
    "these points make a straight line in the XY plane.\n",
    "- Example 1:\n",
    "Input: coordinates = [[1,2],[2,3],[3,4],[4,5],[5,6],[6,7]]\n",
    "Output: true"
   ]
  },
  {
   "cell_type": "code",
   "execution_count": 8,
   "id": "c600d7de",
   "metadata": {},
   "outputs": [
    {
     "name": "stdout",
     "output_type": "stream",
     "text": [
      "True\n"
     ]
    }
   ],
   "source": [
    "def check_straight_line(coordinates):\n",
    "    if len(coordinates) <= 2:\n",
    "        return True\n",
    "\n",
    "    x1, y1 = coordinates[0]\n",
    "    x2, y2 = coordinates[1]\n",
    "    for i in range(2, len(coordinates)):\n",
    "        x, y = coordinates[i]\n",
    "        if (y2 - y1) * (x - x1) != (y - y1) * (x2 - x1):\n",
    "            return False\n",
    "\n",
    "    return True\n",
    "\n",
    "# Given Use Case:\n",
    "coordinates = [[1,2],[2,3],[3,4],[4,5],[5,6],[6,7]]\n",
    "print(check_straight_line(coordinates))  # Output: True"
   ]
  },
  {
   "cell_type": "code",
   "execution_count": null,
   "id": "e9a69bec",
   "metadata": {},
   "outputs": [],
   "source": []
  },
  {
   "cell_type": "code",
   "execution_count": null,
   "id": "f64f97d6",
   "metadata": {},
   "outputs": [],
   "source": []
  }
 ],
 "metadata": {
  "kernelspec": {
   "display_name": "Python 3 (ipykernel)",
   "language": "python",
   "name": "python3"
  },
  "language_info": {
   "codemirror_mode": {
    "name": "ipython",
    "version": 3
   },
   "file_extension": ".py",
   "mimetype": "text/x-python",
   "name": "python",
   "nbconvert_exporter": "python",
   "pygments_lexer": "ipython3",
   "version": "3.9.16"
  }
 },
 "nbformat": 4,
 "nbformat_minor": 5
}
