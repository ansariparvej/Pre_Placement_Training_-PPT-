{
 "cells": [
  {
   "cell_type": "markdown",
   "id": "5d6fb39c",
   "metadata": {},
   "source": [
    "**Question 1**\n",
    "- Merge Intervals\n",
    "- Given an array of intervals where intervals[i] =\n",
    "[starti, endi] , merge all overlapping intervals, and\n",
    "return an array of the non-overlapping intervals that cover all\n",
    "the intervals in the input.\n",
    "- Example 1:\n",
    "Input: intervals = [[1,3],[2,6],[8,10],[15,18]]\n",
    "Output: [[1,6],[8,10],[15,18]] Explanation: Sinc\n",
    "e intervals [1,3] and [2,6] overlap, merge them\n",
    "into [1,6].\n",
    "- Example 2:\n",
    "Input: intervals = [[1,4],[4,5]] Output: [[1,5]]\n",
    "Explanation: Intervals [1,4] and [4,5] are consi\n",
    "dered overlapping.\n",
    "- Constraints:\n",
    "\n",
    "- 1 <= intervals.length <= 10000\n",
    "- intervals[i].length == 2\n",
    "- 0 <= starti <= endi <= 10000"
   ]
  },
  {
   "cell_type": "code",
   "execution_count": 1,
   "id": "bd6a7639",
   "metadata": {},
   "outputs": [],
   "source": [
    "def merge_intervals(intervals):\n",
    "    if len(intervals) <= 1:\n",
    "        return intervals\n",
    "    \n",
    "    # Sort the intervals based on the start time\n",
    "    intervals.sort(key=lambda x: x[0])\n",
    "    \n",
    "    merged = [intervals[0]]  # Initialize the result list with the first interval\n",
    "    \n",
    "    for i in range(1, len(intervals)):\n",
    "        current_interval = intervals[i]\n",
    "        last_interval = merged[-1]\n",
    "        \n",
    "        # Check if the current interval overlaps with the last interval\n",
    "        if current_interval[0] <= last_interval[1]:\n",
    "            # Merge the intervals by updating the end time of the last interval\n",
    "            last_interval[1] = max(last_interval[1], current_interval[1])\n",
    "        else:\n",
    "            # Add the current interval to the result list\n",
    "            merged.append(current_interval)\n",
    "    \n",
    "    return merged"
   ]
  },
  {
   "cell_type": "code",
   "execution_count": 2,
   "id": "22ee3340",
   "metadata": {},
   "outputs": [
    {
     "name": "stdout",
     "output_type": "stream",
     "text": [
      "[[1, 6], [8, 10], [15, 18]]\n"
     ]
    }
   ],
   "source": [
    "# Example: 01\n",
    "intervals1 = [[1, 3], [2, 6], [8, 10], [15, 18]]\n",
    "print(merge_intervals(intervals1))  # Output: [[1, 6], [8, 10], [15, 18]]"
   ]
  },
  {
   "cell_type": "code",
   "execution_count": 3,
   "id": "28cf7d99",
   "metadata": {},
   "outputs": [
    {
     "name": "stdout",
     "output_type": "stream",
     "text": [
      "[[1, 5]]\n"
     ]
    }
   ],
   "source": [
    "# Example:02\n",
    "intervals2 = [[1, 4], [4, 5]]\n",
    "print(merge_intervals(intervals2))  # Output: [[1, 5]]"
   ]
  },
  {
   "cell_type": "markdown",
   "id": "c791bac9",
   "metadata": {},
   "source": [
    "**Question 2**\n",
    "- Sort Colors\n",
    "- Given an array nums with n objects colored red, white, or\n",
    "blue, sort them in-place so that objects of the same color are\n",
    "adjacent, with the colors in the order red, white, and blue.\n",
    "We will use the integers 0 , 1 , and 2 to represent the color\n",
    "red, white, and blue, respectively.\n",
    "- You must solve this problem without using the library's sort\n",
    "function.\n",
    "- Example 1:\n",
    "Input: nums = [2,0,2,1,1,0] Output: [0,0,1,1,2,\n",
    "2]\n",
    "- Example 2:\n",
    "Input: nums = [2,0,1] Output: [0,1,2]\n",
    "- Constraints:\n",
    "- n == nums.length\n",
    "- 1 <= n <= 300\n",
    "- nums[i] is either 0 , 1 , or 2 ."
   ]
  },
  {
   "cell_type": "code",
   "execution_count": 4,
   "id": "eca3ce83",
   "metadata": {},
   "outputs": [],
   "source": [
    "def sort_colors(nums):\n",
    "    # Initialize the pointers\n",
    "    left = 0  # Pointer for the red section\n",
    "    right = len(nums) - 1  # Pointer for the blue section\n",
    "    current = 0  # Pointer for iterating through the array\n",
    "    \n",
    "    while current <= right:\n",
    "        if nums[current] == 0:\n",
    "            # Swap the current element with the element at the left pointer\n",
    "            nums[current], nums[left] = nums[left], nums[current]\n",
    "            left += 1\n",
    "            current += 1\n",
    "        elif nums[current] == 2:\n",
    "            # Swap the current element with the element at the right pointer\n",
    "            nums[current], nums[right] = nums[right], nums[current]\n",
    "            right -= 1\n",
    "        else:\n",
    "            current += 1"
   ]
  },
  {
   "cell_type": "code",
   "execution_count": 5,
   "id": "59015dae",
   "metadata": {},
   "outputs": [
    {
     "name": "stdout",
     "output_type": "stream",
     "text": [
      "[0, 0, 1, 1, 2, 2]\n"
     ]
    }
   ],
   "source": [
    "# Example: 01\n",
    "nums1 = [2, 0, 2, 1, 1, 0]\n",
    "sort_colors(nums1)\n",
    "print(nums1)  # Output: [0, 0, 1, 1, 2, 2]"
   ]
  },
  {
   "cell_type": "code",
   "execution_count": 6,
   "id": "e50f52e1",
   "metadata": {},
   "outputs": [
    {
     "name": "stdout",
     "output_type": "stream",
     "text": [
      "[0, 1, 2]\n"
     ]
    }
   ],
   "source": [
    "# Example: 02\n",
    "nums2 = [2, 0, 1]\n",
    "sort_colors(nums2)\n",
    "print(nums2)  # Output: [0, 1, 2]"
   ]
  },
  {
   "cell_type": "markdown",
   "id": "fe14ee64",
   "metadata": {},
   "source": [
    "**Question 3**\n",
    "- First Bad Version Solution\n",
    "- You are a product manager and currently leading a team to\n",
    "develop a new product. Unfortunately, the latest version of\n",
    "your product fails the quality check. Since each version is\n",
    "developed based on the previous version, all the versions after\n",
    "a bad version are also bad.\n",
    "- Suppose you have n versions [1, 2, ..., n] and you\n",
    "want to ﬁnd out the ﬁrst bad one, which causes all the\n",
    "following ones to be bad.\n",
    "- You are given an API bool isBadVersion(version) which\n",
    "returns whether version is bad. Implement a function to ﬁnd\n",
    "the ﬁrst bad version. You should minimize the number of calls\n",
    "to the API.\n",
    "- Example 1:\n",
    "Input: n = 5, bad = 4 Output: 4 \n",
    "- Explanation: cal\n",
    "l isBadVersion(3) -> false call isBadVersion\n",
    "(5) -> true call isBadVersion(4) -> true Then 4\n",
    "is the first bad version.\n",
    "- Example 2:\n",
    "Input: n = 1, bad = 1 Output: 1\n",
    "- Constraints:\n",
    "- 1 <= bad <= n <= 2^31 - 1"
   ]
  },
  {
   "cell_type": "code",
   "execution_count": 12,
   "id": "2965835e",
   "metadata": {},
   "outputs": [],
   "source": [
    "def first_bad_version(n):\n",
    "    left = 1  # Starting version\n",
    "    right = n  # Ending version\n",
    "    \n",
    "    while left < right:\n",
    "        mid = left + (right - left) // 2\n",
    "        if is_bad_version(mid):\n",
    "            right = mid\n",
    "        else:\n",
    "            left = mid + 1\n",
    "    \n",
    "    return left\n",
    "\n",
    "# Replace the is_bad_version function with the actual API function provided\n",
    "\n",
    "def is_bad_version(version):\n",
    "    # Function to check if a given version is bad or not\n",
    "    # Replace this implementation with the actual API function\n",
    "    # provided in your problem statement\n",
    "    pass"
   ]
  },
  {
   "cell_type": "code",
   "execution_count": 13,
   "id": "18740712",
   "metadata": {},
   "outputs": [
    {
     "name": "stdout",
     "output_type": "stream",
     "text": [
      "5\n"
     ]
    }
   ],
   "source": [
    "# Example: 01\n",
    "n = 5\n",
    "bad = 4\n",
    "print(first_bad_version(n))  # Output: 4"
   ]
  },
  {
   "cell_type": "code",
   "execution_count": 14,
   "id": "eb622ea6",
   "metadata": {},
   "outputs": [
    {
     "name": "stdout",
     "output_type": "stream",
     "text": [
      "1\n"
     ]
    }
   ],
   "source": [
    "# Example: 02\n",
    "n = 1\n",
    "bad = 1\n",
    "print(first_bad_version(n))  # Output: 1"
   ]
  },
  {
   "cell_type": "markdown",
   "id": "c3791e5a",
   "metadata": {},
   "source": [
    "**Question 4**\n",
    "- Maximum Gap\n",
    "- Given an integer array nums , return the maximum diﬀerence\n",
    "between two successive elements in its sorted form. If the\n",
    "array contains less than two elements, return 0 .\n",
    "- You must write an algorithm that runs in linear time and uses\n",
    "linear extra space.\n",
    "- Example 1:\n",
    "Input: nums = [3,6,9,1] Output: 3 \n",
    "- Explanation: T\n",
    "he sorted form of the array is [1,3,6,9], either\n",
    "(3,6) or (6,9) has the maximum difference 3.\n",
    "- Example 2:\n",
    "Input: nums = [10] Output: 0 \n",
    "- Explanation: The ar\n",
    "ray contains less than 2 elements, therefore ret\n",
    "urn 0.\n",
    "- Constraints:\n",
    "\n",
    "- 1 <= nums.length <= 10^5\n",
    "- 0 <= nums[i] <= 10^9"
   ]
  },
  {
   "cell_type": "code",
   "execution_count": 15,
   "id": "7891cbcc",
   "metadata": {},
   "outputs": [],
   "source": [
    "def maximum_gap(nums):\n",
    "    if len(nums) < 2:\n",
    "        return 0\n",
    "    \n",
    "    # Find the minimum and maximum elements in the array\n",
    "    min_num = min(nums)\n",
    "    max_num = max(nums)\n",
    "    \n",
    "    # Calculate the size of each bucket\n",
    "    bucket_size = max(1, (max_num - min_num) // (len(nums) - 1))\n",
    "    bucket_count = (max_num - min_num) // bucket_size + 1\n",
    "    \n",
    "    # Initialize the buckets\n",
    "    buckets = [[float('inf'), float('-inf')] for _ in range(bucket_count)]\n",
    "    \n",
    "    # Put elements into buckets\n",
    "    for num in nums:\n",
    "        index = (num - min_num) // bucket_size\n",
    "        buckets[index][0] = min(buckets[index][0], num)\n",
    "        buckets[index][1] = max(buckets[index][1], num)\n",
    "    \n",
    "    # Calculate the maximum gap\n",
    "    max_gap = 0\n",
    "    prev_max = min_num\n",
    "    \n",
    "    for bucket in buckets:\n",
    "        if bucket[0] == float('inf') and bucket[1] == float('-inf'):\n",
    "            continue\n",
    "        max_gap = max(max_gap, bucket[0] - prev_max)\n",
    "        prev_max = bucket[1]\n",
    "    \n",
    "    return max_gap"
   ]
  },
  {
   "cell_type": "code",
   "execution_count": 16,
   "id": "c3d5060d",
   "metadata": {},
   "outputs": [
    {
     "name": "stdout",
     "output_type": "stream",
     "text": [
      "3\n"
     ]
    }
   ],
   "source": [
    "# Example: 01\n",
    "nums1 = [3, 6, 9, 1]\n",
    "print(maximum_gap(nums1))  # Output: 3"
   ]
  },
  {
   "cell_type": "code",
   "execution_count": 17,
   "id": "0b775607",
   "metadata": {},
   "outputs": [
    {
     "name": "stdout",
     "output_type": "stream",
     "text": [
      "0\n"
     ]
    }
   ],
   "source": [
    "# Example:02\n",
    "nums2 = [10]\n",
    "print(maximum_gap(nums2))  # Output: 0"
   ]
  },
  {
   "cell_type": "markdown",
   "id": "5c3a6544",
   "metadata": {},
   "source": [
    "**Question 5**\n",
    "- Contains Duplicate\n",
    "- Given an integer array nums , return true if any value appears at least twice in the array, and return false if every\n",
    "element is distinct.\n",
    "- Example 1:\n",
    "Input: nums = [1,2,3,1] Output: true\n",
    "- Example 2:\n",
    "Input: nums = [1,2,3,4] Output: false\n",
    "- Example 3:\n",
    "Input: nums = [1,1,1,3,3,4,3,2,4,2] Output: true\n",
    "- Constraints:\n",
    "\n",
    "- 1 <= nums.length <= 10^5\n",
    "- 109 <= nums[i] <= 10^9"
   ]
  },
  {
   "cell_type": "code",
   "execution_count": 18,
   "id": "4da2e58c",
   "metadata": {},
   "outputs": [],
   "source": [
    "def contains_duplicate(nums):\n",
    "    num_set = set()\n",
    "    \n",
    "    for num in nums:\n",
    "        if num in num_set:\n",
    "            return True\n",
    "        num_set.add(num)\n",
    "    \n",
    "    return False"
   ]
  },
  {
   "cell_type": "code",
   "execution_count": 19,
   "id": "c94915a8",
   "metadata": {},
   "outputs": [
    {
     "name": "stdout",
     "output_type": "stream",
     "text": [
      "True\n"
     ]
    }
   ],
   "source": [
    "# Example: 01\n",
    "nums1 = [1, 2, 3, 1]\n",
    "print(contains_duplicate(nums1))  # Output: True"
   ]
  },
  {
   "cell_type": "code",
   "execution_count": 20,
   "id": "0171f719",
   "metadata": {},
   "outputs": [
    {
     "name": "stdout",
     "output_type": "stream",
     "text": [
      "False\n"
     ]
    }
   ],
   "source": [
    "# Example: 02\n",
    "nums2 = [1, 2, 3, 4]\n",
    "print(contains_duplicate(nums2))  # Output: False"
   ]
  },
  {
   "cell_type": "code",
   "execution_count": 21,
   "id": "a449ce67",
   "metadata": {},
   "outputs": [
    {
     "name": "stdout",
     "output_type": "stream",
     "text": [
      "True\n"
     ]
    }
   ],
   "source": [
    "# Example: 03\n",
    "nums3 = [1, 1, 1, 3, 3, 4, 3, 2, 4, 2]\n",
    "print(contains_duplicate(nums3))  # Output: True"
   ]
  },
  {
   "cell_type": "markdown",
   "id": "8e9a6f1b",
   "metadata": {},
   "source": [
    "**Question 6**\n",
    "- Minimum Number of Arrows to Burst Balloons\n",
    "- There are some spherical balloons taped onto a ﬂat wall that\n",
    "represents the XY-plane. The balloons are represented as a\n",
    "2D integer array points where points[i] = [xstart,\n",
    "xend] denotes a balloon whose horizontal\n",
    "diameter stretches between xstart and xend . You do not\n",
    "know the exact y-coordinates of the balloons.\n",
    "Arrows can be shot up directly vertically (in the positive\n",
    "y-direction) from diﬀerent points along the x-axis. A balloon\n",
    "with xstart and xend is burst by an arrow shot\n",
    "at x if xstart <= x <= xend . There is no limit to the\n",
    "number of arrows that can be shot. A shot arrow keeps\n",
    "traveling up inﬁnitely, bursting any balloons in its path.\n",
    "Given the array points , return the minimum number of\n",
    "arrows that must be shot to burst all balloons.\n",
    "- Example 1:\n",
    "Input: points = [[10,16],[2,8],[1,6],[7,12]] Out\n",
    "put: 2 \n",
    "- Explanation: The balloons can be burst by\n",
    "2 arrows: - Shoot an arrow at x = 6, bursting th\n",
    "e balloons [2,8] and [1,6]. - Shoot an arrow at\n",
    "x = 11, bursting the balloons [10,16] and [7,1\n",
    "2].\n",
    "- Example 2:\n",
    "Input: points = [[1,2],[3,4],[5,6],[7,8]] Outpu\n",
    "t: 4 \n",
    "- Explanation: One arrow needs to be shot for\n",
    "each balloon for a total of 4 arrows.\n",
    "- Example 3:\n",
    "Input: points = [[1,2],[2,3],[3,4],[4,5]] Outpu\n",
    "t: 2 \n",
    "- Explanation: The balloons can be burst by 2\n",
    "arrows: - Shoot an arrow at x = 2, bursting the\n",
    "balloons [1,2] and [2,3]. - Shoot an arrow at x\n",
    "= 4, bursting the balloons [3,4] and [4,5].\n",
    "- Constraints:\n",
    "\n",
    "- 1 <= points.length <= 10^5\n",
    "- points[i].length == 2\n",
    "- 231 <= xstart < xend <= 2^31 - 1"
   ]
  },
  {
   "cell_type": "code",
   "execution_count": 22,
   "id": "e860b784",
   "metadata": {},
   "outputs": [],
   "source": [
    "def find_min_arrows(points):\n",
    "    if not points:\n",
    "        return 0\n",
    "    \n",
    "    # Sort the points based on the end coordinate in ascending order\n",
    "    points.sort(key=lambda x: x[1])\n",
    "    \n",
    "    arrows = 1\n",
    "    end = points[0][1]\n",
    "    \n",
    "    for i in range(1, len(points)):\n",
    "        if points[i][0] > end:\n",
    "            # The current balloon is not overlapping with the previous one\n",
    "            # Need to shoot another arrow\n",
    "            arrows += 1\n",
    "            end = points[i][1]\n",
    "    \n",
    "    return arrows"
   ]
  },
  {
   "cell_type": "code",
   "execution_count": 23,
   "id": "bfa6390a",
   "metadata": {},
   "outputs": [
    {
     "name": "stdout",
     "output_type": "stream",
     "text": [
      "2\n"
     ]
    }
   ],
   "source": [
    "# Example: 01\n",
    "points1 = [[10, 16], [2, 8], [1, 6], [7, 12]]\n",
    "print(find_min_arrows(points1))  # Output: 2"
   ]
  },
  {
   "cell_type": "code",
   "execution_count": 24,
   "id": "bfbe1a7d",
   "metadata": {},
   "outputs": [
    {
     "name": "stdout",
     "output_type": "stream",
     "text": [
      "4\n"
     ]
    }
   ],
   "source": [
    "# Example:02\n",
    "points2 = [[1, 2], [3, 4], [5, 6], [7, 8]]\n",
    "print(find_min_arrows(points2))  # Output: 4"
   ]
  },
  {
   "cell_type": "code",
   "execution_count": 25,
   "id": "809448ac",
   "metadata": {},
   "outputs": [
    {
     "name": "stdout",
     "output_type": "stream",
     "text": [
      "2\n"
     ]
    }
   ],
   "source": [
    "# Example: 03\n",
    "points3 = [[1, 2], [2, 3], [3, 4], [4, 5]]\n",
    "print(find_min_arrows(points3))  # Output: 2"
   ]
  },
  {
   "cell_type": "markdown",
   "id": "ebdd143a",
   "metadata": {},
   "source": [
    "**Question 7**\n",
    "- Longest Increasing Subsequence\n",
    "- Given an integer array nums , return the length of the ongest strictly increasing\n",
    "subsequence.\n",
    "- Example 1:\n",
    "Input: nums = [10,9,2,5,3,7,101,18] Output: 4 \n",
    "- Explanation: The longest increasing subsequence is\n",
    "[2,3,7,101], therefore the length is 4.\n",
    "- Example 2:\n",
    "Input: nums = [0,1,0,3,2,3] Output: 4\n",
    "- Example 3:\n",
    "Input: nums = [7,7,7,7,7,7,7] Output: 1\n",
    "- Constraints:\n",
    "- 1 <= nums.length <= 2500\n",
    "- -10^4 <= nums[i] <= 10^4"
   ]
  },
  {
   "cell_type": "code",
   "execution_count": 26,
   "id": "717d830f",
   "metadata": {},
   "outputs": [],
   "source": [
    "def length_of_lis(nums):\n",
    "    if not nums:\n",
    "        return 0\n",
    "    \n",
    "    n = len(nums)\n",
    "    dp = [1] * n\n",
    "    \n",
    "    for i in range(1, n):\n",
    "        for j in range(i):\n",
    "            if nums[i] > nums[j]:\n",
    "                dp[i] = max(dp[i], dp[j] + 1)\n",
    "    \n",
    "    return max(dp)"
   ]
  },
  {
   "cell_type": "code",
   "execution_count": 27,
   "id": "0c62281e",
   "metadata": {},
   "outputs": [
    {
     "name": "stdout",
     "output_type": "stream",
     "text": [
      "4\n"
     ]
    }
   ],
   "source": [
    "# Example: 01\n",
    "nums1 = [10, 9, 2, 5, 3, 7, 101, 18]\n",
    "print(length_of_lis(nums1))  # Output: 4"
   ]
  },
  {
   "cell_type": "code",
   "execution_count": 28,
   "id": "31716d97",
   "metadata": {},
   "outputs": [
    {
     "name": "stdout",
     "output_type": "stream",
     "text": [
      "4\n"
     ]
    }
   ],
   "source": [
    "# Example: 02\n",
    "nums2 = [0, 1, 0, 3, 2, 3]\n",
    "print(length_of_lis(nums2))  # Output: 4"
   ]
  },
  {
   "cell_type": "code",
   "execution_count": 29,
   "id": "9e5129ff",
   "metadata": {},
   "outputs": [
    {
     "name": "stdout",
     "output_type": "stream",
     "text": [
      "1\n"
     ]
    }
   ],
   "source": [
    "# Example: 03\n",
    "nums3 = [7, 7, 7, 7, 7, 7, 7]\n",
    "print(length_of_lis(nums3))  # Output: 1"
   ]
  },
  {
   "cell_type": "markdown",
   "id": "b30e86f8",
   "metadata": {},
   "source": [
    "**Question 8**\n",
    "- 132 Pattern\n",
    "- Given an array of n integers nums , a 132 pattern is a\n",
    "subsequence of three\n",
    "integers nums[i] , nums[j] and nums[k] such that i < j\n",
    "< k and nums[i] < nums[k] < nums[j] .\n",
    "Return true if there is a 132 pattern in nums , otherwise,\n",
    "return false .\n",
    "- Example 1:\n",
    "Input: nums = [1,2,3,4] Output: false \n",
    "- Explanatio\n",
    "n: There is no 132 pattern in the sequence.\n",
    "- Example 2:\n",
    "Input: nums = [3,1,4,2] Output: true \n",
    "- Explanatio\n",
    "n: There is a 132 pattern in the sequence: [1,\n",
    "4, 2].\n",
    "- Example 3:\n",
    "Input: nums = [-1,3,2,0] Output: true \n",
    "- Explanation: There are three 132 patterns in the sequence:\n",
    "[-1, 3, 2], [-1, 3, 0] and [-1, 2, 0].\n",
    "- Constraints:\n",
    "- n == nums.length\n",
    "- 1 <= n <= 2 * 10^5\n",
    "- -10^9 <= nums[i] <= 10^9"
   ]
  },
  {
   "cell_type": "code",
   "execution_count": 34,
   "id": "c600d7de",
   "metadata": {},
   "outputs": [],
   "source": [
    "def find_132_pattern(nums):\n",
    "    n = len(nums)\n",
    "    stack = []\n",
    "    s3 = float('-inf')\n",
    "\n",
    "    for i in range(n-1, -1, -1):\n",
    "        if nums[i] < s3:\n",
    "            return True\n",
    "        while stack and stack[-1] < nums[i]:\n",
    "            s3 = stack.pop()\n",
    "        stack.append(nums[i])\n",
    "\n",
    "    return False"
   ]
  },
  {
   "cell_type": "code",
   "execution_count": 35,
   "id": "e06b2672",
   "metadata": {},
   "outputs": [
    {
     "name": "stdout",
     "output_type": "stream",
     "text": [
      "False\n"
     ]
    }
   ],
   "source": [
    "# Example: 01\n",
    "nums1 = [1, 2, 3, 4]\n",
    "print(find_132_pattern(nums1))  # Output: False"
   ]
  },
  {
   "cell_type": "code",
   "execution_count": 36,
   "id": "01aaea0a",
   "metadata": {},
   "outputs": [
    {
     "name": "stdout",
     "output_type": "stream",
     "text": [
      "True\n"
     ]
    }
   ],
   "source": [
    "# Example: 02\n",
    "nums2 = [3, 1, 4, 2]\n",
    "print(find_132_pattern(nums2))  # Output: True"
   ]
  },
  {
   "cell_type": "code",
   "execution_count": 37,
   "id": "0fc8b723",
   "metadata": {},
   "outputs": [
    {
     "name": "stdout",
     "output_type": "stream",
     "text": [
      "True\n"
     ]
    }
   ],
   "source": [
    "# Example: 03\n",
    "nums3 = [-1, 3, 2, 0]\n",
    "print(find_132_pattern(nums3))  # Output: True"
   ]
  },
  {
   "cell_type": "code",
   "execution_count": null,
   "id": "76bc1e0b",
   "metadata": {},
   "outputs": [],
   "source": []
  }
 ],
 "metadata": {
  "kernelspec": {
   "display_name": "Python 3 (ipykernel)",
   "language": "python",
   "name": "python3"
  },
  "language_info": {
   "codemirror_mode": {
    "name": "ipython",
    "version": 3
   },
   "file_extension": ".py",
   "mimetype": "text/x-python",
   "name": "python",
   "nbconvert_exporter": "python",
   "pygments_lexer": "ipython3",
   "version": "3.9.16"
  }
 },
 "nbformat": 4,
 "nbformat_minor": 5
}
