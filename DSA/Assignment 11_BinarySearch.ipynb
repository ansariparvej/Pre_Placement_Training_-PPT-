{
 "cells": [
  {
   "cell_type": "markdown",
   "id": "5d6fb39c",
   "metadata": {},
   "source": [
    "**Question 1**\n",
    "- Given a non-negative integer x , return the square root\n",
    "of x rounded down to the nearest integer. The returned\n",
    "integer should be non-negative as well.\n",
    "You must not use any built-in exponent function or operator.\n",
    "• For example, do not use pow(x, 0.5) in c++ or x **\n",
    "0.5 in python.\n",
    "- Example 1:\n",
    "Input: x = 4 Output: 2 Explanation: The square r\n",
    "oot of 4 is 2, so we return 2.\n",
    "- Example 2:\n",
    "Input: x = 8 Output: 2 Explanation: The square r\n",
    "oot of 8 is 2.82842..., and since we round it do\n",
    "wn to the nearest integer, 2 is returned."
   ]
  },
  {
   "cell_type": "code",
   "execution_count": 1,
   "id": "bd6a7639",
   "metadata": {},
   "outputs": [
    {
     "name": "stdout",
     "output_type": "stream",
     "text": [
      "2\n",
      "2\n"
     ]
    }
   ],
   "source": [
    "def sqrt(x):\n",
    "    if x == 0 or x == 1:\n",
    "        return x\n",
    "\n",
    "    start = 1\n",
    "    end = x\n",
    "    result = 0\n",
    "\n",
    "    while start <= end:\n",
    "        mid = (start + end) // 2\n",
    "\n",
    "        if mid * mid == x:\n",
    "            return mid\n",
    "\n",
    "        if mid * mid < x:\n",
    "            start = mid + 1\n",
    "            result = mid\n",
    "        else:\n",
    "            end = mid - 1\n",
    "\n",
    "    return result\n",
    "\n",
    "# Givane Use Case:\n",
    "print(sqrt(4))  # Output: 2\n",
    "print(sqrt(8))  # Output: 2"
   ]
  },
  {
   "cell_type": "markdown",
   "id": "c791bac9",
   "metadata": {},
   "source": [
    "**Question 2**\n",
    "- A peak element is an element that is strictly greater than its\n",
    "neighbors.\n",
    "Given a 0-indexed integer array nums , ﬁnd a peak element,\n",
    "and return its index. If the array contains multiple peaks, return\n",
    "the index to any of the peaks.\n",
    "You may imagine that nums[-1] = nums[n] = -∞ . In other\n",
    "words, an element is always considered to be strictly greater\n",
    "than a neighbor that is outside the array.\n",
    "You must write an algorithm that runs in O(log n) time.\n",
    "- Example 1:Input: nums = [1,2,3,1] Output: 2 Explanation: 3\n",
    "is a peak element and your function should retur\n",
    "n the index number 2.\n",
    "- Example 2:\n",
    "Input: nums = [1,2,1,3,5,6,4] Output: 5 Explanat\n",
    "ion: Your function can return either index numbe\n",
    "r 1 where the peak element is 2, or index number\n",
    "5 where the peak element is 6."
   ]
  },
  {
   "cell_type": "code",
   "execution_count": 2,
   "id": "eca3ce83",
   "metadata": {},
   "outputs": [
    {
     "name": "stdout",
     "output_type": "stream",
     "text": [
      "2\n",
      "5\n"
     ]
    }
   ],
   "source": [
    "def find_peak_element(nums):\n",
    "    start = 0\n",
    "    end = len(nums) - 1\n",
    "\n",
    "    while start < end:\n",
    "        mid = start + (end - start) // 2\n",
    "\n",
    "        if nums[mid] < nums[mid + 1]:\n",
    "            start = mid + 1\n",
    "        else:\n",
    "            end = mid\n",
    "\n",
    "    return start\n",
    "\n",
    "# Given Use Case:\n",
    "print(find_peak_element([1, 2, 3, 1]))           # Output: 2\n",
    "print(find_peak_element([1, 2, 1, 3, 5, 6, 4]))  # Output: 5"
   ]
  },
  {
   "cell_type": "markdown",
   "id": "fe14ee64",
   "metadata": {},
   "source": [
    "**Question 3**\n",
    "- Given an array nums containing n distinct numbers in the\n",
    "range [0, n] , return the only number in the range that is\n",
    "missing from the array.\n",
    "- Example 1:\n",
    "Input: nums = [3,0,1] Output: 2 Explanation: n =\n",
    "3 since there are 3 numbers, so all numbers are\n",
    "in the range [0,3]. 2 is the missing number in the range since it does not appear in nums.\n",
    "- Example 2:\n",
    "Input: nums = [0,1] Output: 2 Explanation: n = 2\n",
    "since there are 2 numbers, so all numbers are in\n",
    "the range [0,2]. 2 is the missing number in the\n",
    "range since it does not appear in nums.\n",
    "- Example 3:Input: nums = [9,6,4,2,3,5,7,0,1] Output: 8 Expl\n",
    "anation: n = 9 since there are 9 numbers, so all\n",
    "numbers are in the range [0,9]. 8 is the missing\n",
    "number in the range since it does not appear in\n",
    "nums."
   ]
  },
  {
   "cell_type": "code",
   "execution_count": 3,
   "id": "2965835e",
   "metadata": {},
   "outputs": [
    {
     "name": "stdout",
     "output_type": "stream",
     "text": [
      "2\n",
      "2\n",
      "8\n"
     ]
    }
   ],
   "source": [
    "def missing_number(nums):\n",
    "    n = len(nums)\n",
    "    expected_sum = (n * (n + 1)) // 2\n",
    "    actual_sum = sum(nums)\n",
    "    return expected_sum - actual_sum\n",
    "\n",
    "# Given Use Case:\n",
    "print(missing_number([3, 0, 1]))  # Output: 2\n",
    "print(missing_number([0, 1]))     # Output: 2\n",
    "print(missing_number([9, 6, 4, 2, 3, 5, 7, 0, 1]))  # Output: 8"
   ]
  },
  {
   "cell_type": "markdown",
   "id": "c3791e5a",
   "metadata": {},
   "source": [
    "**Question 4**\n",
    "- Given an array of integers nums containing n + 1 integers\n",
    "where each integer is in the range [1, n] inclusive.\n",
    "There is only one repeated number in nums ,\n",
    "return this repeated number.\n",
    "You must solve the problem without modifying the\n",
    "array nums and uses only constant extra space.\n",
    "- Example 1:\n",
    "Input: nums = [1,3,4,2,2] Output: 2\n",
    "- Example 2:\n",
    "Input: nums = [3,1,3,4,2] Output: 3"
   ]
  },
  {
   "cell_type": "code",
   "execution_count": 4,
   "id": "7891cbcc",
   "metadata": {},
   "outputs": [
    {
     "name": "stdout",
     "output_type": "stream",
     "text": [
      "2\n",
      "3\n"
     ]
    }
   ],
   "source": [
    "def find_duplicate(nums):\n",
    "    slow = nums[0]\n",
    "    fast = nums[0]\n",
    "\n",
    "    # Move slow pointer one step and fast pointer two steps at a time\n",
    "    while True:\n",
    "        slow = nums[slow]\n",
    "        fast = nums[nums[fast]]\n",
    "        if slow == fast:\n",
    "            break\n",
    "\n",
    "    # Move slow pointer to the start of the array\n",
    "    slow = nums[0]\n",
    "\n",
    "    # Move slow and fast pointers one step at a time until they meet\n",
    "    while slow != fast:\n",
    "        slow = nums[slow]\n",
    "        fast = nums[fast]\n",
    "\n",
    "    return slow\n",
    "\n",
    "\n",
    "# Given Use Case:\n",
    "\n",
    "print(find_duplicate([1, 3, 4, 2, 2]))  # Output: 2\n",
    "print(find_duplicate([3, 1, 3, 4, 2]))  # Output: 3"
   ]
  },
  {
   "cell_type": "markdown",
   "id": "5c3a6544",
   "metadata": {},
   "source": [
    "**Question 5**\n",
    "- Given two integer arrays nums1 and nums2 , return an array\n",
    "of their intersection. Each element in the result must\n",
    "be unique and you may return the result in any order.\n",
    "- Example 1:\n",
    "Input: nums1 = [1,2,2,1], nums2 = [2,2] Output:\n",
    "[2]\n",
    "- Example 2:Input: nums1 = [4,9,5], nums2 = [9,4,9,8,4] Outp\n",
    "ut: [9,4] Explanation: [4,9] is also accepted."
   ]
  },
  {
   "cell_type": "code",
   "execution_count": 5,
   "id": "4da2e58c",
   "metadata": {},
   "outputs": [
    {
     "name": "stdout",
     "output_type": "stream",
     "text": [
      "[2]\n",
      "[9, 4]\n"
     ]
    }
   ],
   "source": [
    "def intersection(nums1, nums2):\n",
    "    set1 = set(nums1)\n",
    "    result = set()\n",
    "\n",
    "    for num in nums2:\n",
    "        if num in set1:\n",
    "            result.add(num)\n",
    "\n",
    "    return list(result)\n",
    "\n",
    "# Given Use Case:\n",
    "print(intersection([1, 2, 2, 1], [2, 2]))                 # Output: [2]\n",
    "print(intersection([4, 9, 5], [9, 4, 9, 8, 4]))          # Output: [9, 4]"
   ]
  },
  {
   "cell_type": "markdown",
   "id": "a8b91bd5",
   "metadata": {},
   "source": [
    "**Question 6**\n",
    "- Suppose an array of length n sorted in ascending order\n",
    "is rotated between 1 and n times. For example, the\n",
    "array nums = [0,1,2,4,5,6,7] might become:\n",
    "- [4,5,6,7,0,1,2] if it was rotated 4 times.\n",
    "- [0,1,2,4,5,6,7] if it was rotated 7 times.\n",
    "- Notice that rotating an array [a[0], a[1], a[2], ...,\n",
    "a[n-1]] 1 time results in the array [a[n-1], a[0], a[1],\n",
    "a[2], ..., a[n-2]] .\n",
    "- Given the sorted rotated array nums of unique elements,\n",
    "return the minimum element of this array.\n",
    "You must write an algorithm that runs in O(log n) time.\n",
    "- Example 1:\n",
    "Input: nums = [3,4,5,1,2] Output: 1 Explanation:\n",
    "The original array was [1,2,3,4,5] rotated 3 tim\n",
    "es.\n",
    "- Example 2:\n",
    "Input: nums = [4,5,6,7,0,1,2] Output: 0 Explanat\n",
    "ion: The original array was [0,1,2,4,5,6,7] and\n",
    "it was rotated 4 times.\n",
    "- Example 3:\n",
    "Input: nums = [11,13,15,17] Output: 11 Explanati\n",
    "on: The original array was [11,13,15,17] and it\n",
    "was rotated 4 times."
   ]
  },
  {
   "cell_type": "code",
   "execution_count": 6,
   "id": "454ace0e",
   "metadata": {},
   "outputs": [
    {
     "name": "stdout",
     "output_type": "stream",
     "text": [
      "1\n",
      "0\n",
      "11\n"
     ]
    }
   ],
   "source": [
    "def find_min(nums):\n",
    "    start = 0\n",
    "    end = len(nums) - 1\n",
    "\n",
    "    while start < end:\n",
    "        mid = start + (end - start) // 2\n",
    "\n",
    "        if nums[mid] > nums[end]:\n",
    "            start = mid + 1\n",
    "        else:\n",
    "            end = mid\n",
    "\n",
    "    return nums[start]\n",
    "\n",
    "# Given Use Case:\n",
    "print(find_min([3, 4, 5, 1, 2]))          # Output: 1\n",
    "print(find_min([4, 5, 6, 7, 0, 1, 2]))    # Output: 0\n",
    "print(find_min([11, 13, 15, 17]))         # Output: 11"
   ]
  },
  {
   "cell_type": "markdown",
   "id": "ebdd143a",
   "metadata": {},
   "source": [
    "**Question 7**\n",
    "- Given an array of integers nums sorted in non-decreasing\n",
    "order, ﬁnd the starting and ending position of a\n",
    "given target value.\n",
    "If target is not found in the array, return [-1, -1] .\n",
    "You must write an algorithm with O(log n) runtime\n",
    "complexity.\n",
    "- Example 1:\n",
    "Input: nums = [5,7,7,8,8,10], target = 8 Output:\n",
    "[3,4]\n",
    "- Example 2:\n",
    "Input: nums = [5,7,7,8,8,10], target = 6 Output:\n",
    "[-1,-1]\n",
    "- Example 3:\n",
    "Input: nums = [], target = 0 Output: [-1,-1]"
   ]
  },
  {
   "cell_type": "code",
   "execution_count": 7,
   "id": "717d830f",
   "metadata": {},
   "outputs": [
    {
     "name": "stdout",
     "output_type": "stream",
     "text": [
      "[3, 4]\n",
      "[-1, -1]\n",
      "[-1, -1]\n"
     ]
    }
   ],
   "source": [
    "def search_range(nums, target):\n",
    "    left = find_left_position(nums, target)\n",
    "    right = find_right_position(nums, target)\n",
    "\n",
    "    return [left, right]\n",
    "\n",
    "def find_left_position(nums, target):\n",
    "    left = 0\n",
    "    right = len(nums) - 1\n",
    "    position = -1\n",
    "\n",
    "    while left <= right:\n",
    "        mid = left + (right - left) // 2\n",
    "\n",
    "        if nums[mid] == target:\n",
    "            position = mid\n",
    "            right = mid - 1\n",
    "        elif nums[mid] < target:\n",
    "            left = mid + 1\n",
    "        else:\n",
    "            right = mid - 1\n",
    "\n",
    "    return position\n",
    "\n",
    "def find_right_position(nums, target):\n",
    "    left = 0\n",
    "    right = len(nums) - 1\n",
    "    position = -1\n",
    "\n",
    "    while left <= right:\n",
    "        mid = left + (right - left) // 2\n",
    "\n",
    "        if nums[mid] == target:\n",
    "            position = mid\n",
    "            left = mid + 1\n",
    "        elif nums[mid] < target:\n",
    "            left = mid + 1\n",
    "        else:\n",
    "            right = mid - 1\n",
    "\n",
    "    return position\n",
    "\n",
    "# Given Use Case:\n",
    "print(search_range([5, 7, 7, 8, 8, 10], 8))    # Output: [3, 4]\n",
    "print(search_range([5, 7, 7, 8, 8, 10], 6))    # Output: [-1, -1]\n",
    "print(search_range([], 0))                     # Output: [-1, -1]"
   ]
  },
  {
   "cell_type": "markdown",
   "id": "f59efeb4",
   "metadata": {},
   "source": [
    "**Question 8**\n",
    "- Given two integer arrays nums1 and nums2 , return an array\n",
    "of their intersection. Each element in the result must appear\n",
    "as many times as it shows in both arrays and you may return\n",
    "the result in any order.\n",
    "- Example 1:Input: nums1 = [1,2,2,1], nums2 = [2,2] Output:\n",
    "[2,2]\n",
    "- Example 2:\n",
    "Input: nums1 = [4,9,5], nums2 = [9,4,9,8,4] Outp\n",
    "ut: [4,9] Explanation: [9,4] is also accepted."
   ]
  },
  {
   "cell_type": "code",
   "execution_count": 8,
   "id": "c600d7de",
   "metadata": {},
   "outputs": [
    {
     "name": "stdout",
     "output_type": "stream",
     "text": [
      "[2, 2]\n",
      "[9, 4]\n"
     ]
    }
   ],
   "source": [
    "from collections import Counter\n",
    "\n",
    "def intersect(nums1, nums2):\n",
    "    counter1 = Counter(nums1)\n",
    "    result = []\n",
    "\n",
    "    for num in nums2:\n",
    "        if num in counter1 and counter1[num] > 0:\n",
    "            result.append(num)\n",
    "            counter1[num] -= 1\n",
    "\n",
    "    return result\n",
    "\n",
    "# Given Use Case:\n",
    "print(intersect([1, 2, 2, 1], [2, 2]))                 # Output: [2, 2]\n",
    "print(intersect([4, 9, 5], [9, 4, 9, 8, 4]))          # Output: [4, 9]"
   ]
  },
  {
   "cell_type": "code",
   "execution_count": null,
   "id": "e9a69bec",
   "metadata": {},
   "outputs": [],
   "source": []
  }
 ],
 "metadata": {
  "kernelspec": {
   "display_name": "Python 3 (ipykernel)",
   "language": "python",
   "name": "python3"
  },
  "language_info": {
   "codemirror_mode": {
    "name": "ipython",
    "version": 3
   },
   "file_extension": ".py",
   "mimetype": "text/x-python",
   "name": "python",
   "nbconvert_exporter": "python",
   "pygments_lexer": "ipython3",
   "version": "3.9.16"
  }
 },
 "nbformat": 4,
 "nbformat_minor": 5
}
