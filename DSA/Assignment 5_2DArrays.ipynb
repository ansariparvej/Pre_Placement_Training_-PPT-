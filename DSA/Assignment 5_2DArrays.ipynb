{
 "cells": [
  {
   "cell_type": "markdown",
   "id": "7d122f9c",
   "metadata": {},
   "source": [
    "**Question 1**\n",
    "Convert 1D Array Into 2D Array\n",
    "You are given a 0-indexed 1-dimensional (1D) integer array\n",
    "original, and two integers, m and n. You are tasked with\n",
    "creating a 2-dimensional (2D) array with m rows and n\n",
    "columns using all the elements from original.\n",
    "The elements from indices 0 to n - 1 (inclusive) of original\n",
    "should form the ﬁrst row of the constructed 2D array, the\n",
    "elements from indices n to 2 * n - 1 (inclusive) should form\n",
    "the second row of the constructed 2D array, and so on.\n",
    "Return an m x n 2D array constructed according to the above\n",
    "procedure, or an empty 2D array if it is impossible.\n",
    "- Example 1:\n",
    "Input: original = [1,2,3,4], m = 2, n = 2\n",
    "Output: [[1,2],[3,4]]\n",
    "- Explanation: The constructed 2D array should contain 2 rows\n",
    "and 2 columns.\n",
    "The ﬁrst group of n=2 elements in original, [1,2], becomes the\n",
    "ﬁrst row in the constructed 2D array.\n",
    "The second group of n=2 elements in original, [3,4], becomes\n",
    "the second row in the constructed 2D array."
   ]
  },
  {
   "cell_type": "code",
   "execution_count": 1,
   "id": "d733bfb7",
   "metadata": {},
   "outputs": [
    {
     "name": "stdout",
     "output_type": "stream",
     "text": [
      "[[1, 2], [3, 4]]\n"
     ]
    }
   ],
   "source": [
    "def construct_2Darray(original, m, n):\n",
    "    if len(original) != m * n:\n",
    "        return []\n",
    "\n",
    "    result = []\n",
    "    for i in range(m):\n",
    "        row = original[i * n : (i + 1) * n]\n",
    "        result.append(row)\n",
    "\n",
    "    return result\n",
    "\n",
    "# Use Case:\n",
    "original = [1, 2, 3, 4]\n",
    "m = 2\n",
    "n = 2\n",
    "output = construct_2Darray(original, m, n)\n",
    "print(output)"
   ]
  },
  {
   "cell_type": "markdown",
   "id": "3c90b11b",
   "metadata": {},
   "source": [
    "**Question 2**\n",
    "You have n coins and you want to build a staircase with these\n",
    "coins. The staircase consists of k rows where the ith row has\n",
    "exactly i coins. The last row of the staircase may be\n",
    "incomplete.\n",
    "Given the integer n, return the number of complete rows of\n",
    "the staircase you will build.\n",
    "- Example 1:\n",
    "Input: n = 5\n",
    "Output: 2\n",
    "- Explanation: Because the 3rd row is incomplete, we return 2."
   ]
  },
  {
   "cell_type": "code",
   "execution_count": 2,
   "id": "4f7f7d8b",
   "metadata": {},
   "outputs": [
    {
     "name": "stdout",
     "output_type": "stream",
     "text": [
      "2\n"
     ]
    }
   ],
   "source": [
    "def arrange_coins(n):\n",
    "    left, right = 0, n\n",
    "    while left <= right:\n",
    "        mid = left + (right - left) // 2\n",
    "        coins_needed = mid * (mid + 1) // 2\n",
    "        if coins_needed == n:\n",
    "            return mid\n",
    "        elif coins_needed < n:\n",
    "            left = mid + 1\n",
    "        else:\n",
    "            right = mid - 1\n",
    "    return right\n",
    "\n",
    "# Use Case:\n",
    "n = 5\n",
    "output = arrange_coins(n)\n",
    "print(output)"
   ]
  },
  {
   "cell_type": "markdown",
   "id": "3bb209e0",
   "metadata": {},
   "source": [
    "**Question 3**\n",
    "Given an integer array nums sorted in non-decreasing order,\n",
    "return an array of the squares of each number sorted in non-\n",
    "decreasing order.\n",
    "- Example 1:\n",
    "Input: nums = [-4,-1,0,3,10]\n",
    "Output: [0,1,9,16,100]\n",
    "- Explanation: After squaring, the array becomes\n",
    "[16,1,0,9,100].\n",
    "After sorting, it becomes [0,1,9,16,100]."
   ]
  },
  {
   "cell_type": "code",
   "execution_count": 4,
   "id": "74cb01e8",
   "metadata": {},
   "outputs": [
    {
     "name": "stdout",
     "output_type": "stream",
     "text": [
      "[0, 1, 9, 16, 100]\n"
     ]
    }
   ],
   "source": [
    "def sorted_squares(nums):\n",
    "    result = []\n",
    "    for num in nums:\n",
    "        result.append(num * num)\n",
    "    result.sort()\n",
    "    return result\n",
    "\n",
    "# Use Case:\n",
    "nums = [-4, -1, 0, 3, 10]\n",
    "output = sorted_squares(nums)\n",
    "print(output)"
   ]
  },
  {
   "cell_type": "markdown",
   "id": "34074e84",
   "metadata": {},
   "source": [
    "**Question 4**\n",
    "Given two 0-indexed integer arrays nums1 and nums2, return\n",
    "a list answer of size 2 where:\n",
    "- answer[0] is a list of all distinct integers in nums1 which\n",
    "are not present in nums2.\n",
    "- answer[1] is a list of all distinct integers in nums2 which\n",
    "are not present in nums1.\n",
    "Note that the integers in the lists may be returned in any\n",
    "order.\n",
    "- Example 1:\n",
    "Input: nums1 = [1,2,3], nums2 = [2,4,6]\n",
    "Output: [[1,3],[4,6]]\n",
    "- Explanation:\n",
    "For nums1, nums1[1] = 2 is present at index 0 of nums2,\n",
    "whereas nums1[0] = 1 and nums1[2] = 3 are not present in\n",
    "nums2. Therefore, answer[0] = [1,3].\n",
    "For nums2, nums2[0] = 2 is present at index 1 of nums1,\n",
    "whereas nums2[1] = 4 and nums2[2] = 6 are not present in\n",
    "nums2. Therefore, answer[1] = [4,6]."
   ]
  },
  {
   "cell_type": "code",
   "execution_count": 5,
   "id": "2e9823c8",
   "metadata": {},
   "outputs": [
    {
     "name": "stdout",
     "output_type": "stream",
     "text": [
      "[[1, 3], [4, 6]]\n"
     ]
    }
   ],
   "source": [
    "def find_disappeared_numbers(nums1, nums2):\n",
    "    set_nums1 = set(nums1)\n",
    "    set_nums2 = set(nums2)\n",
    "    \n",
    "    distinct_nums1 = list(set_nums1 - set_nums2)\n",
    "    distinct_nums2 = list(set_nums2 - set_nums1)\n",
    "    \n",
    "    answer = [distinct_nums1, distinct_nums2]\n",
    "    return answer\n",
    "\n",
    "# Use Case:\n",
    "nums1 = [1, 2, 3]\n",
    "nums2 = [2, 4, 6]\n",
    "output = find_disappeared_numbers(nums1, nums2)\n",
    "print(output)"
   ]
  },
  {
   "cell_type": "markdown",
   "id": "96ddb24a",
   "metadata": {},
   "source": [
    "**Question 5**\n",
    "Given two integer arrays arr1 and arr2, and the integer d,\n",
    "return the distance value between the two arrays.\n",
    "The distance value is deﬁned as the number of elements\n",
    "arr1[i] such that there is not any element arr2[j] where |arr1[i]-\n",
    "arr2[j]| <= d.\n",
    "- Example 1:\n",
    "Input: arr1 = [4,5,8], arr2 = [10,9,1,8], d = 2 Output: 2\n",
    "- Explanation:\n",
    "- For arr1[0]=4 we have:\n",
    "|4-10|=6 > d=2\n",
    "|4-9|=5 > d=2\n",
    "|4-1|=3 > d=2\n",
    "|4-8|=4 > d=2\n",
    "- For arr1[1]=5 we have:\n",
    "|5-10|=5 > d=2\n",
    "|5-9|=4 > d=2\n",
    "|5-1|=4 > d=2\n",
    "|5-8|=3 > d=2\n",
    "- For arr1[2]=8 we have:\n",
    "|8-10|=2 <= d=2\n",
    "|8-9|=1 <= d=2\n",
    "|8-1|=7 > d=2\n",
    "|8-8|=0 <= d=2"
   ]
  },
  {
   "cell_type": "code",
   "execution_count": 6,
   "id": "f27faf4c",
   "metadata": {},
   "outputs": [
    {
     "name": "stdout",
     "output_type": "stream",
     "text": [
      "2\n"
     ]
    }
   ],
   "source": [
    "def find_distance_value(arr1, arr2, d):\n",
    "    distance_value = 0\n",
    "\n",
    "    for num1 in arr1:\n",
    "        valid = True\n",
    "        for num2 in arr2:\n",
    "            if abs(num1 - num2) <= d:\n",
    "                valid = False\n",
    "                break\n",
    "        if valid:\n",
    "            distance_value += 1\n",
    "\n",
    "    return distance_value\n",
    "\n",
    "# Use Case:\n",
    "arr1 = [4, 5, 8]\n",
    "arr2 = [10, 9, 1, 8]\n",
    "d = 2\n",
    "output = find_distance_value(arr1, arr2, d)\n",
    "print(output)"
   ]
  },
  {
   "cell_type": "markdown",
   "id": "6da0aa2d",
   "metadata": {},
   "source": [
    "**Question 6**\n",
    "Given an integer array nums of length n where all the integers\n",
    "of nums are in the range [1, n] and each integer appears once\n",
    "or twice, return an array of all the integers that appears twice.\n",
    "You must write an algorithm that runs in O(n) time and uses\n",
    "only constant extra space.\n",
    "- Example 1:\n",
    "Input: nums = [4,3,2,7,8,2,3,1]\n",
    "Output:\n",
    "[2,3]"
   ]
  },
  {
   "cell_type": "code",
   "execution_count": 7,
   "id": "c8a356bd",
   "metadata": {},
   "outputs": [
    {
     "name": "stdout",
     "output_type": "stream",
     "text": [
      "[2, 3]\n"
     ]
    }
   ],
   "source": [
    "def find_duplicates(nums):\n",
    "    result = []\n",
    "\n",
    "    for num in nums:\n",
    "        index = abs(num) - 1\n",
    "        if nums[index] < 0:\n",
    "            result.append(abs(num))\n",
    "        else:\n",
    "            nums[index] = -nums[index]\n",
    "\n",
    "    return result\n",
    "\n",
    "# Use Case:\n",
    "nums = [4, 3, 2, 7, 8, 2, 3, 1]\n",
    "output = find_duplicates(nums)\n",
    "print(output)"
   ]
  },
  {
   "cell_type": "markdown",
   "id": "7dbb11ac",
   "metadata": {},
   "source": [
    "**Question 7**\n",
    "Suppose an array of length n sorted in ascending order is\n",
    "rotated between 1 and n times. For example, the array nums\n",
    "= [0,1,2,4,5,6,7] might become:\n",
    "- [4,5,6,7,0,1,2] if it was rotated 4 times.\n",
    "- [0,1,2,4,5,6,7] if it was rotated 7 times.\n",
    "Notice that rotating an array [a[0], a[1], a[2], ..., a[n-1]] 1 time\n",
    "results in the array [a[n-1], a[0], a[1], a[2], ..., a[n-2]].\n",
    "Given the sorted rotated array nums of unique elements,\n",
    "return the minimum element of this array.\n",
    "You must write an algorithm that runs in O(log n) time.\n",
    "- Example 1:\n",
    "Input: nums = [3,4,5,1,2]\n",
    "Output: 1\n",
    "- Explanation:\n",
    "The original array was [1,2,3,4,5] rotated 3 times."
   ]
  },
  {
   "cell_type": "code",
   "execution_count": 8,
   "id": "c82b1b57",
   "metadata": {},
   "outputs": [
    {
     "name": "stdout",
     "output_type": "stream",
     "text": [
      "1\n"
     ]
    }
   ],
   "source": [
    "def find_min(nums):\n",
    "    left = 0\n",
    "    right = len(nums) - 1\n",
    "\n",
    "    while left < right:\n",
    "        mid = left + (right - left) // 2\n",
    "\n",
    "        if nums[mid] > nums[right]:\n",
    "            left = mid + 1\n",
    "        else:\n",
    "            right = mid\n",
    "\n",
    "    return nums[left]\n",
    "\n",
    "# Use Case:\n",
    "nums = [3, 4, 5, 1, 2]\n",
    "output = find_min(nums)\n",
    "print(output)"
   ]
  },
  {
   "cell_type": "markdown",
   "id": "0756d19a",
   "metadata": {},
   "source": [
    "**Question 8**\n",
    "An integer array original is transformed into a doubled array\n",
    "changed by appending twice the value of every element in\n",
    "original, and then randomly shuﬄing the resulting array.\n",
    "Given an array changed, return original if changed is a\n",
    "doubled array. If changed is not a doubled array, return an\n",
    "empty array. The elements in original may be returned in any\n",
    "order.\n",
    "- Example 1:\n",
    "Input: changed = [1,3,4,2,6,8]\n",
    "Output: [1,3,4]\n",
    "- Explanation: One possible original array could be [1,3,4]:\n",
    "- Twice the value of 1 is 1 * 2 = 2.\n",
    "- Twice the value of 3 is 3 * 2 = 6.\n",
    "- Twice the value of 4 is 4 * 2 = 8.\n",
    "- Other original arrays could be [4,3,1] or [3,1,4]."
   ]
  },
  {
   "cell_type": "code",
   "execution_count": 9,
   "id": "8a6406ab",
   "metadata": {},
   "outputs": [
    {
     "name": "stdout",
     "output_type": "stream",
     "text": [
      "[1, 3, 4]\n"
     ]
    }
   ],
   "source": [
    "def find_original_array(changed):\n",
    "    if len(changed) % 2 != 0:\n",
    "        return []\n",
    "\n",
    "    original = []\n",
    "    freq_map = {}\n",
    "\n",
    "    for num in changed:\n",
    "        freq_map[num] = freq_map.get(num, 0) + 1\n",
    "\n",
    "    for num in sorted(changed):\n",
    "        if freq_map[num] > 0 and freq_map.get(2 * num, 0) > 0:\n",
    "            original.append(num)\n",
    "            freq_map[num] -= 1\n",
    "            freq_map[2 * num] -= 1\n",
    "\n",
    "    if sum(freq_map.values()) > 0:\n",
    "        return []\n",
    "\n",
    "    return original\n",
    "\n",
    "# Use Case:\n",
    "changed = [1, 3, 4, 2, 6, 8]\n",
    "output = find_original_array(changed)\n",
    "print(output)"
   ]
  },
  {
   "cell_type": "code",
   "execution_count": null,
   "id": "b7f20f08",
   "metadata": {},
   "outputs": [],
   "source": []
  }
 ],
 "metadata": {
  "kernelspec": {
   "display_name": "Python 3 (ipykernel)",
   "language": "python",
   "name": "python3"
  },
  "language_info": {
   "codemirror_mode": {
    "name": "ipython",
    "version": 3
   },
   "file_extension": ".py",
   "mimetype": "text/x-python",
   "name": "python",
   "nbconvert_exporter": "python",
   "pygments_lexer": "ipython3",
   "version": "3.9.16"
  }
 },
 "nbformat": 4,
 "nbformat_minor": 5
}
